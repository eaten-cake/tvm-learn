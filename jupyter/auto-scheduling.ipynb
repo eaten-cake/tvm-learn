{
 "cells": [
  {
   "cell_type": "code",
   "execution_count": 1,
   "id": "91c2b1a8-8727-47e2-94ae-293b22857ef0",
   "metadata": {},
   "outputs": [],
   "source": [
    "import os\n",
    "\n",
    "import numpy as np\n",
    "import tvm\n",
    "from tvm import te, auto_scheduler"
   ]
  },
  {
   "cell_type": "code",
   "execution_count": 2,
   "id": "841f35bd-9bb3-485b-a3c9-af476227e08b",
   "metadata": {},
   "outputs": [],
   "source": [
    "@auto_scheduler.register_workload  # Note the auto_scheduler decorator\n",
    "def matmul_add(N, L, M, dtype):\n",
    "    A = te.placeholder((N, L), name=\"A\", dtype=dtype)\n",
    "    B = te.placeholder((L, M), name=\"B\", dtype=dtype)\n",
    "    C = te.placeholder((N, M), name=\"C\", dtype=dtype)\n",
    "\n",
    "    k = te.reduce_axis((0, L), name=\"k\")\n",
    "    matmul = te.compute(\n",
    "        (N, M),\n",
    "        lambda i, j: te.sum(A[i, k] * B[k, j], axis=k),\n",
    "        name=\"matmul\",\n",
    "        attrs={\"layout_free_placeholders\": [B]},  # enable automatic layout transform for tensor B\n",
    "    )\n",
    "    out = te.compute((N, M), lambda i, j: matmul[i, j] + C[i, j], name=\"out\")\n",
    "\n",
    "    return [A, B, C, out]"
   ]
  },
  {
   "cell_type": "code",
   "execution_count": 3,
   "id": "6b736193-45ed-48d0-a5f9-45ed6b379c5d",
   "metadata": {},
   "outputs": [],
   "source": [
    "A, B, C, out = matmul_add(1024, 1024, 1024, \"float32\")"
   ]
  },
  {
   "cell_type": "code",
   "execution_count": 10,
   "id": "4ec25925-8cfa-4f67-87f6-974011e644cb",
   "metadata": {},
   "outputs": [],
   "source": [
    "func = te.create_prim_func([A, B, C, out])\n",
    "mod = tvm.IRModule({\"main\": func})"
   ]
  },
  {
   "cell_type": "code",
   "execution_count": 22,
   "id": "3adaa97f-5f69-46e8-8c27-7ab4252944bd",
   "metadata": {},
   "outputs": [
    {
     "data": {
      "text/plain": [
       "tvm.auto_scheduler.search_task.SearchTask"
      ]
     },
     "execution_count": 22,
     "metadata": {},
     "output_type": "execute_result"
    }
   ],
   "source": [
    "type(task)"
   ]
  },
  {
   "cell_type": "code",
   "execution_count": null,
   "id": "09ee81f6-5e95-435c-b773-d7c10302fc58",
   "metadata": {},
   "outputs": [],
   "source": []
  },
  {
   "cell_type": "code",
   "execution_count": 20,
   "id": "bf7ee155-0a26-47b9-85bc-c7c3392b33a1",
   "metadata": {},
   "outputs": [
    {
     "name": "stdout",
     "output_type": "stream",
     "text": [
      "Computational DAG:\n",
      "A = PLACEHOLDER [1024, 1024]\n",
      "B = PLACEHOLDER [1024, 1024]\n",
      "matmul(i, j) += (A[i, k]*B[k, j])\n",
      "C = PLACEHOLDER [1024, 1024]\n",
      "out(i, j) = (matmul[i, j] + C[i, j])\n",
      "\n"
     ]
    }
   ],
   "source": [
    "target = tvm.target.Target(\"llvm\")\n",
    "N = L = M = 1024\n",
    "task = tvm.auto_scheduler.SearchTask(func=matmul_add, args=(N, L, M, \"float32\"), target=target)\n",
    "\n",
    "# 检查计算图\n",
    "print(\"Computational DAG:\")\n",
    "print(task.compute_dag)"
   ]
  },
  {
   "cell_type": "code",
   "execution_count": 24,
   "id": "1905b462-b06b-4c01-80bc-a0b810cfd13d",
   "metadata": {},
   "outputs": [],
   "source": [
    "log_file = \"matmul.json\"\n",
    "tune_option = auto_scheduler.TuningOptions(\n",
    "    num_measure_trials=10,\n",
    "    measure_callbacks=[auto_scheduler.RecordToFile(log_file)],\n",
    "    verbose=2,\n",
    ")"
   ]
  },
  {
   "cell_type": "code",
   "execution_count": 30,
   "id": "9f121c60-9781-421d-a0d7-b49017028558",
   "metadata": {},
   "outputs": [],
   "source": [
    "# tvm.lower(sch, args).show()"
   ]
  },
  {
   "cell_type": "code",
   "execution_count": 25,
   "id": "85804237-4618-448c-9167-b31cc8baf578",
   "metadata": {},
   "outputs": [
    {
     "name": "stdout",
     "output_type": "stream",
     "text": [
      "----------------------------------------------------------------------\n",
      "------------------------------  [ Search ]\n",
      "----------------------------------------------------------------------\n",
      "Generate Sketches\t\t#s: 3\n",
      "Sample Initial Population\t#s: 2019\tfail_ct: 2\tTime elapsed: 1.27\n",
      "GA Iter: 0\tMax score: 0.9995\tMin score: 0.9436\t#Pop: 128\t#M+: 0\t#M-: 0\n",
      "GA Iter: 4\tMax score: 0.9999\tMin score: 0.9881\t#Pop: 128\t#M+: 1377\t#M-: 72\n",
      "EvolutionarySearch\t\t#s: 128\tTime elapsed: 5.52\n",
      "----------------------------------------------------------------------\n",
      "------------------------------  [ Measure ]\n",
      "----------------------------------------------------------------------\n",
      "Get 10 programs to measure:\n",
      "..........**********\n",
      "==================================================\n",
      "No: 1\tGFLOPS: 142.02 / 142.02\tresults: MeasureResult(cost:[0.0151], error_no:0, all_cost:0.48, Tstamp:1733034685.47)\n",
      "==================================================\n",
      "Placeholder: A, B, C\n",
      "matmul auto_unroll: 16\n",
      "parallel i.0@j.0@ (0,512)\n",
      "  for i.1 (0,4)\n",
      "    for k.0 (0,512)\n",
      "      for i.2 (0,2)\n",
      "        for k.1 (0,2)\n",
      "          for i.3 (0,8)\n",
      "            vectorize j.3 (0,32)\n",
      "              matmul = ...\n",
      "parallel i (0,1024)\n",
      "  for j (0,1024)\n",
      "    out = ...\n",
      "\n",
      "==================================================\n",
      "No: 2\tGFLOPS: 110.43 / 142.02\tresults: MeasureResult(cost:[0.0195], error_no:0, all_cost:0.73, Tstamp:1733034685.88)\n",
      "==================================================\n",
      "Placeholder: A, B, C\n",
      "parallel i.0@j.0@ (0,64)\n",
      "  matmul auto_unroll: 64\n",
      "  for i.1 (0,2)\n",
      "    for j.1 (0,16)\n",
      "      for k.0 (0,512)\n",
      "        for j.2 (0,2)\n",
      "          for k.1 (0,2)\n",
      "            for i.3 (0,32)\n",
      "              vectorize j.3 (0,8)\n",
      "                matmul = ...\n",
      "  for i.1 (0,64)\n",
      "    for j.1 (0,256)\n",
      "      out = ...\n",
      "\n",
      "==================================================\n",
      "No: 3\tGFLOPS: 62.45 / 142.02\tresults: MeasureResult(cost:[0.0344], error_no:0, all_cost:0.46, Tstamp:1733034686.13)\n",
      "==================================================\n",
      "Placeholder: A, B, C\n",
      "parallel i.0@j.0@i.1@ (0,2048)\n",
      "  for j.1 (0,4)\n",
      "    for k.0 (0,128)\n",
      "      for j.2 (0,32)\n",
      "        for k.1 (0,8)\n",
      "          for i.3 (0,2)\n",
      "            vectorize j.3 (0,2)\n",
      "              matmul = ...\n",
      "parallel i (0,1024)\n",
      "  for j (0,1024)\n",
      "    out = ...\n",
      "\n",
      "==================================================\n",
      "No: 4\tGFLOPS: 184.53 / 184.53\tresults: MeasureResult(cost:[0.0116], error_no:0, all_cost:0.53, Tstamp:1733034686.37)\n",
      "==================================================\n",
      "Placeholder: A, B, C\n",
      "parallel i.0@j.0@ (0,16)\n",
      "  matmul auto_unroll: 64\n",
      "  for i.1 (0,32)\n",
      "    for j.1 (0,8)\n",
      "      for k.0 (0,64)\n",
      "        for i.2 (0,4)\n",
      "          for j.2 (0,4)\n",
      "            for k.1 (0,16)\n",
      "              vectorize j.3 (0,16)\n",
      "                matmul = ...\n",
      "  for i.1 (0,128)\n",
      "    for j.1 (0,512)\n",
      "      out = ...\n",
      "\n",
      "==================================================\n",
      "No: 5\tGFLOPS: 131.92 / 184.53\tresults: MeasureResult(cost:[0.0163], error_no:0, all_cost:0.66, Tstamp:1733034686.65)\n",
      "==================================================\n",
      "Placeholder: A, B, C\n",
      "parallel i.0@j.0@i.1@j.1@ (0,4)\n",
      "  matmul auto_unroll: 512\n",
      "  for k.0 (0,64)\n",
      "    for i.2 (0,64)\n",
      "      for j.2 (0,32)\n",
      "        for k.1 (0,16)\n",
      "          for i.3 (0,8)\n",
      "            vectorize j.3 (0,16)\n",
      "              matmul = ...\n",
      "  for i.2 (0,512)\n",
      "    for j.2 (0,512)\n",
      "      out = ...\n",
      "\n",
      "==================================================\n",
      "No: 6\tGFLOPS: 199.71 / 199.71\tresults: MeasureResult(cost:[0.0108], error_no:0, all_cost:0.58, Tstamp:1733034686.91)\n",
      "==================================================\n",
      "Placeholder: A, B, C\n",
      "parallel i.0@j.0@ (0,64)\n",
      "  matmul auto_unroll: 64\n",
      "  for j.1 (0,8)\n",
      "    for k.0 (0,128)\n",
      "      for i.2 (0,4)\n",
      "        for j.2 (0,128)\n",
      "          for k.1 (0,8)\n",
      "            for i.3 (0,4)\n",
      "              matmul = ...\n",
      "  for i.1 (0,16)\n",
      "    for j.1 (0,1024)\n",
      "      out = ...\n",
      "\n",
      "==================================================\n",
      "No: 7\tGFLOPS: 148.18 / 199.71\tresults: MeasureResult(cost:[0.0145], error_no:0, all_cost:0.47, Tstamp:1733034687.17)\n",
      "==================================================\n",
      "Placeholder: A, B, C\n",
      "matmul auto_unroll: 64\n",
      "parallel i.0@j.0@ (0,8192)\n",
      "  for k.0 (0,16)\n",
      "    for j.2 (0,2)\n",
      "      for k.1 (0,64)\n",
      "        for i.3 (0,16)\n",
      "          vectorize j.3 (0,4)\n",
      "            matmul = ...\n",
      "parallel i (0,1024)\n",
      "  for j (0,1024)\n",
      "    out = ...\n",
      "\n",
      "==================================================\n",
      "No: 8\tGFLOPS: 93.76 / 199.71\tresults: MeasureResult(cost:[0.0229], error_no:0, all_cost:0.50, Tstamp:1733034687.46)\n",
      "==================================================\n",
      "Placeholder: A, B, C\n",
      "parallel i.0@j.0@i.1@j.1@ (0,65536)\n",
      "  matmul auto_unroll: 64\n",
      "  for k.0 (0,512)\n",
      "    for i.2 (0,4)\n",
      "      for j.2 (0,2)\n",
      "        for k.1 (0,2)\n",
      "          for i.3 (0,2)\n",
      "            matmul = ...\n",
      "  for i.2 (0,8)\n",
      "    vectorize j.2 (0,2)\n",
      "      out = ...\n",
      "\n",
      "==================================================\n",
      "No: 9\tGFLOPS: 262.80 / 262.80\tresults: MeasureResult(cost:[0.0082], error_no:0, all_cost:0.72, Tstamp:1733034687.85)\n",
      "==================================================\n",
      "Placeholder: A, B, C\n",
      "matmul auto_unroll: 512\n",
      "parallel i.0@j.0@i.1@ (0,256)\n",
      "  for j.1 (0,16)\n",
      "    for k.0 (0,128)\n",
      "      for i.2 (0,4)\n",
      "        for j.2 (0,4)\n",
      "          for k.1 (0,8)\n",
      "            vectorize j.3 (0,16)\n",
      "              matmul = ...\n",
      "parallel i (0,1024)\n",
      "  for j (0,1024)\n",
      "    out = ...\n",
      "\n",
      "==================================================\n",
      "No: 10\tGFLOPS: 192.76 / 262.80\tresults: MeasureResult(cost:[0.0111], error_no:0, all_cost:0.44, Tstamp:1733034688.09)\n",
      "==================================================\n",
      "Placeholder: A, B, C\n",
      "parallel i.0@j.0@i.1@ (0,256)\n",
      "  for j.1 (0,2)\n",
      "    for k.0 (0,1024)\n",
      "      for j.2 (0,512)\n",
      "        for i.3 (0,4)\n",
      "          matmul = ...\n",
      "parallel i (0,1024)\n",
      "  for j (0,1024)\n",
      "    out = ...\n",
      "\n",
      "Time elapsed for measurement: 5.38 s\n",
      "----------------------------------------------------------------------\n",
      "------------------------------  [ Done ]\n",
      "----------------------------------------------------------------------\n"
     ]
    }
   ],
   "source": [
    "# 运行 auto-tuning（搜索）\n",
    "task.tune(tune_option)\n",
    "# 应用最佳 schedule\n",
    "sch, args = task.apply_best(log_file)"
   ]
  },
  {
   "cell_type": "code",
   "execution_count": 31,
   "id": "e1b395e0-ce6b-4c2f-8217-0e4ce5ff1552",
   "metadata": {},
   "outputs": [],
   "source": [
    "# tvm.lower(sch, args).show()"
   ]
  },
  {
   "cell_type": "code",
   "execution_count": 12,
   "id": "71dc2038-52e8-47ec-9112-0ac7cf297714",
   "metadata": {},
   "outputs": [
    {
     "name": "stdout",
     "output_type": "stream",
     "text": [
      "Execution time of this operator: 9.953 ms\n"
     ]
    }
   ],
   "source": [
    "func = tvm.build(sch, args, target)\n",
    "a_np = np.random.uniform(size=(N, L)).astype(np.float32)\n",
    "b_np = np.random.uniform(size=(L, M)).astype(np.float32)\n",
    "c_np = np.random.uniform(size=(N, M)).astype(np.float32)\n",
    "out_np = a_np.dot(b_np) + c_np\n",
    "\n",
    "dev = tvm.cpu()\n",
    "a_tvm = tvm.nd.array(a_np, device=dev)\n",
    "b_tvm = tvm.nd.array(b_np, device=dev)\n",
    "c_tvm = tvm.nd.array(c_np, device=dev)\n",
    "out_tvm = tvm.nd.empty(out_np.shape, device=dev)\n",
    "func(a_tvm, b_tvm, c_tvm, out_tvm)\n",
    "\n",
    "# Check results\n",
    "np.testing.assert_allclose(out_np, out_tvm.numpy(), rtol=1e-5)\n",
    "\n",
    "# Evaluate execution time.\n",
    "evaluator = func.time_evaluator(func.entry_name, dev, min_repeat_ms=500)\n",
    "print(\n",
    "    \"Execution time of this operator: %.3f ms\"\n",
    "    % (np.median(evaluator(a_tvm, b_tvm, c_tvm, out_tvm).results) * 1000)\n",
    ")"
   ]
  },
  {
   "cell_type": "code",
   "execution_count": null,
   "id": "8c55919d-c131-4eba-9e0c-2b65f9787ee9",
   "metadata": {},
   "outputs": [],
   "source": []
  },
  {
   "cell_type": "code",
   "execution_count": null,
   "id": "976b6692-4e4e-4074-9da5-28298887f88b",
   "metadata": {},
   "outputs": [],
   "source": []
  },
  {
   "cell_type": "code",
   "execution_count": null,
   "id": "6d891587-5ee9-40df-b4bf-0da81579a332",
   "metadata": {},
   "outputs": [],
   "source": []
  },
  {
   "cell_type": "code",
   "execution_count": null,
   "id": "4d46b362-91f1-4e92-8041-0b9c843fe176",
   "metadata": {},
   "outputs": [],
   "source": []
  }
 ],
 "metadata": {
  "kernelspec": {
   "display_name": "Python 3 (ipykernel)",
   "language": "python",
   "name": "python3"
  },
  "language_info": {
   "codemirror_mode": {
    "name": "ipython",
    "version": 3
   },
   "file_extension": ".py",
   "mimetype": "text/x-python",
   "name": "python",
   "nbconvert_exporter": "python",
   "pygments_lexer": "ipython3",
   "version": "3.8.19"
  }
 },
 "nbformat": 4,
 "nbformat_minor": 5
}
