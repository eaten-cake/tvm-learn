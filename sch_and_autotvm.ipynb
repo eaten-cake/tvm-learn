{
 "cells": [
  {
   "cell_type": "code",
   "execution_count": 1,
   "id": "7149a34d-5616-479e-bcc9-d9fe43f35070",
   "metadata": {},
   "outputs": [],
   "source": [
    "import logging\n",
    "import sys\n",
    "\n",
    "import numpy as np\n",
    "import tvm\n",
    "from tvm import te\n",
    "import tvm.testing\n",
    "\n",
    "# 模块名叫 `autotvm`\n",
    "from tvm import autotvm"
   ]
  },
  {
   "cell_type": "code",
   "execution_count": 2,
   "id": "7b201f4b-c296-450e-9721-541a11c7f9cd",
   "metadata": {},
   "outputs": [],
   "source": [
    "def matmul_basic(N, L, M, dtype):\n",
    "\n",
    "    A = te.placeholder((N, L), name=\"A\", dtype=dtype)\n",
    "    B = te.placeholder((L, M), name=\"B\", dtype=dtype)\n",
    "\n",
    "    k = te.reduce_axis((0, L), name=\"k\")\n",
    "    C = te.compute((N, M), lambda i, j: te.sum(A[i, k] * B[k, j], axis=k), name=\"C\")\n",
    "    s = te.create_schedule(C.op)\n",
    "\n",
    "    # 调度\n",
    "    y, x = s[C].op.axis\n",
    "    k = s[C].op.reduce_axis[0]\n",
    "\n",
    "    yo, yi = s[C].split(y, 8)\n",
    "    xo, xi = s[C].split(x, 8)\n",
    "\n",
    "    s[C].reorder(yo, xo, k, yi, xi)\n",
    "\n",
    "    return s, [A, B, C]"
   ]
  },
  {
   "cell_type": "code",
   "execution_count": 3,
   "id": "2d428bcd-aed3-4e07-a69a-722752f55e21",
   "metadata": {},
   "outputs": [],
   "source": [
    "s, [A, B, C] = matmul_basic(10, 10, 10, \"float32\")"
   ]
  },
  {
   "cell_type": "code",
   "execution_count": 4,
   "id": "c0765b8b-e465-47cd-a28c-004d2f0164b3",
   "metadata": {},
   "outputs": [
    {
     "name": "stdout",
     "output_type": "stream",
     "text": [
      "# from tvm.script import ir as I\n",
      "# from tvm.script import tir as T\n",
      "\n",
      "@I.ir_module\n",
      "class Module:\n",
      "    @T.prim_func\n",
      "    def main(A: T.Buffer((10, 10), \"float32\"), B: T.Buffer((10, 10), \"float32\"), C: T.Buffer((10, 10), \"float32\")):\n",
      "        T.func_attr({\"from_legacy_te_schedule\": T.bool(True), \"tir.noalias\": T.bool(True)})\n",
      "        for i_outer, j_outer in T.grid(2, 2):\n",
      "            C_1 = T.Buffer((100,), data=C.data)\n",
      "            for i_inner_init in range(8):\n",
      "                if i_outer * 4 + i_inner_init // 2 < 5:\n",
      "                    for j_inner_init in range(8):\n",
      "                        if j_outer * 4 + j_inner_init // 2 < 5:\n",
      "                            C_1[i_outer * 80 + i_inner_init * 10 + j_outer * 8 + j_inner_init] = T.float32(0)\n",
      "            for k, i_inner in T.grid(10, 8):\n",
      "                if i_outer * 4 + i_inner // 2 < 5:\n",
      "                    for j_inner in range(8):\n",
      "                        if j_outer * 4 + j_inner // 2 < 5:\n",
      "                            cse_var_3: T.int32 = j_outer * 8\n",
      "                            cse_var_2: T.int32 = i_outer * 80 + i_inner * 10\n",
      "                            cse_var_1: T.int32 = cse_var_2 + cse_var_3 + j_inner\n",
      "                            A_1 = T.Buffer((100,), data=A.data)\n",
      "                            B_1 = T.Buffer((100,), data=B.data)\n",
      "                            C_1[cse_var_1] = C_1[cse_var_1] + A_1[cse_var_2 + k] * B_1[k * 10 + cse_var_3 + j_inner]\n"
     ]
    }
   ],
   "source": [
    "print(tvm.lower(s, [A, B, C]))"
   ]
  }
 ],
 "metadata": {
  "kernelspec": {
   "display_name": "Python 3 (ipykernel)",
   "language": "python",
   "name": "python3"
  },
  "language_info": {
   "codemirror_mode": {
    "name": "ipython",
    "version": 3
   },
   "file_extension": ".py",
   "mimetype": "text/x-python",
   "name": "python",
   "nbconvert_exporter": "python",
   "pygments_lexer": "ipython3",
   "version": "3.8.19"
  }
 },
 "nbformat": 4,
 "nbformat_minor": 5
}
