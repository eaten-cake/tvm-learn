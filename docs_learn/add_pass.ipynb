{
 "cells": [
  {
   "cell_type": "code",
   "execution_count": 1,
   "id": "05a13289-383b-4f6c-a2a5-c2ce64b92e02",
   "metadata": {},
   "outputs": [],
   "source": [
    "import tvm\n",
    "from tvm import te\n",
    "import numpy as np"
   ]
  },
  {
   "cell_type": "code",
   "execution_count": 2,
   "id": "cbc3e95e-ae62-46ef-b186-7bc25a7edbfc",
   "metadata": {},
   "outputs": [],
   "source": [
    "n = tvm.tir.const(128, \"int32\")\n",
    "a = te.placeholder((n,), name=\"a\")\n",
    "b = te.placeholder((n,), name=\"b\")\n",
    "c = te.compute((n,), lambda i: a[i] + b[i], name=\"c\")\n",
    "\n",
    "sch = te.create_prim_func([a, b, c]).with_attr({\"global_symbol\": \"add\"})\n",
    "ir = tvm.IRModule({\"add\": sch})"
   ]
  },
  {
   "cell_type": "code",
   "execution_count": 17,
   "id": "ca4cc88c-9901-4ed9-811c-0b2c86af96d9",
   "metadata": {},
   "outputs": [
    {
     "data": {
      "text/plain": [
       "with T.block(\"root\"):\n",
       "    T.reads()\n",
       "    T.writes()\n",
       "    for i in range(128):\n",
       "        with T.block(\"c\"):\n",
       "            v_i = T.axis.spatial(128, i)\n",
       "            a = T.Buffer((128,))\n",
       "            b = T.Buffer((128,))\n",
       "            T.reads(a[v_i], b[v_i])\n",
       "            c = T.Buffer((128,))\n",
       "            T.writes(c[v_i])\n",
       "            c[v_i] = a[v_i] + b[v_i]"
      ]
     },
     "execution_count": 17,
     "metadata": {},
     "output_type": "execute_result"
    }
   ],
   "source": [
    "ir[\"add\"].body"
   ]
  },
  {
   "cell_type": "code",
   "execution_count": 7,
   "id": "35f01fde-2c62-4ecc-8e77-aecdf34e6eed",
   "metadata": {},
   "outputs": [
    {
     "data": {
      "text/html": [
       "<div class=\"highlight\" style=\"background: \"><pre style=\"line-height: 125%;\"><span></span><span style=\"color: #007979; font-style: italic\"># from tvm.script import ir as I</span>\n",
       "<span style=\"color: #007979; font-style: italic\"># from tvm.script import tir as T</span>\n",
       "\n",
       "<span style=\"color: #AA22FF\">@I</span><span style=\"color: #AA22FF; font-weight: bold\">.</span>ir_module\n",
       "<span style=\"color: #008000; font-weight: bold\">class</span> <span style=\"color: #0000FF; font-weight: bold\">Module</span>:\n",
       "    <span style=\"color: #AA22FF\">@T</span><span style=\"color: #AA22FF; font-weight: bold\">.</span>prim_func\n",
       "    <span style=\"color: #008000; font-weight: bold\">def</span> <span style=\"color: #0000FF\">add</span>(a: T<span style=\"color: #AA22FF; font-weight: bold\">.</span>Buffer((<span style=\"color: #008000\">128</span>,), <span style=\"color: #BA2121\">&quot;float32&quot;</span>), b: T<span style=\"color: #AA22FF; font-weight: bold\">.</span>Buffer((<span style=\"color: #008000\">128</span>,), <span style=\"color: #BA2121\">&quot;float32&quot;</span>), c: T<span style=\"color: #AA22FF; font-weight: bold\">.</span>Buffer((<span style=\"color: #008000\">128</span>,), <span style=\"color: #BA2121\">&quot;float32&quot;</span>)):\n",
       "        T<span style=\"color: #AA22FF; font-weight: bold\">.</span>func_attr({<span style=\"color: #BA2121\">&quot;tir.noalias&quot;</span>: T<span style=\"color: #AA22FF; font-weight: bold\">.</span>bool(<span style=\"color: #008000; font-weight: bold\">True</span>)})\n",
       "        <span style=\"color: #007979; font-style: italic\"># with T.block(&quot;root&quot;):</span>\n",
       "        <span style=\"color: #008000; font-weight: bold\">for</span> i <span style=\"color: #008000; font-weight: bold\">in</span> range(<span style=\"color: #008000\">128</span>):\n",
       "            <span style=\"color: #008000; font-weight: bold\">with</span> T<span style=\"color: #AA22FF; font-weight: bold\">.</span>block(<span style=\"color: #BA2121\">&quot;c&quot;</span>):\n",
       "                v_i <span style=\"color: #AA22FF; font-weight: bold\">=</span> T<span style=\"color: #AA22FF; font-weight: bold\">.</span>axis<span style=\"color: #AA22FF; font-weight: bold\">.</span>spatial(<span style=\"color: #008000\">128</span>, i)\n",
       "                T<span style=\"color: #AA22FF; font-weight: bold\">.</span>reads(a[v_i], b[v_i])\n",
       "                T<span style=\"color: #AA22FF; font-weight: bold\">.</span>writes(c[v_i])\n",
       "                c[v_i] <span style=\"color: #AA22FF; font-weight: bold\">=</span> a[v_i] <span style=\"color: #AA22FF; font-weight: bold\">+</span> b[v_i]\n",
       "</pre></div>\n"
      ],
      "text/plain": [
       "<IPython.core.display.HTML object>"
      ]
     },
     "metadata": {},
     "output_type": "display_data"
    }
   ],
   "source": [
    "ir.show()"
   ]
  },
  {
   "cell_type": "code",
   "execution_count": 11,
   "id": "0f72cc9e-2474-4b12-9f80-018378c7e204",
   "metadata": {},
   "outputs": [],
   "source": [
    "a_np = np.random.uniform(0, 1, (128,)).astype(\"float32\")\n",
    "b_np = np.random.uniform(0, 1, (128,)).astype(\"float32\")\n",
    "c_np = a_np + b_np\n",
    "a_tvm = tvm.nd.array(a_np)\n",
    "b_tvm = tvm.nd.array(b_np)\n",
    "c_tvm = tvm.nd.array(np.empty((128,), dtype=np.float32))"
   ]
  },
  {
   "cell_type": "code",
   "execution_count": 16,
   "id": "ceb19131-9d21-4bbf-b2ea-32b383f63962",
   "metadata": {},
   "outputs": [],
   "source": [
    "mod = tvm.build(ir, target=\"llvm\")\n",
    "mod[\"add\"](a_tvm, b_tvm, c_tvm)\n",
    "np.testing.assert_allclose(c_tvm.numpy(), c_np, rtol=1e-5)"
   ]
  },
  {
   "cell_type": "code",
   "execution_count": null,
   "id": "436444d9-c955-477f-8351-4c2789ca77b3",
   "metadata": {},
   "outputs": [],
   "source": []
  },
  {
   "cell_type": "code",
   "execution_count": null,
   "id": "f7a2a063-1d3f-42e6-8abe-3cfe964334d3",
   "metadata": {},
   "outputs": [],
   "source": []
  },
  {
   "cell_type": "code",
   "execution_count": null,
   "id": "79080505-2cd8-475c-8bc7-c8415c278ab6",
   "metadata": {},
   "outputs": [],
   "source": []
  },
  {
   "cell_type": "code",
   "execution_count": null,
   "id": "2bdcc127-c7ce-4956-83ce-829661dd52c2",
   "metadata": {},
   "outputs": [],
   "source": []
  }
 ],
 "metadata": {
  "kernelspec": {
   "display_name": "Python 3 (ipykernel)",
   "language": "python",
   "name": "python3"
  },
  "language_info": {
   "codemirror_mode": {
    "name": "ipython",
    "version": 3
   },
   "file_extension": ".py",
   "mimetype": "text/x-python",
   "name": "python",
   "nbconvert_exporter": "python",
   "pygments_lexer": "ipython3",
   "version": "3.8.18"
  }
 },
 "nbformat": 4,
 "nbformat_minor": 5
}
