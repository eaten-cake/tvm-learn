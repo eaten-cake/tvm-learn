{
 "cells": [
  {
   "cell_type": "code",
   "execution_count": 1,
   "id": "7197aa21-30a1-474d-ac60-30233c65c6c4",
   "metadata": {},
   "outputs": [],
   "source": [
    "import onnx\n",
    "from tvm.contrib.download import download_testdata\n",
    "from PIL import Image\n",
    "import numpy as np\n",
    "import tvm.relay as relay\n",
    "import tvm\n",
    "from tvm.contrib import graph_executor"
   ]
  },
  {
   "cell_type": "code",
   "execution_count": 2,
   "id": "58e74934-eeb6-4984-9380-04d44fc474f9",
   "metadata": {},
   "outputs": [],
   "source": [
    "model_path = \"/home/yrx/practice/tvm/models/resnet50-v2-7.onnx\"\n",
    "\n",
    "onnx_model = onnx.load(model_path)\n",
    "\n",
    "# 为 numpy 的 RNG 设置 seed，得到一致的结果\n",
    "np.random.seed(0)"
   ]
  },
  {
   "cell_type": "code",
   "execution_count": 3,
   "id": "433c767a-324d-4f9d-9a5c-d2c035ca6131",
   "metadata": {},
   "outputs": [],
   "source": [
    "img_url = \"https://s3.amazonaws.com/model-server/inputs/kitten.jpg\"\n",
    "img_path = download_testdata(img_url, \"imagenet_cat.png\", module=\"data\")\n",
    "\n",
    "# 重设大小为 224x224\n",
    "resized_image = Image.open(img_path).resize((224, 224))\n",
    "img_data = np.asarray(resized_image).astype(\"float32\")\n",
    "\n",
    "# 输入图像是 HWC 布局，而 ONNX 需要 CHW 输入，所以转换数组\n",
    "img_data = np.transpose(img_data, (2, 0, 1))\n",
    "\n",
    "# 根据 ImageNet 输入规范进行归一化\n",
    "imagenet_mean = np.array([0.485, 0.456, 0.406]).reshape((3, 1, 1))\n",
    "imagenet_stddev = np.array([0.229, 0.224, 0.225]).reshape((3, 1, 1))\n",
    "norm_img_data = (img_data / 255 - imagenet_mean) / imagenet_stddev\n",
    "\n",
    "# 添加 batch 维度，期望 4 维输入：NCHW。\n",
    "img_data = np.expand_dims(norm_img_data, axis=0)"
   ]
  },
  {
   "cell_type": "code",
   "execution_count": 4,
   "id": "733d7a7b-bceb-4280-8c92-e54368a29bcd",
   "metadata": {},
   "outputs": [
    {
     "name": "stderr",
     "output_type": "stream",
     "text": [
      "One or more operators have not been tuned. Please tune your model for better performance. Use DEBUG logging level to see more details.\n"
     ]
    }
   ],
   "source": [
    "target = \"llvm\"\n",
    "# 输入名称可能因模型类型而异\n",
    "# 可用 Netron 工具检查输入名称\n",
    "input_name = \"data\"\n",
    "shape_dict = {input_name: img_data.shape}\n",
    "\n",
    "mod, params = relay.frontend.from_onnx(onnx_model, shape_dict)\n",
    "\n",
    "with tvm.transform.PassContext(opt_level=3):\n",
    "    lib = relay.build(mod, target=target, params=params)\n",
    "\n",
    "dev = tvm.device(str(target), 0)\n",
    "module = graph_executor.GraphModule(lib[\"default\"](dev))"
   ]
  },
  {
   "cell_type": "code",
   "execution_count": 10,
   "id": "1af09aaf-ff2e-4135-88d9-e19b580d233b",
   "metadata": {},
   "outputs": [],
   "source": [
    "dtype = \"float32\"\n",
    "module.set_input(input_name, img_data)\n",
    "module.run()\n",
    "output_shape = (1, 1000)\n",
    "tvm_output = module.get_output(0, tvm.nd.empty(output_shape)).numpy()"
   ]
  },
  {
   "cell_type": "code",
   "execution_count": 5,
   "id": "33baaefa-9a55-4cfb-be08-23bb5bfc6870",
   "metadata": {},
   "outputs": [],
   "source": [
    "input = np.load(\"/home/yrx/practice/tvm/709/resnet50/kitten.npy\")\n",
    "module.set_input(input_name, input)\n",
    "module.run()\n",
    "output_shape = (1, 1000)\n",
    "tvm_output = module.get_output(0, tvm.nd.empty(output_shape)).numpy()"
   ]
  },
  {
   "cell_type": "code",
   "execution_count": 7,
   "id": "eb1d458a-bf2e-471b-b320-697ec82fecaf",
   "metadata": {},
   "outputs": [
    {
     "name": "stdout",
     "output_type": "stream",
     "text": [
      "class='n02123045 tabby, tabby cat' with probability=0.513194\n",
      "class='n02123159 tiger cat' with probability=0.453957\n",
      "class='n02124075 Egyptian cat' with probability=0.027948\n",
      "class='n02129604 tiger, Panthera tigris' with probability=0.001375\n",
      "class='n02127052 lynx, catamount' with probability=0.001186\n"
     ]
    }
   ],
   "source": [
    "from scipy.special import softmax\n",
    "\n",
    "# 下载标签列表\n",
    "labels_url = \"https://s3.amazonaws.com/onnx-model-zoo/synset.txt\"\n",
    "labels_path = download_testdata(labels_url, \"synset.txt\", module=\"data\")\n",
    "\n",
    "with open(labels_path, \"r\") as f:\n",
    "    labels = [l.rstrip() for l in f]\n",
    "\n",
    "# 打开输出文件并读取输出张量\n",
    "scores = softmax(tvm_output)\n",
    "scores = np.squeeze(scores)\n",
    "ranks = np.argsort(scores)[::-1]\n",
    "for rank in ranks[0:5]:\n",
    "    print(\"class='%s' with probability=%f\" % (labels[rank], scores[rank]))"
   ]
  },
  {
   "cell_type": "code",
   "execution_count": 8,
   "id": "428161b6-ebe0-4911-a5f0-5af2faa50b41",
   "metadata": {},
   "outputs": [
    {
     "data": {
      "text/plain": [
       "array([281, 282, 285, 292, 287])"
      ]
     },
     "execution_count": 8,
     "metadata": {},
     "output_type": "execute_result"
    }
   ],
   "source": [
    "ranks[0:5]"
   ]
  }
 ],
 "metadata": {
  "kernelspec": {
   "display_name": "Python 3 (ipykernel)",
   "language": "python",
   "name": "python3"
  },
  "language_info": {
   "codemirror_mode": {
    "name": "ipython",
    "version": 3
   },
   "file_extension": ".py",
   "mimetype": "text/x-python",
   "name": "python",
   "nbconvert_exporter": "python",
   "pygments_lexer": "ipython3",
   "version": "3.8.19"
  }
 },
 "nbformat": 4,
 "nbformat_minor": 5
}
