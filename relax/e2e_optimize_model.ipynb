{
 "cells": [
  {
   "cell_type": "code",
   "execution_count": 1,
   "id": "b4e70bb6-9713-4a3d-bd94-e8f2dc6e194d",
   "metadata": {},
   "outputs": [],
   "source": [
    "import os\n",
    "import numpy as np\n",
    "import torch\n",
    "from torch.export import export\n",
    "from torchvision.models.resnet import ResNet18_Weights, resnet18\n",
    "\n",
    "torch_model = resnet18(weights=ResNet18_Weights.DEFAULT).eval()"
   ]
  },
  {
   "cell_type": "code",
   "execution_count": 5,
   "id": "0830bb97-8071-4824-85e3-c30e44662beb",
   "metadata": {},
   "outputs": [
    {
     "ename": "AttributeError",
     "evalue": "'ExportedProgram' object has no attribute 'named_modules'",
     "output_type": "error",
     "traceback": [
      "\u001b[0;31m---------------------------------------------------------------------------\u001b[0m",
      "\u001b[0;31mAttributeError\u001b[0m                            Traceback (most recent call last)",
      "Cell \u001b[0;32mIn[5], line 11\u001b[0m\n\u001b[1;32m      9\u001b[0m \u001b[38;5;28;01mwith\u001b[39;00m torch\u001b[38;5;241m.\u001b[39mno_grad():\n\u001b[1;32m     10\u001b[0m     exported_program \u001b[38;5;241m=\u001b[39m export(torch_model, example_args)\n\u001b[0;32m---> 11\u001b[0m     mod \u001b[38;5;241m=\u001b[39m \u001b[43mfrom_fx\u001b[49m\u001b[43m(\u001b[49m\u001b[43mexported_program\u001b[49m\u001b[43m,\u001b[49m\u001b[43m \u001b[49m\u001b[43m[\u001b[49m\u001b[43m(\u001b[49m\u001b[38;5;241;43m1\u001b[39;49m\u001b[43m,\u001b[49m\u001b[43m \u001b[49m\u001b[38;5;241;43m3\u001b[39;49m\u001b[43m,\u001b[49m\u001b[43m \u001b[49m\u001b[38;5;241;43m224\u001b[39;49m\u001b[43m,\u001b[49m\u001b[43m \u001b[49m\u001b[38;5;241;43m224\u001b[39;49m\u001b[43m)\u001b[49m\u001b[43m,\u001b[49m\u001b[43m \u001b[49m\u001b[38;5;124;43m\"\u001b[39;49m\u001b[38;5;124;43mfloat32\u001b[39;49m\u001b[38;5;124;43m\"\u001b[39;49m\u001b[43m]\u001b[49m\u001b[43m,\u001b[49m\u001b[43m \u001b[49m\u001b[43mkeep_params_as_input\u001b[49m\u001b[38;5;241;43m=\u001b[39;49m\u001b[38;5;28;43;01mTrue\u001b[39;49;00m\u001b[43m)\u001b[49m\n\u001b[1;32m     13\u001b[0m mod, params \u001b[38;5;241m=\u001b[39m relax\u001b[38;5;241m.\u001b[39mfrontend\u001b[38;5;241m.\u001b[39mdetach_params(mod)\n\u001b[1;32m     14\u001b[0m mod\u001b[38;5;241m.\u001b[39mshow()\n",
      "File \u001b[0;32m~/projects/tvm/python/tvm/relax/frontend/torch/fx_translator.py:1688\u001b[0m, in \u001b[0;36mfrom_fx\u001b[0;34m(model, input_info, keep_params_as_input, unwrap_unit_return_tuple, no_bind_return_tuple, custom_convert_map)\u001b[0m\n\u001b[1;32m   1588\u001b[0m \u001b[38;5;28;01mdef\u001b[39;00m \u001b[38;5;21mfrom_fx\u001b[39m(\n\u001b[1;32m   1589\u001b[0m     model,\n\u001b[1;32m   1590\u001b[0m     input_info: List[Tuple[Tuple[\u001b[38;5;28mint\u001b[39m], \u001b[38;5;28mstr\u001b[39m]],\n\u001b[0;32m   (...)\u001b[0m\n\u001b[1;32m   1595\u001b[0m     custom_convert_map: \u001b[38;5;28mdict\u001b[39m \u001b[38;5;241m=\u001b[39m \u001b[38;5;28;01mNone\u001b[39;00m,\n\u001b[1;32m   1596\u001b[0m ) \u001b[38;5;241m-\u001b[39m\u001b[38;5;241m>\u001b[39m tvm\u001b[38;5;241m.\u001b[39mIRModule:\n\u001b[1;32m   1597\u001b[0m \u001b[38;5;250m    \u001b[39m\u001b[38;5;124;03m\"\"\"Convert a PyTorch FX GraphModule to a Relax program\u001b[39;00m\n\u001b[1;32m   1598\u001b[0m \n\u001b[1;32m   1599\u001b[0m \u001b[38;5;124;03m    Parameters\u001b[39;00m\n\u001b[0;32m   (...)\u001b[0m\n\u001b[1;32m   1686\u001b[0m \u001b[38;5;124;03m    check the placeholder rows in the beginning of the tabular.\u001b[39;00m\n\u001b[1;32m   1687\u001b[0m \u001b[38;5;124;03m    \"\"\"\u001b[39;00m\n\u001b[0;32m-> 1688\u001b[0m     \u001b[38;5;28;01mreturn\u001b[39;00m \u001b[43mTorchFXImporter\u001b[49m\u001b[43m(\u001b[49m\u001b[43m)\u001b[49m\u001b[38;5;241;43m.\u001b[39;49m\u001b[43mfrom_fx\u001b[49m\u001b[43m(\u001b[49m\n\u001b[1;32m   1689\u001b[0m \u001b[43m        \u001b[49m\u001b[43mmodel\u001b[49m\u001b[43m,\u001b[49m\n\u001b[1;32m   1690\u001b[0m \u001b[43m        \u001b[49m\u001b[43minput_info\u001b[49m\u001b[43m,\u001b[49m\n\u001b[1;32m   1691\u001b[0m \u001b[43m        \u001b[49m\u001b[43mkeep_params_as_input\u001b[49m\u001b[43m,\u001b[49m\n\u001b[1;32m   1692\u001b[0m \u001b[43m        \u001b[49m\u001b[43munwrap_unit_return_tuple\u001b[49m\u001b[43m,\u001b[49m\n\u001b[1;32m   1693\u001b[0m \u001b[43m        \u001b[49m\u001b[43mno_bind_return_tuple\u001b[49m\u001b[43m,\u001b[49m\n\u001b[1;32m   1694\u001b[0m \u001b[43m        \u001b[49m\u001b[43mcustom_convert_map\u001b[49m\u001b[38;5;241;43m=\u001b[39;49m\u001b[43mcustom_convert_map\u001b[49m\u001b[43m,\u001b[49m\n\u001b[1;32m   1695\u001b[0m \u001b[43m    \u001b[49m\u001b[43m)\u001b[49m\n",
      "File \u001b[0;32m~/projects/tvm/python/tvm/relax/frontend/torch/fx_translator.py:1490\u001b[0m, in \u001b[0;36mTorchFXImporter.from_fx\u001b[0;34m(self, model, input_info, keep_params_as_input, unwrap_unit_return_tuple, no_bind_return_tuple, custom_convert_map)\u001b[0m\n\u001b[1;32m   1488\u001b[0m \u001b[38;5;28;01melse\u001b[39;00m:\n\u001b[1;32m   1489\u001b[0m     custom_ops \u001b[38;5;241m=\u001b[39m \u001b[38;5;28mset\u001b[39m()\n\u001b[0;32m-> 1490\u001b[0m \u001b[38;5;28mself\u001b[39m\u001b[38;5;241m.\u001b[39mnamed_modules \u001b[38;5;241m=\u001b[39m \u001b[38;5;28mdict\u001b[39m(\u001b[43mmodel\u001b[49m\u001b[38;5;241;43m.\u001b[39;49m\u001b[43mnamed_modules\u001b[49m())\n\u001b[1;32m   1492\u001b[0m graph: fx\u001b[38;5;241m.\u001b[39mGraph \u001b[38;5;241m=\u001b[39m model\u001b[38;5;241m.\u001b[39mgraph\n\u001b[1;32m   1493\u001b[0m \u001b[38;5;66;03m# Create input variables.\u001b[39;00m\n",
      "\u001b[0;31mAttributeError\u001b[0m: 'ExportedProgram' object has no attribute 'named_modules'"
     ]
    }
   ],
   "source": [
    "import tvm\n",
    "from tvm import relax\n",
    "from tvm.relax.frontend.torch import from_fx\n",
    "\n",
    "# Give an example argument to torch.export\n",
    "example_args = (torch.randn(1, 3, 224, 224, dtype=torch.float32),)\n",
    "\n",
    "# Convert the model to IRModule\n",
    "with torch.no_grad():\n",
    "    exported_program = export(torch_model, example_args)\n",
    "    mod = from_fx(exported_program, [(1, 3, 224, 224), \"float32\"], keep_params_as_input=True)\n",
    "\n",
    "mod, params = relax.frontend.detach_params(mod)\n",
    "mod.show()"
   ]
  },
  {
   "cell_type": "code",
   "execution_count": null,
   "id": "7aa1680b-c36a-4e53-863a-5b66fc0ca04d",
   "metadata": {},
   "outputs": [],
   "source": []
  },
  {
   "cell_type": "code",
   "execution_count": null,
   "id": "8a15a66c-3c7b-43e4-b81a-4c94f9c1f103",
   "metadata": {},
   "outputs": [],
   "source": []
  },
  {
   "cell_type": "code",
   "execution_count": null,
   "id": "9b0f4164-cb5d-471a-acb8-ea9df3deb7e4",
   "metadata": {},
   "outputs": [],
   "source": []
  },
  {
   "cell_type": "code",
   "execution_count": null,
   "id": "973c1fe0-466f-4178-815a-166e517b84a4",
   "metadata": {},
   "outputs": [],
   "source": []
  }
 ],
 "metadata": {
  "kernelspec": {
   "display_name": "Python 3 (ipykernel)",
   "language": "python",
   "name": "python3"
  },
  "language_info": {
   "codemirror_mode": {
    "name": "ipython",
    "version": 3
   },
   "file_extension": ".py",
   "mimetype": "text/x-python",
   "name": "python",
   "nbconvert_exporter": "python",
   "pygments_lexer": "ipython3",
   "version": "3.8.18"
  }
 },
 "nbformat": 4,
 "nbformat_minor": 5
}
