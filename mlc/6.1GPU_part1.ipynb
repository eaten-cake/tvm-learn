{
 "cells": [
  {
   "cell_type": "code",
   "execution_count": 1,
   "id": "f4c8a2d3-ea94-4186-8c4d-835dc16b81d4",
   "metadata": {},
   "outputs": [],
   "source": [
    "import numpy as np\n",
    "import tvm\n",
    "from tvm import relax\n",
    "from tvm.ir.module import IRModule\n",
    "from tvm.script import relax as R\n",
    "from tvm.script import tir as T"
   ]
  },
  {
   "cell_type": "code",
   "execution_count": 2,
   "id": "5bd85d92-6a41-47ef-980f-09d2ed540860",
   "metadata": {},
   "outputs": [],
   "source": [
    "@tvm.script.ir_module\n",
    "class MyModuleVecAdd:\n",
    "    @T.prim_func\n",
    "    def main(A: T.Buffer((1024,), \"float32\"),\n",
    "             B: T.Buffer((1024,), \"float32\"),\n",
    "             C: T.Buffer((1024,), \"float32\")) -> None:\n",
    "        T.func_attr({\"global_symbol\": \"main\", \"tir.noalias\": True})\n",
    "        for i in T.grid(1024):\n",
    "            with T.block(\"C\"):\n",
    "                vi = T.axis.remap(\"S\", [i])\n",
    "                C[vi] = A[vi] + B[vi]"
   ]
  },
  {
   "cell_type": "code",
   "execution_count": 3,
   "id": "2bdc4d24-56bb-4464-b2a5-9988fe1c6cec",
   "metadata": {},
   "outputs": [
    {
     "data": {
      "text/html": [
       "<div class=\"highlight\" style=\"background: \"><pre style=\"line-height: 125%;\"><span></span><span style=\"color: #007979; font-style: italic\"># from tvm.script import ir as I</span>\n",
       "<span style=\"color: #007979; font-style: italic\"># from tvm.script import tir as T</span>\n",
       "\n",
       "<span style=\"color: #AA22FF\">@I</span><span style=\"color: #AA22FF; font-weight: bold\">.</span>ir_module\n",
       "<span style=\"color: #008000; font-weight: bold\">class</span> <span style=\"color: #0000FF; font-weight: bold\">Module</span>:\n",
       "    <span style=\"color: #AA22FF\">@T</span><span style=\"color: #AA22FF; font-weight: bold\">.</span>prim_func\n",
       "    <span style=\"color: #008000; font-weight: bold\">def</span> <span style=\"color: #0000FF\">main</span>(A: T<span style=\"color: #AA22FF; font-weight: bold\">.</span>Buffer((<span style=\"color: #008000\">1024</span>,), <span style=\"color: #BA2121\">&quot;float32&quot;</span>), B: T<span style=\"color: #AA22FF; font-weight: bold\">.</span>Buffer((<span style=\"color: #008000\">1024</span>,), <span style=\"color: #BA2121\">&quot;float32&quot;</span>), C: T<span style=\"color: #AA22FF; font-weight: bold\">.</span>Buffer((<span style=\"color: #008000\">1024</span>,), <span style=\"color: #BA2121\">&quot;float32&quot;</span>)):\n",
       "        T<span style=\"color: #AA22FF; font-weight: bold\">.</span>func_attr({<span style=\"color: #BA2121\">&quot;tir.noalias&quot;</span>: T<span style=\"color: #AA22FF; font-weight: bold\">.</span>bool(<span style=\"color: #008000; font-weight: bold\">True</span>)})\n",
       "        <span style=\"color: #007979; font-style: italic\"># with T.block(&quot;root&quot;):</span>\n",
       "        <span style=\"color: #008000; font-weight: bold\">for</span> i_0, i_1 <span style=\"color: #008000; font-weight: bold\">in</span> T<span style=\"color: #AA22FF; font-weight: bold\">.</span>grid(<span style=\"color: #008000\">8</span>, <span style=\"color: #008000\">128</span>):\n",
       "            <span style=\"color: #008000; font-weight: bold\">with</span> T<span style=\"color: #AA22FF; font-weight: bold\">.</span>block(<span style=\"color: #BA2121\">&quot;C&quot;</span>):\n",
       "                vi <span style=\"color: #AA22FF; font-weight: bold\">=</span> T<span style=\"color: #AA22FF; font-weight: bold\">.</span>axis<span style=\"color: #AA22FF; font-weight: bold\">.</span>spatial(<span style=\"color: #008000\">1024</span>, i_0 <span style=\"color: #AA22FF; font-weight: bold\">*</span> <span style=\"color: #008000\">128</span> <span style=\"color: #AA22FF; font-weight: bold\">+</span> i_1)\n",
       "                T<span style=\"color: #AA22FF; font-weight: bold\">.</span>reads(A[vi], B[vi])\n",
       "                T<span style=\"color: #AA22FF; font-weight: bold\">.</span>writes(C[vi])\n",
       "                C[vi] <span style=\"color: #AA22FF; font-weight: bold\">=</span> A[vi] <span style=\"color: #AA22FF; font-weight: bold\">+</span> B[vi]\n",
       "</pre></div>\n"
      ],
      "text/plain": [
       "<IPython.core.display.HTML object>"
      ]
     },
     "metadata": {},
     "output_type": "display_data"
    }
   ],
   "source": [
    "sch = tvm.tir.Schedule(MyModuleVecAdd)\n",
    "block_C = sch.get_block(\"C\")\n",
    "i, = sch.get_loops(block=block_C)\n",
    "i0, i1 = sch.split(i, [None, 128])\n",
    "sch.mod.show()"
   ]
  },
  {
   "cell_type": "code",
   "execution_count": 4,
   "id": "ce0575bc-c172-4548-90cb-c5366d2a1d32",
   "metadata": {},
   "outputs": [
    {
     "data": {
      "text/html": [
       "<div class=\"highlight\" style=\"background: \"><pre style=\"line-height: 125%;\"><span></span><span style=\"color: #007979; font-style: italic\"># from tvm.script import ir as I</span>\n",
       "<span style=\"color: #007979; font-style: italic\"># from tvm.script import tir as T</span>\n",
       "\n",
       "<span style=\"color: #AA22FF\">@I</span><span style=\"color: #AA22FF; font-weight: bold\">.</span>ir_module\n",
       "<span style=\"color: #008000; font-weight: bold\">class</span> <span style=\"color: #0000FF; font-weight: bold\">Module</span>:\n",
       "    <span style=\"color: #AA22FF\">@T</span><span style=\"color: #AA22FF; font-weight: bold\">.</span>prim_func\n",
       "    <span style=\"color: #008000; font-weight: bold\">def</span> <span style=\"color: #0000FF\">main</span>(A: T<span style=\"color: #AA22FF; font-weight: bold\">.</span>Buffer((<span style=\"color: #008000\">1024</span>,), <span style=\"color: #BA2121\">&quot;float32&quot;</span>), B: T<span style=\"color: #AA22FF; font-weight: bold\">.</span>Buffer((<span style=\"color: #008000\">1024</span>,), <span style=\"color: #BA2121\">&quot;float32&quot;</span>), C: T<span style=\"color: #AA22FF; font-weight: bold\">.</span>Buffer((<span style=\"color: #008000\">1024</span>,), <span style=\"color: #BA2121\">&quot;float32&quot;</span>)):\n",
       "        T<span style=\"color: #AA22FF; font-weight: bold\">.</span>func_attr({<span style=\"color: #BA2121\">&quot;tir.noalias&quot;</span>: T<span style=\"color: #AA22FF; font-weight: bold\">.</span>bool(<span style=\"color: #008000; font-weight: bold\">True</span>)})\n",
       "        <span style=\"color: #007979; font-style: italic\"># with T.block(&quot;root&quot;):</span>\n",
       "        <span style=\"color: #008000; font-weight: bold\">for</span> i_0 <span style=\"color: #008000; font-weight: bold\">in</span> T<span style=\"color: #AA22FF; font-weight: bold\">.</span>thread_binding(<span style=\"color: #008000\">8</span>, thread<span style=\"color: #AA22FF; font-weight: bold\">=</span><span style=\"color: #BA2121\">&quot;blockIdx.x&quot;</span>):\n",
       "            <span style=\"color: #008000; font-weight: bold\">for</span> i_1 <span style=\"color: #008000; font-weight: bold\">in</span> T<span style=\"color: #AA22FF; font-weight: bold\">.</span>thread_binding(<span style=\"color: #008000\">128</span>, thread<span style=\"color: #AA22FF; font-weight: bold\">=</span><span style=\"color: #BA2121\">&quot;threadIdx.x&quot;</span>):\n",
       "                <span style=\"color: #008000; font-weight: bold\">with</span> T<span style=\"color: #AA22FF; font-weight: bold\">.</span>block(<span style=\"color: #BA2121\">&quot;C&quot;</span>):\n",
       "                    vi <span style=\"color: #AA22FF; font-weight: bold\">=</span> T<span style=\"color: #AA22FF; font-weight: bold\">.</span>axis<span style=\"color: #AA22FF; font-weight: bold\">.</span>spatial(<span style=\"color: #008000\">1024</span>, i_0 <span style=\"color: #AA22FF; font-weight: bold\">*</span> <span style=\"color: #008000\">128</span> <span style=\"color: #AA22FF; font-weight: bold\">+</span> i_1)\n",
       "                    T<span style=\"color: #AA22FF; font-weight: bold\">.</span>reads(A[vi], B[vi])\n",
       "                    T<span style=\"color: #AA22FF; font-weight: bold\">.</span>writes(C[vi])\n",
       "                    C[vi] <span style=\"color: #AA22FF; font-weight: bold\">=</span> A[vi] <span style=\"color: #AA22FF; font-weight: bold\">+</span> B[vi]\n",
       "</pre></div>\n"
      ],
      "text/plain": [
       "<IPython.core.display.HTML object>"
      ]
     },
     "metadata": {},
     "output_type": "display_data"
    }
   ],
   "source": [
    "sch.bind(i0, \"blockIdx.x\")\n",
    "sch.bind(i1, \"threadIdx.x\")\n",
    "sch.mod.show()"
   ]
  },
  {
   "cell_type": "code",
   "execution_count": 5,
   "id": "3cc019f2-4db9-47b4-82dd-fe7b9bbed78f",
   "metadata": {},
   "outputs": [
    {
     "name": "stdout",
     "output_type": "stream",
     "text": [
      "[0.283529   0.5721458  0.46831685 ... 0.66966474 0.5340535  0.5497717 ]\n",
      "[0.29525068 0.27211443 0.04688343 ... 0.22305661 0.5010621  0.9913275 ]\n",
      "[0.5787797  0.8442602  0.51520026 ... 0.89272135 1.0351156  1.5410993 ]\n"
     ]
    }
   ],
   "source": [
    "rt_mod = tvm.build(sch.mod, target=\"cuda\")\n",
    "\n",
    "A_np = np.random.uniform(size=(1024,)).astype(\"float32\")\n",
    "B_np = np.random.uniform(size=(1024,)).astype(\"float32\")\n",
    "A_nd = tvm.nd.array(A_np, tvm.cuda(0))\n",
    "B_nd = tvm.nd.array(B_np, tvm.cuda(0))\n",
    "C_nd = tvm.nd.array(np.zeros((1024,), dtype=\"float32\"), tvm.cuda(0))\n",
    "\n",
    "rt_mod[\"main\"](A_nd, B_nd, C_nd)\n",
    "print(A_nd)\n",
    "print(B_nd)\n",
    "print(C_nd)"
   ]
  },
  {
   "cell_type": "code",
   "execution_count": 6,
   "id": "8e393501-07b1-43ef-9567-691cde6b297c",
   "metadata": {},
   "outputs": [],
   "source": [
    "@tvm.script.ir_module\n",
    "class MyModuleWindowSum:\n",
    "    @T.prim_func\n",
    "    def main(A: T.Buffer((1027,), \"float32\"),\n",
    "             B: T.Buffer((1024,), \"float32\")) -> None:\n",
    "        T.func_attr({\"global_symbol\": \"main\", \"tir.noalias\": True})\n",
    "        for i in T.grid(1024):\n",
    "            with T.block(\"C\"):\n",
    "                vi = T.axis.remap(\"S\", [i])\n",
    "                B[vi] = A[vi] + A[vi + 1] + A[vi + 2]"
   ]
  },
  {
   "cell_type": "code",
   "execution_count": 24,
   "id": "dbae84a4-56b0-43b7-993a-8457c9c4c63c",
   "metadata": {},
   "outputs": [
    {
     "data": {
      "text/html": [
       "<div class=\"highlight\" style=\"background: \"><pre style=\"line-height: 125%;\"><span></span><span style=\"color: #007979; font-style: italic\"># from tvm.script import ir as I</span>\n",
       "<span style=\"color: #007979; font-style: italic\"># from tvm.script import tir as T</span>\n",
       "\n",
       "<span style=\"color: #AA22FF\">@I</span><span style=\"color: #AA22FF; font-weight: bold\">.</span>ir_module\n",
       "<span style=\"color: #008000; font-weight: bold\">class</span> <span style=\"color: #0000FF; font-weight: bold\">Module</span>:\n",
       "    <span style=\"color: #AA22FF\">@T</span><span style=\"color: #AA22FF; font-weight: bold\">.</span>prim_func\n",
       "    <span style=\"color: #008000; font-weight: bold\">def</span> <span style=\"color: #0000FF\">main</span>(A: T<span style=\"color: #AA22FF; font-weight: bold\">.</span>Buffer((<span style=\"color: #008000\">1027</span>,), <span style=\"color: #BA2121\">&quot;float32&quot;</span>), B: T<span style=\"color: #AA22FF; font-weight: bold\">.</span>Buffer((<span style=\"color: #008000\">1024</span>,), <span style=\"color: #BA2121\">&quot;float32&quot;</span>)):\n",
       "        T<span style=\"color: #AA22FF; font-weight: bold\">.</span>func_attr({<span style=\"color: #BA2121\">&quot;tir.noalias&quot;</span>: T<span style=\"color: #AA22FF; font-weight: bold\">.</span>bool(<span style=\"color: #008000; font-weight: bold\">True</span>)})\n",
       "        <span style=\"color: #007979; font-style: italic\"># with T.block(&quot;root&quot;):</span>\n",
       "        <span style=\"color: #008000; font-weight: bold\">for</span> i_0 <span style=\"color: #008000; font-weight: bold\">in</span> T<span style=\"color: #AA22FF; font-weight: bold\">.</span>thread_binding(<span style=\"color: #008000\">8</span>, thread<span style=\"color: #AA22FF; font-weight: bold\">=</span><span style=\"color: #BA2121\">&quot;blockIdx.x&quot;</span>):\n",
       "            <span style=\"color: #008000; font-weight: bold\">for</span> i_1 <span style=\"color: #008000; font-weight: bold\">in</span> T<span style=\"color: #AA22FF; font-weight: bold\">.</span>thread_binding(<span style=\"color: #008000\">128</span>, thread<span style=\"color: #AA22FF; font-weight: bold\">=</span><span style=\"color: #BA2121\">&quot;threadIdx.x&quot;</span>):\n",
       "                <span style=\"color: #008000; font-weight: bold\">with</span> T<span style=\"color: #AA22FF; font-weight: bold\">.</span>block(<span style=\"color: #BA2121\">&quot;C&quot;</span>):\n",
       "                    vi <span style=\"color: #AA22FF; font-weight: bold\">=</span> T<span style=\"color: #AA22FF; font-weight: bold\">.</span>axis<span style=\"color: #AA22FF; font-weight: bold\">.</span>spatial(<span style=\"color: #008000\">1024</span>, i_0 <span style=\"color: #AA22FF; font-weight: bold\">*</span> <span style=\"color: #008000\">128</span> <span style=\"color: #AA22FF; font-weight: bold\">+</span> i_1)\n",
       "                    T<span style=\"color: #AA22FF; font-weight: bold\">.</span>reads(A[vi:vi <span style=\"color: #AA22FF; font-weight: bold\">+</span> <span style=\"color: #008000\">3</span>])\n",
       "                    T<span style=\"color: #AA22FF; font-weight: bold\">.</span>writes(B[vi])\n",
       "                    B[vi] <span style=\"color: #AA22FF; font-weight: bold\">=</span> A[vi] <span style=\"color: #AA22FF; font-weight: bold\">+</span> A[vi <span style=\"color: #AA22FF; font-weight: bold\">+</span> <span style=\"color: #008000\">1</span>] <span style=\"color: #AA22FF; font-weight: bold\">+</span> A[vi <span style=\"color: #AA22FF; font-weight: bold\">+</span> <span style=\"color: #008000\">2</span>]\n",
       "</pre></div>\n"
      ],
      "text/plain": [
       "<IPython.core.display.HTML object>"
      ]
     },
     "metadata": {},
     "output_type": "display_data"
    }
   ],
   "source": [
    "sch = tvm.tir.Schedule(MyModuleWindowSum)\n",
    "nthread = 128\n",
    "block_C = sch.get_block(\"C\")\n",
    "i,  = sch.get_loops(block=block_C)\n",
    "i0, i1 = sch.split(i, [None, nthread])\n",
    "sch.bind(i0, \"blockIdx.x\")\n",
    "sch.bind(i1, \"threadIdx.x\")\n",
    "sch.mod.show()"
   ]
  },
  {
   "cell_type": "code",
   "execution_count": 25,
   "id": "9b57a7cc-2212-476a-a43e-d47ff50dcddb",
   "metadata": {},
   "outputs": [
    {
     "data": {
      "text/html": [
       "<div class=\"highlight\" style=\"background: \"><pre style=\"line-height: 125%;\"><span></span><span style=\"color: #007979; font-style: italic\"># from tvm.script import ir as I</span>\n",
       "<span style=\"color: #007979; font-style: italic\"># from tvm.script import tir as T</span>\n",
       "\n",
       "<span style=\"color: #AA22FF\">@I</span><span style=\"color: #AA22FF; font-weight: bold\">.</span>ir_module\n",
       "<span style=\"color: #008000; font-weight: bold\">class</span> <span style=\"color: #0000FF; font-weight: bold\">Module</span>:\n",
       "    <span style=\"color: #AA22FF\">@T</span><span style=\"color: #AA22FF; font-weight: bold\">.</span>prim_func\n",
       "    <span style=\"color: #008000; font-weight: bold\">def</span> <span style=\"color: #0000FF\">main</span>(A: T<span style=\"color: #AA22FF; font-weight: bold\">.</span>Buffer((<span style=\"color: #008000\">1027</span>,), <span style=\"color: #BA2121\">&quot;float32&quot;</span>), B: T<span style=\"color: #AA22FF; font-weight: bold\">.</span>Buffer((<span style=\"color: #008000\">1024</span>,), <span style=\"color: #BA2121\">&quot;float32&quot;</span>)):\n",
       "        T<span style=\"color: #AA22FF; font-weight: bold\">.</span>func_attr({<span style=\"color: #BA2121\">&quot;tir.noalias&quot;</span>: T<span style=\"color: #AA22FF; font-weight: bold\">.</span>bool(<span style=\"color: #008000; font-weight: bold\">True</span>)})\n",
       "        <span style=\"color: #007979; font-style: italic\"># with T.block(&quot;root&quot;):</span>\n",
       "        A_shared <span style=\"color: #AA22FF; font-weight: bold\">=</span> T<span style=\"color: #AA22FF; font-weight: bold\">.</span>alloc_buffer((<span style=\"color: #008000\">1027</span>,), scope<span style=\"color: #AA22FF; font-weight: bold\">=</span><span style=\"color: #BA2121\">&quot;shared&quot;</span>)\n",
       "        <span style=\"color: #008000; font-weight: bold\">for</span> i_0 <span style=\"color: #008000; font-weight: bold\">in</span> T<span style=\"color: #AA22FF; font-weight: bold\">.</span>thread_binding(<span style=\"color: #008000\">8</span>, thread<span style=\"color: #AA22FF; font-weight: bold\">=</span><span style=\"color: #BA2121\">&quot;blockIdx.x&quot;</span>):\n",
       "            <span style=\"color: #008000; font-weight: bold\">for</span> i_1 <span style=\"color: #008000; font-weight: bold\">in</span> T<span style=\"color: #AA22FF; font-weight: bold\">.</span>thread_binding(<span style=\"color: #008000\">128</span>, thread<span style=\"color: #AA22FF; font-weight: bold\">=</span><span style=\"color: #BA2121\">&quot;threadIdx.x&quot;</span>):\n",
       "                <span style=\"color: #008000; font-weight: bold\">for</span> ax0 <span style=\"color: #008000; font-weight: bold\">in</span> range(<span style=\"color: #008000\">130</span>):\n",
       "                    <span style=\"color: #008000; font-weight: bold\">with</span> T<span style=\"color: #AA22FF; font-weight: bold\">.</span>block(<span style=\"color: #BA2121\">&quot;A_shared&quot;</span>):\n",
       "                        v0 <span style=\"color: #AA22FF; font-weight: bold\">=</span> T<span style=\"color: #AA22FF; font-weight: bold\">.</span>axis<span style=\"color: #AA22FF; font-weight: bold\">.</span>spatial(<span style=\"color: #008000\">1027</span>, i_0 <span style=\"color: #AA22FF; font-weight: bold\">*</span> <span style=\"color: #008000\">128</span> <span style=\"color: #AA22FF; font-weight: bold\">+</span> ax0)\n",
       "                        T<span style=\"color: #AA22FF; font-weight: bold\">.</span>reads(A[v0])\n",
       "                        T<span style=\"color: #AA22FF; font-weight: bold\">.</span>writes(A_shared[v0])\n",
       "                        A_shared[v0] <span style=\"color: #AA22FF; font-weight: bold\">=</span> A[v0]\n",
       "                <span style=\"color: #008000; font-weight: bold\">with</span> T<span style=\"color: #AA22FF; font-weight: bold\">.</span>block(<span style=\"color: #BA2121\">&quot;C&quot;</span>):\n",
       "                    vi <span style=\"color: #AA22FF; font-weight: bold\">=</span> T<span style=\"color: #AA22FF; font-weight: bold\">.</span>axis<span style=\"color: #AA22FF; font-weight: bold\">.</span>spatial(<span style=\"color: #008000\">1024</span>, i_0 <span style=\"color: #AA22FF; font-weight: bold\">*</span> <span style=\"color: #008000\">128</span> <span style=\"color: #AA22FF; font-weight: bold\">+</span> i_1)\n",
       "                    T<span style=\"color: #AA22FF; font-weight: bold\">.</span>reads(A_shared[vi:vi <span style=\"color: #AA22FF; font-weight: bold\">+</span> <span style=\"color: #008000\">3</span>])\n",
       "                    T<span style=\"color: #AA22FF; font-weight: bold\">.</span>writes(B[vi])\n",
       "                    B[vi] <span style=\"color: #AA22FF; font-weight: bold\">=</span> A_shared[vi] <span style=\"color: #AA22FF; font-weight: bold\">+</span> A_shared[vi <span style=\"color: #AA22FF; font-weight: bold\">+</span> <span style=\"color: #008000\">1</span>] <span style=\"color: #AA22FF; font-weight: bold\">+</span> A_shared[vi <span style=\"color: #AA22FF; font-weight: bold\">+</span> <span style=\"color: #008000\">2</span>]\n",
       "</pre></div>\n"
      ],
      "text/plain": [
       "<IPython.core.display.HTML object>"
      ]
     },
     "metadata": {},
     "output_type": "display_data"
    }
   ],
   "source": [
    "A_shared = sch.cache_read(block_C, read_buffer_index=0, storage_scope=\"shared\")\n",
    "sch.compute_at(A_shared, i1)\n",
    "sch.mod.show()"
   ]
  },
  {
   "cell_type": "code",
   "execution_count": 31,
   "id": "5bd07031-61aa-4511-9ddc-54e776c7ec2f",
   "metadata": {},
   "outputs": [
    {
     "data": {
      "text/html": [
       "<div class=\"highlight\" style=\"background: \"><pre style=\"line-height: 125%;\"><span></span><span style=\"color: #007979; font-style: italic\"># from tvm.script import ir as I</span>\n",
       "<span style=\"color: #007979; font-style: italic\"># from tvm.script import tir as T</span>\n",
       "\n",
       "<span style=\"color: #AA22FF\">@I</span><span style=\"color: #AA22FF; font-weight: bold\">.</span>ir_module\n",
       "<span style=\"color: #008000; font-weight: bold\">class</span> <span style=\"color: #0000FF; font-weight: bold\">Module</span>:\n",
       "    <span style=\"color: #AA22FF\">@T</span><span style=\"color: #AA22FF; font-weight: bold\">.</span>prim_func\n",
       "    <span style=\"color: #008000; font-weight: bold\">def</span> <span style=\"color: #0000FF\">main</span>(A: T<span style=\"color: #AA22FF; font-weight: bold\">.</span>Buffer((<span style=\"color: #008000\">1027</span>,), <span style=\"color: #BA2121\">&quot;float32&quot;</span>), B: T<span style=\"color: #AA22FF; font-weight: bold\">.</span>Buffer((<span style=\"color: #008000\">1024</span>,), <span style=\"color: #BA2121\">&quot;float32&quot;</span>)):\n",
       "        T<span style=\"color: #AA22FF; font-weight: bold\">.</span>func_attr({<span style=\"color: #BA2121\">&quot;tir.noalias&quot;</span>: T<span style=\"color: #AA22FF; font-weight: bold\">.</span>bool(<span style=\"color: #008000; font-weight: bold\">True</span>)})\n",
       "        <span style=\"color: #007979; font-style: italic\"># with T.block(&quot;root&quot;):</span>\n",
       "        A_shared <span style=\"color: #AA22FF; font-weight: bold\">=</span> T<span style=\"color: #AA22FF; font-weight: bold\">.</span>alloc_buffer((<span style=\"color: #008000\">1027</span>,), scope<span style=\"color: #AA22FF; font-weight: bold\">=</span><span style=\"color: #BA2121\">&quot;shared&quot;</span>)\n",
       "        <span style=\"color: #008000; font-weight: bold\">for</span> i_0 <span style=\"color: #008000; font-weight: bold\">in</span> T<span style=\"color: #AA22FF; font-weight: bold\">.</span>thread_binding(<span style=\"color: #008000\">8</span>, thread<span style=\"color: #AA22FF; font-weight: bold\">=</span><span style=\"color: #BA2121\">&quot;blockIdx.x&quot;</span>):\n",
       "            <span style=\"color: #008000; font-weight: bold\">for</span> i_1 <span style=\"color: #008000; font-weight: bold\">in</span> T<span style=\"color: #AA22FF; font-weight: bold\">.</span>thread_binding(<span style=\"color: #008000\">128</span>, thread<span style=\"color: #AA22FF; font-weight: bold\">=</span><span style=\"color: #BA2121\">&quot;threadIdx.x&quot;</span>):\n",
       "                <span style=\"color: #008000; font-weight: bold\">for</span> ax0_0 <span style=\"color: #008000; font-weight: bold\">in</span> range(<span style=\"color: #008000\">2</span>):\n",
       "                    <span style=\"color: #008000; font-weight: bold\">for</span> ax0_1 <span style=\"color: #008000; font-weight: bold\">in</span> T<span style=\"color: #AA22FF; font-weight: bold\">.</span>thread_binding(<span style=\"color: #008000\">128</span>, thread<span style=\"color: #AA22FF; font-weight: bold\">=</span><span style=\"color: #BA2121\">&quot;threadIdx.x&quot;</span>):\n",
       "                        <span style=\"color: #008000; font-weight: bold\">with</span> T<span style=\"color: #AA22FF; font-weight: bold\">.</span>block(<span style=\"color: #BA2121\">&quot;A_shared&quot;</span>):\n",
       "                            v0 <span style=\"color: #AA22FF; font-weight: bold\">=</span> T<span style=\"color: #AA22FF; font-weight: bold\">.</span>axis<span style=\"color: #AA22FF; font-weight: bold\">.</span>spatial(<span style=\"color: #008000\">1027</span>, i_0 <span style=\"color: #AA22FF; font-weight: bold\">*</span> <span style=\"color: #008000\">128</span> <span style=\"color: #AA22FF; font-weight: bold\">+</span> (ax0_0 <span style=\"color: #AA22FF; font-weight: bold\">*</span> <span style=\"color: #008000\">128</span> <span style=\"color: #AA22FF; font-weight: bold\">+</span> ax0_1))\n",
       "                            T<span style=\"color: #AA22FF; font-weight: bold\">.</span>where(ax0_0 <span style=\"color: #AA22FF; font-weight: bold\">*</span> <span style=\"color: #008000\">128</span> <span style=\"color: #AA22FF; font-weight: bold\">+</span> ax0_1 <span style=\"color: #AA22FF; font-weight: bold\">&lt;</span> <span style=\"color: #008000\">130</span>)\n",
       "                            T<span style=\"color: #AA22FF; font-weight: bold\">.</span>reads(A[v0])\n",
       "                            T<span style=\"color: #AA22FF; font-weight: bold\">.</span>writes(A_shared[v0])\n",
       "                            A_shared[v0] <span style=\"color: #AA22FF; font-weight: bold\">=</span> A[v0]\n",
       "                <span style=\"color: #008000; font-weight: bold\">with</span> T<span style=\"color: #AA22FF; font-weight: bold\">.</span>block(<span style=\"color: #BA2121\">&quot;C&quot;</span>):\n",
       "                    vi <span style=\"color: #AA22FF; font-weight: bold\">=</span> T<span style=\"color: #AA22FF; font-weight: bold\">.</span>axis<span style=\"color: #AA22FF; font-weight: bold\">.</span>spatial(<span style=\"color: #008000\">1024</span>, i_0 <span style=\"color: #AA22FF; font-weight: bold\">*</span> <span style=\"color: #008000\">128</span> <span style=\"color: #AA22FF; font-weight: bold\">+</span> i_1)\n",
       "                    T<span style=\"color: #AA22FF; font-weight: bold\">.</span>reads(A_shared[vi:vi <span style=\"color: #AA22FF; font-weight: bold\">+</span> <span style=\"color: #008000\">3</span>])\n",
       "                    T<span style=\"color: #AA22FF; font-weight: bold\">.</span>writes(B[vi])\n",
       "                    B[vi] <span style=\"color: #AA22FF; font-weight: bold\">=</span> A_shared[vi] <span style=\"color: #AA22FF; font-weight: bold\">+</span> A_shared[vi <span style=\"color: #AA22FF; font-weight: bold\">+</span> <span style=\"color: #008000\">1</span>] <span style=\"color: #AA22FF; font-weight: bold\">+</span> A_shared[vi <span style=\"color: #AA22FF; font-weight: bold\">+</span> <span style=\"color: #008000\">2</span>]\n",
       "</pre></div>\n"
      ],
      "text/plain": [
       "<IPython.core.display.HTML object>"
      ]
     },
     "metadata": {},
     "output_type": "display_data"
    }
   ],
   "source": [
    "ax = sch.get_loops(A_shared)[-1]\n",
    "ax0, ax1 = sch.split(ax, [None, nthread])\n",
    "sch.bind(ax1, \"threadIdx.x\")\n",
    "sch.mod.show()"
   ]
  },
  {
   "cell_type": "code",
   "execution_count": 32,
   "id": "9d80e31f-afaf-49e7-93ae-86de6bf254de",
   "metadata": {},
   "outputs": [
    {
     "name": "stdout",
     "output_type": "stream",
     "text": [
      "\n",
      "#if (((__CUDACC_VER_MAJOR__ == 11) && (__CUDACC_VER_MINOR__ >= 4)) || \\\n",
      "     (__CUDACC_VER_MAJOR__ > 11))\n",
      "#define TVM_ENABLE_L2_PREFETCH 1\n",
      "#else\n",
      "#define TVM_ENABLE_L2_PREFETCH 0\n",
      "#endif\n",
      "\n",
      "#ifdef _WIN32\n",
      "  using uint = unsigned int;\n",
      "  using uchar = unsigned char;\n",
      "  using ushort = unsigned short;\n",
      "  using int64_t = long long;\n",
      "  using uint64_t = unsigned long long;\n",
      "#else\n",
      "  #define uint unsigned int\n",
      "  #define uchar unsigned char\n",
      "  #define ushort unsigned short\n",
      "  #define int64_t long long\n",
      "  #define uint64_t unsigned long long\n",
      "#endif\n",
      "extern \"C\" __global__ void __launch_bounds__(128) main_kernel(float* __restrict__ A, float* __restrict__ B);\n",
      "extern \"C\" __global__ void __launch_bounds__(128) main_kernel(float* __restrict__ A, float* __restrict__ B) {\n",
      "  __shared__ float A_shared[130];\n",
      "  for (int ax0_0 = 0; ax0_0 < 2; ++ax0_0) {\n",
      "    if (((ax0_0 * 64) + (((int)threadIdx.x) >> 1)) < 65) {\n",
      "      A_shared[((ax0_0 * 128) + ((int)threadIdx.x))] = A[(((((int)blockIdx.x) * 128) + (ax0_0 * 128)) + ((int)threadIdx.x))];\n",
      "    }\n",
      "  }\n",
      "  __syncthreads();\n",
      "  B[((((int)blockIdx.x) * 128) + ((int)threadIdx.x))] = ((A_shared[((int)threadIdx.x)] + A_shared[(((int)threadIdx.x) + 1)]) + A_shared[(((int)threadIdx.x) + 2)]);\n",
      "}\n",
      "\n",
      "\n"
     ]
    }
   ],
   "source": [
    "rt_mod = tvm.build(sch.mod, target=\"cuda\")\n",
    "print(rt_mod.imported_modules[0].get_source())"
   ]
  },
  {
   "cell_type": "code",
   "execution_count": 33,
   "id": "4ce4cb58-c627-4271-b5aa-f345d570e9d9",
   "metadata": {},
   "outputs": [],
   "source": [
    "@tvm.script.ir_module\n",
    "class MyModuleMatmul:\n",
    "    @T.prim_func\n",
    "    def main(A: T.Buffer((1024, 1024), \"float32\"),\n",
    "             B: T.Buffer((1024, 1024), \"float32\"),\n",
    "             C: T.Buffer((1024, 1024), \"float32\")) -> None:\n",
    "        T.func_attr({\"global_symbol\": \"main\", \"tir.noalias\": True})\n",
    "        for i, j, k in T.grid(1024, 1024, 1024):\n",
    "            with T.block(\"C\"):\n",
    "                vi, vj, vk = T.axis.remap(\"SSR\", [i, j, k])\n",
    "                with T.init():\n",
    "                    C[vi, vj] = 0.0\n",
    "                C[vi, vj] = C[vi, vj] + A[vi, vk] * B[vk, vj]"
   ]
  },
  {
   "cell_type": "code",
   "execution_count": 53,
   "id": "eb09cb25-820a-425a-8802-62242b4883b8",
   "metadata": {},
   "outputs": [
    {
     "data": {
      "text/html": [
       "<div class=\"highlight\" style=\"background: \"><pre style=\"line-height: 125%;\"><span></span><span style=\"color: #007979; font-style: italic\"># from tvm.script import ir as I</span>\n",
       "<span style=\"color: #007979; font-style: italic\"># from tvm.script import tir as T</span>\n",
       "\n",
       "<span style=\"color: #AA22FF\">@I</span><span style=\"color: #AA22FF; font-weight: bold\">.</span>ir_module\n",
       "<span style=\"color: #008000; font-weight: bold\">class</span> <span style=\"color: #0000FF; font-weight: bold\">Module</span>:\n",
       "    <span style=\"color: #AA22FF\">@T</span><span style=\"color: #AA22FF; font-weight: bold\">.</span>prim_func\n",
       "    <span style=\"color: #008000; font-weight: bold\">def</span> <span style=\"color: #0000FF\">main</span>(A: T<span style=\"color: #AA22FF; font-weight: bold\">.</span>Buffer((<span style=\"color: #008000\">1024</span>, <span style=\"color: #008000\">1024</span>), <span style=\"color: #BA2121\">&quot;float32&quot;</span>), B: T<span style=\"color: #AA22FF; font-weight: bold\">.</span>Buffer((<span style=\"color: #008000\">1024</span>, <span style=\"color: #008000\">1024</span>), <span style=\"color: #BA2121\">&quot;float32&quot;</span>), C: T<span style=\"color: #AA22FF; font-weight: bold\">.</span>Buffer((<span style=\"color: #008000\">1024</span>, <span style=\"color: #008000\">1024</span>), <span style=\"color: #BA2121\">&quot;float32&quot;</span>)):\n",
       "        T<span style=\"color: #AA22FF; font-weight: bold\">.</span>func_attr({<span style=\"color: #BA2121\">&quot;tir.noalias&quot;</span>: T<span style=\"color: #AA22FF; font-weight: bold\">.</span>bool(<span style=\"color: #008000; font-weight: bold\">True</span>)})\n",
       "        <span style=\"color: #007979; font-style: italic\"># with T.block(&quot;root&quot;):</span>\n",
       "        C_local <span style=\"color: #AA22FF; font-weight: bold\">=</span> T<span style=\"color: #AA22FF; font-weight: bold\">.</span>alloc_buffer((<span style=\"color: #008000\">1024</span>, <span style=\"color: #008000\">1024</span>), scope<span style=\"color: #AA22FF; font-weight: bold\">=</span><span style=\"color: #BA2121\">&quot;local&quot;</span>)\n",
       "        <span style=\"color: #008000; font-weight: bold\">for</span> i_0 <span style=\"color: #008000; font-weight: bold\">in</span> T<span style=\"color: #AA22FF; font-weight: bold\">.</span>thread_binding(<span style=\"color: #008000\">16</span>, thread<span style=\"color: #AA22FF; font-weight: bold\">=</span><span style=\"color: #BA2121\">&quot;blockIdx.y&quot;</span>):\n",
       "            <span style=\"color: #008000; font-weight: bold\">for</span> j_0 <span style=\"color: #008000; font-weight: bold\">in</span> T<span style=\"color: #AA22FF; font-weight: bold\">.</span>thread_binding(<span style=\"color: #008000\">16</span>, thread<span style=\"color: #AA22FF; font-weight: bold\">=</span><span style=\"color: #BA2121\">&quot;blockIdx.x&quot;</span>):\n",
       "                <span style=\"color: #008000; font-weight: bold\">for</span> i_1 <span style=\"color: #008000; font-weight: bold\">in</span> T<span style=\"color: #AA22FF; font-weight: bold\">.</span>thread_binding(<span style=\"color: #008000\">8</span>, thread<span style=\"color: #AA22FF; font-weight: bold\">=</span><span style=\"color: #BA2121\">&quot;threadIdx.y&quot;</span>):\n",
       "                    <span style=\"color: #008000; font-weight: bold\">for</span> j_1 <span style=\"color: #008000; font-weight: bold\">in</span> T<span style=\"color: #AA22FF; font-weight: bold\">.</span>thread_binding(<span style=\"color: #008000\">8</span>, thread<span style=\"color: #AA22FF; font-weight: bold\">=</span><span style=\"color: #BA2121\">&quot;threadIdx.x&quot;</span>):\n",
       "                        <span style=\"color: #008000; font-weight: bold\">for</span> i_2_init, j_2_init <span style=\"color: #008000; font-weight: bold\">in</span> T<span style=\"color: #AA22FF; font-weight: bold\">.</span>grid(<span style=\"color: #008000\">8</span>, <span style=\"color: #008000\">8</span>):\n",
       "                            <span style=\"color: #008000; font-weight: bold\">with</span> T<span style=\"color: #AA22FF; font-weight: bold\">.</span>block(<span style=\"color: #BA2121\">&quot;C_init&quot;</span>):\n",
       "                                vi <span style=\"color: #AA22FF; font-weight: bold\">=</span> T<span style=\"color: #AA22FF; font-weight: bold\">.</span>axis<span style=\"color: #AA22FF; font-weight: bold\">.</span>spatial(<span style=\"color: #008000\">1024</span>, i_0 <span style=\"color: #AA22FF; font-weight: bold\">*</span> <span style=\"color: #008000\">64</span> <span style=\"color: #AA22FF; font-weight: bold\">+</span> i_1 <span style=\"color: #AA22FF; font-weight: bold\">*</span> <span style=\"color: #008000\">8</span> <span style=\"color: #AA22FF; font-weight: bold\">+</span> i_2_init)\n",
       "                                vj <span style=\"color: #AA22FF; font-weight: bold\">=</span> T<span style=\"color: #AA22FF; font-weight: bold\">.</span>axis<span style=\"color: #AA22FF; font-weight: bold\">.</span>spatial(<span style=\"color: #008000\">1024</span>, j_0 <span style=\"color: #AA22FF; font-weight: bold\">*</span> <span style=\"color: #008000\">64</span> <span style=\"color: #AA22FF; font-weight: bold\">+</span> j_1 <span style=\"color: #AA22FF; font-weight: bold\">*</span> <span style=\"color: #008000\">8</span> <span style=\"color: #AA22FF; font-weight: bold\">+</span> j_2_init)\n",
       "                                T<span style=\"color: #AA22FF; font-weight: bold\">.</span>reads()\n",
       "                                T<span style=\"color: #AA22FF; font-weight: bold\">.</span>writes(C_local[vi, vj])\n",
       "                                C_local[vi, vj] <span style=\"color: #AA22FF; font-weight: bold\">=</span> T<span style=\"color: #AA22FF; font-weight: bold\">.</span>float32(<span style=\"color: #008000\">0.0</span>)\n",
       "                        <span style=\"color: #008000; font-weight: bold\">for</span> k_0 <span style=\"color: #008000; font-weight: bold\">in</span> range(<span style=\"color: #008000\">256</span>):\n",
       "                            <span style=\"color: #008000; font-weight: bold\">for</span> k_1 <span style=\"color: #008000; font-weight: bold\">in</span> T<span style=\"color: #AA22FF; font-weight: bold\">.</span>unroll(<span style=\"color: #008000\">4</span>):\n",
       "                                <span style=\"color: #008000; font-weight: bold\">for</span> i_2, j_2 <span style=\"color: #008000; font-weight: bold\">in</span> T<span style=\"color: #AA22FF; font-weight: bold\">.</span>grid(<span style=\"color: #008000\">8</span>, <span style=\"color: #008000\">8</span>):\n",
       "                                    <span style=\"color: #008000; font-weight: bold\">with</span> T<span style=\"color: #AA22FF; font-weight: bold\">.</span>block(<span style=\"color: #BA2121\">&quot;C_update&quot;</span>):\n",
       "                                        vi <span style=\"color: #AA22FF; font-weight: bold\">=</span> T<span style=\"color: #AA22FF; font-weight: bold\">.</span>axis<span style=\"color: #AA22FF; font-weight: bold\">.</span>spatial(<span style=\"color: #008000\">1024</span>, i_0 <span style=\"color: #AA22FF; font-weight: bold\">*</span> <span style=\"color: #008000\">64</span> <span style=\"color: #AA22FF; font-weight: bold\">+</span> i_1 <span style=\"color: #AA22FF; font-weight: bold\">*</span> <span style=\"color: #008000\">8</span> <span style=\"color: #AA22FF; font-weight: bold\">+</span> i_2)\n",
       "                                        vj <span style=\"color: #AA22FF; font-weight: bold\">=</span> T<span style=\"color: #AA22FF; font-weight: bold\">.</span>axis<span style=\"color: #AA22FF; font-weight: bold\">.</span>spatial(<span style=\"color: #008000\">1024</span>, j_0 <span style=\"color: #AA22FF; font-weight: bold\">*</span> <span style=\"color: #008000\">64</span> <span style=\"color: #AA22FF; font-weight: bold\">+</span> j_1 <span style=\"color: #AA22FF; font-weight: bold\">*</span> <span style=\"color: #008000\">8</span> <span style=\"color: #AA22FF; font-weight: bold\">+</span> j_2)\n",
       "                                        vk <span style=\"color: #AA22FF; font-weight: bold\">=</span> T<span style=\"color: #AA22FF; font-weight: bold\">.</span>axis<span style=\"color: #AA22FF; font-weight: bold\">.</span>reduce(<span style=\"color: #008000\">1024</span>, k_0 <span style=\"color: #AA22FF; font-weight: bold\">*</span> <span style=\"color: #008000\">4</span> <span style=\"color: #AA22FF; font-weight: bold\">+</span> k_1)\n",
       "                                        T<span style=\"color: #AA22FF; font-weight: bold\">.</span>reads(C_local[vi, vj], A[vi, vk], B[vk, vj])\n",
       "                                        T<span style=\"color: #AA22FF; font-weight: bold\">.</span>writes(C_local[vi, vj])\n",
       "                                        C_local[vi, vj] <span style=\"color: #AA22FF; font-weight: bold\">=</span> C_local[vi, vj] <span style=\"color: #AA22FF; font-weight: bold\">+</span> A[vi, vk] <span style=\"color: #AA22FF; font-weight: bold\">*</span> B[vk, vj]\n",
       "                        <span style=\"color: #008000; font-weight: bold\">for</span> ax0, ax1 <span style=\"color: #008000; font-weight: bold\">in</span> T<span style=\"color: #AA22FF; font-weight: bold\">.</span>grid(<span style=\"color: #008000\">8</span>, <span style=\"color: #008000\">8</span>):\n",
       "                            <span style=\"color: #008000; font-weight: bold\">with</span> T<span style=\"color: #AA22FF; font-weight: bold\">.</span>block(<span style=\"color: #BA2121\">&quot;C_local&quot;</span>):\n",
       "                                v0 <span style=\"color: #AA22FF; font-weight: bold\">=</span> T<span style=\"color: #AA22FF; font-weight: bold\">.</span>axis<span style=\"color: #AA22FF; font-weight: bold\">.</span>spatial(<span style=\"color: #008000\">1024</span>, i_0 <span style=\"color: #AA22FF; font-weight: bold\">*</span> <span style=\"color: #008000\">64</span> <span style=\"color: #AA22FF; font-weight: bold\">+</span> i_1 <span style=\"color: #AA22FF; font-weight: bold\">*</span> <span style=\"color: #008000\">8</span> <span style=\"color: #AA22FF; font-weight: bold\">+</span> ax0)\n",
       "                                v1 <span style=\"color: #AA22FF; font-weight: bold\">=</span> T<span style=\"color: #AA22FF; font-weight: bold\">.</span>axis<span style=\"color: #AA22FF; font-weight: bold\">.</span>spatial(<span style=\"color: #008000\">1024</span>, j_0 <span style=\"color: #AA22FF; font-weight: bold\">*</span> <span style=\"color: #008000\">64</span> <span style=\"color: #AA22FF; font-weight: bold\">+</span> j_1 <span style=\"color: #AA22FF; font-weight: bold\">*</span> <span style=\"color: #008000\">8</span> <span style=\"color: #AA22FF; font-weight: bold\">+</span> ax1)\n",
       "                                T<span style=\"color: #AA22FF; font-weight: bold\">.</span>reads(C_local[v0, v1])\n",
       "                                T<span style=\"color: #AA22FF; font-weight: bold\">.</span>writes(C[v0, v1])\n",
       "                                C[v0, v1] <span style=\"color: #AA22FF; font-weight: bold\">=</span> C_local[v0, v1]\n",
       "</pre></div>\n"
      ],
      "text/plain": [
       "<IPython.core.display.HTML object>"
      ]
     },
     "metadata": {},
     "output_type": "display_data"
    }
   ],
   "source": [
    "def blocking(sch,\n",
    "             tile_local_y,\n",
    "             tile_local_x,\n",
    "             tile_block_y,\n",
    "             tile_block_x,\n",
    "             tile_k):\n",
    "    block_C = sch.get_block(\"C\")\n",
    "    C_local = sch.cache_write(block_C, 0, \"local\")\n",
    "\n",
    "    i, j, k = sch.get_loops(block=block_C)\n",
    "\n",
    "    i0, i1, i2 = sch.split(loop=i, factors=[None, tile_block_y, tile_local_y])\n",
    "    j0, j1, j2 = sch.split(loop=j, factors=[None, tile_block_x, tile_local_x])\n",
    "    k0, k1 = sch.split(loop=k, factors=[None, tile_k])\n",
    "    sch.unroll(k1)\n",
    "    sch.reorder(i0, j0, i1, j1, k0, k1, i2, j2)\n",
    "    sch.reverse_compute_at(C_local, j1)\n",
    "\n",
    "    sch.bind(i0, \"blockIdx.y\")\n",
    "    sch.bind(j0, \"blockIdx.x\")\n",
    "\n",
    "    sch.bind(i1, \"threadIdx.y\")\n",
    "    sch.bind(j1, \"threadIdx.x\")\n",
    "    sch.decompose_reduction(block_C, k0)\n",
    "\n",
    "    return sch\n",
    "\n",
    "sch = tvm.tir.Schedule(MyModuleMatmul)\n",
    "sch = blocking(sch, 8, 8, 8, 8, 4)\n",
    "sch.mod.show()"
   ]
  },
  {
   "cell_type": "code",
   "execution_count": 54,
   "id": "41ae873b-8a30-49e4-91d0-3b66ad07425f",
   "metadata": {},
   "outputs": [
    {
     "name": "stdout",
     "output_type": "stream",
     "text": [
      "GEMM-Blocking: 347.757571 GFLOPS\n"
     ]
    }
   ],
   "source": [
    "rt_mod = tvm.build(sch.mod, target=\"cuda\")\n",
    "dev = tvm.cuda(0)\n",
    "A_np = np.random.uniform(size=(1024, 1024)).astype(\"float32\")\n",
    "B_np = np.random.uniform(size=(1024, 1024)).astype(\"float32\")\n",
    "A_nd = tvm.nd.array(A_np, dev)\n",
    "B_nd = tvm.nd.array(B_np, dev)\n",
    "C_nd = tvm.nd.array(np.zeros((1024, 1024), dtype=\"float32\"), dev)\n",
    "\n",
    "num_flop = 2 * 1024 * 1024 * 1024\n",
    "evaluator = rt_mod.time_evaluator(\"main\", dev, number=10)\n",
    "\n",
    "print(\"GEMM-Blocking: %f GFLOPS\" % (num_flop / evaluator(A_nd, B_nd, C_nd).mean / 1e9))"
   ]
  },
  {
   "cell_type": "code",
   "execution_count": 55,
   "id": "34e53d85-b5d2-43a5-b6b3-eee068c35f24",
   "metadata": {},
   "outputs": [
    {
     "data": {
      "text/html": [
       "<div class=\"highlight\" style=\"background: \"><pre style=\"line-height: 125%;\"><span></span><span style=\"color: #007979; font-style: italic\"># from tvm.script import ir as I</span>\n",
       "<span style=\"color: #007979; font-style: italic\"># from tvm.script import tir as T</span>\n",
       "\n",
       "<span style=\"color: #AA22FF\">@I</span><span style=\"color: #AA22FF; font-weight: bold\">.</span>ir_module\n",
       "<span style=\"color: #008000; font-weight: bold\">class</span> <span style=\"color: #0000FF; font-weight: bold\">Module</span>:\n",
       "    <span style=\"color: #AA22FF\">@T</span><span style=\"color: #AA22FF; font-weight: bold\">.</span>prim_func\n",
       "    <span style=\"color: #008000; font-weight: bold\">def</span> <span style=\"color: #0000FF\">main</span>(A: T<span style=\"color: #AA22FF; font-weight: bold\">.</span>Buffer((<span style=\"color: #008000\">1024</span>, <span style=\"color: #008000\">1024</span>), <span style=\"color: #BA2121\">&quot;float32&quot;</span>), B: T<span style=\"color: #AA22FF; font-weight: bold\">.</span>Buffer((<span style=\"color: #008000\">1024</span>, <span style=\"color: #008000\">1024</span>), <span style=\"color: #BA2121\">&quot;float32&quot;</span>), C: T<span style=\"color: #AA22FF; font-weight: bold\">.</span>Buffer((<span style=\"color: #008000\">1024</span>, <span style=\"color: #008000\">1024</span>), <span style=\"color: #BA2121\">&quot;float32&quot;</span>)):\n",
       "        T<span style=\"color: #AA22FF; font-weight: bold\">.</span>func_attr({<span style=\"color: #BA2121\">&quot;tir.noalias&quot;</span>: T<span style=\"color: #AA22FF; font-weight: bold\">.</span>bool(<span style=\"color: #008000; font-weight: bold\">True</span>)})\n",
       "        <span style=\"color: #007979; font-style: italic\"># with T.block(&quot;root&quot;):</span>\n",
       "        C_local <span style=\"color: #AA22FF; font-weight: bold\">=</span> T<span style=\"color: #AA22FF; font-weight: bold\">.</span>alloc_buffer((<span style=\"color: #008000\">1024</span>, <span style=\"color: #008000\">1024</span>), scope<span style=\"color: #AA22FF; font-weight: bold\">=</span><span style=\"color: #BA2121\">&quot;local&quot;</span>)\n",
       "        A_shared <span style=\"color: #AA22FF; font-weight: bold\">=</span> T<span style=\"color: #AA22FF; font-weight: bold\">.</span>alloc_buffer((<span style=\"color: #008000\">1024</span>, <span style=\"color: #008000\">1024</span>), scope<span style=\"color: #AA22FF; font-weight: bold\">=</span><span style=\"color: #BA2121\">&quot;shared&quot;</span>)\n",
       "        B_shared <span style=\"color: #AA22FF; font-weight: bold\">=</span> T<span style=\"color: #AA22FF; font-weight: bold\">.</span>alloc_buffer((<span style=\"color: #008000\">1024</span>, <span style=\"color: #008000\">1024</span>), scope<span style=\"color: #AA22FF; font-weight: bold\">=</span><span style=\"color: #BA2121\">&quot;shared&quot;</span>)\n",
       "        <span style=\"color: #008000; font-weight: bold\">for</span> i_0 <span style=\"color: #008000; font-weight: bold\">in</span> T<span style=\"color: #AA22FF; font-weight: bold\">.</span>thread_binding(<span style=\"color: #008000\">16</span>, thread<span style=\"color: #AA22FF; font-weight: bold\">=</span><span style=\"color: #BA2121\">&quot;blockIdx.y&quot;</span>):\n",
       "            <span style=\"color: #008000; font-weight: bold\">for</span> j_0 <span style=\"color: #008000; font-weight: bold\">in</span> T<span style=\"color: #AA22FF; font-weight: bold\">.</span>thread_binding(<span style=\"color: #008000\">16</span>, thread<span style=\"color: #AA22FF; font-weight: bold\">=</span><span style=\"color: #BA2121\">&quot;blockIdx.x&quot;</span>):\n",
       "                <span style=\"color: #008000; font-weight: bold\">for</span> i_1_j_1_fused <span style=\"color: #008000; font-weight: bold\">in</span> T<span style=\"color: #AA22FF; font-weight: bold\">.</span>thread_binding(<span style=\"color: #008000\">64</span>, thread<span style=\"color: #AA22FF; font-weight: bold\">=</span><span style=\"color: #BA2121\">&quot;threadIdx.x&quot;</span>):\n",
       "                    <span style=\"color: #008000; font-weight: bold\">for</span> i_2_init, j_2_init <span style=\"color: #008000; font-weight: bold\">in</span> T<span style=\"color: #AA22FF; font-weight: bold\">.</span>grid(<span style=\"color: #008000\">8</span>, <span style=\"color: #008000\">8</span>):\n",
       "                        <span style=\"color: #008000; font-weight: bold\">with</span> T<span style=\"color: #AA22FF; font-weight: bold\">.</span>block(<span style=\"color: #BA2121\">&quot;C_init&quot;</span>):\n",
       "                            vi <span style=\"color: #AA22FF; font-weight: bold\">=</span> T<span style=\"color: #AA22FF; font-weight: bold\">.</span>axis<span style=\"color: #AA22FF; font-weight: bold\">.</span>spatial(<span style=\"color: #008000\">1024</span>, i_0 <span style=\"color: #AA22FF; font-weight: bold\">*</span> <span style=\"color: #008000\">64</span> <span style=\"color: #AA22FF; font-weight: bold\">+</span> i_1_j_1_fused <span style=\"color: #AA22FF; font-weight: bold\">//</span> <span style=\"color: #008000\">8</span> <span style=\"color: #AA22FF; font-weight: bold\">*</span> <span style=\"color: #008000\">8</span> <span style=\"color: #AA22FF; font-weight: bold\">+</span> i_2_init)\n",
       "                            vj <span style=\"color: #AA22FF; font-weight: bold\">=</span> T<span style=\"color: #AA22FF; font-weight: bold\">.</span>axis<span style=\"color: #AA22FF; font-weight: bold\">.</span>spatial(<span style=\"color: #008000\">1024</span>, j_0 <span style=\"color: #AA22FF; font-weight: bold\">*</span> <span style=\"color: #008000\">64</span> <span style=\"color: #AA22FF; font-weight: bold\">+</span> i_1_j_1_fused <span style=\"color: #AA22FF; font-weight: bold\">%</span> <span style=\"color: #008000\">8</span> <span style=\"color: #AA22FF; font-weight: bold\">*</span> <span style=\"color: #008000\">8</span> <span style=\"color: #AA22FF; font-weight: bold\">+</span> j_2_init)\n",
       "                            T<span style=\"color: #AA22FF; font-weight: bold\">.</span>reads()\n",
       "                            T<span style=\"color: #AA22FF; font-weight: bold\">.</span>writes(C_local[vi, vj])\n",
       "                            C_local[vi, vj] <span style=\"color: #AA22FF; font-weight: bold\">=</span> T<span style=\"color: #AA22FF; font-weight: bold\">.</span>float32(<span style=\"color: #008000\">0.0</span>)\n",
       "                    <span style=\"color: #008000; font-weight: bold\">for</span> k_0 <span style=\"color: #008000; font-weight: bold\">in</span> range(<span style=\"color: #008000\">128</span>):\n",
       "                        <span style=\"color: #008000; font-weight: bold\">for</span> ax0_ax1_fused_0 <span style=\"color: #008000; font-weight: bold\">in</span> range(<span style=\"color: #008000\">2</span>):\n",
       "                            <span style=\"color: #008000; font-weight: bold\">for</span> ax0_ax1_fused_1 <span style=\"color: #008000; font-weight: bold\">in</span> T<span style=\"color: #AA22FF; font-weight: bold\">.</span>thread_binding(<span style=\"color: #008000\">64</span>, thread<span style=\"color: #AA22FF; font-weight: bold\">=</span><span style=\"color: #BA2121\">&quot;threadIdx.x&quot;</span>):\n",
       "                                <span style=\"color: #008000; font-weight: bold\">for</span> ax0_ax1_fused_2 <span style=\"color: #008000; font-weight: bold\">in</span> T<span style=\"color: #AA22FF; font-weight: bold\">.</span>vectorized(<span style=\"color: #008000\">4</span>):\n",
       "                                    <span style=\"color: #008000; font-weight: bold\">with</span> T<span style=\"color: #AA22FF; font-weight: bold\">.</span>block(<span style=\"color: #BA2121\">&quot;A_shared&quot;</span>):\n",
       "                                        v0 <span style=\"color: #AA22FF; font-weight: bold\">=</span> T<span style=\"color: #AA22FF; font-weight: bold\">.</span>axis<span style=\"color: #AA22FF; font-weight: bold\">.</span>spatial(<span style=\"color: #008000\">1024</span>, i_0 <span style=\"color: #AA22FF; font-weight: bold\">*</span> <span style=\"color: #008000\">64</span> <span style=\"color: #AA22FF; font-weight: bold\">+</span> (ax0_ax1_fused_0 <span style=\"color: #AA22FF; font-weight: bold\">*</span> <span style=\"color: #008000\">256</span> <span style=\"color: #AA22FF; font-weight: bold\">+</span> ax0_ax1_fused_1 <span style=\"color: #AA22FF; font-weight: bold\">*</span> <span style=\"color: #008000\">4</span> <span style=\"color: #AA22FF; font-weight: bold\">+</span> ax0_ax1_fused_2) <span style=\"color: #AA22FF; font-weight: bold\">//</span> <span style=\"color: #008000\">8</span>)\n",
       "                                        v1 <span style=\"color: #AA22FF; font-weight: bold\">=</span> T<span style=\"color: #AA22FF; font-weight: bold\">.</span>axis<span style=\"color: #AA22FF; font-weight: bold\">.</span>spatial(<span style=\"color: #008000\">1024</span>, k_0 <span style=\"color: #AA22FF; font-weight: bold\">*</span> <span style=\"color: #008000\">8</span> <span style=\"color: #AA22FF; font-weight: bold\">+</span> (ax0_ax1_fused_0 <span style=\"color: #AA22FF; font-weight: bold\">*</span> <span style=\"color: #008000\">256</span> <span style=\"color: #AA22FF; font-weight: bold\">+</span> ax0_ax1_fused_1 <span style=\"color: #AA22FF; font-weight: bold\">*</span> <span style=\"color: #008000\">4</span> <span style=\"color: #AA22FF; font-weight: bold\">+</span> ax0_ax1_fused_2) <span style=\"color: #AA22FF; font-weight: bold\">%</span> <span style=\"color: #008000\">8</span>)\n",
       "                                        T<span style=\"color: #AA22FF; font-weight: bold\">.</span>reads(A[v0, v1])\n",
       "                                        T<span style=\"color: #AA22FF; font-weight: bold\">.</span>writes(A_shared[v0, v1])\n",
       "                                        A_shared[v0, v1] <span style=\"color: #AA22FF; font-weight: bold\">=</span> A[v0, v1]\n",
       "                        <span style=\"color: #008000; font-weight: bold\">for</span> ax0_ax1_fused_0 <span style=\"color: #008000; font-weight: bold\">in</span> range(<span style=\"color: #008000\">2</span>):\n",
       "                            <span style=\"color: #008000; font-weight: bold\">for</span> ax0_ax1_fused_1 <span style=\"color: #008000; font-weight: bold\">in</span> T<span style=\"color: #AA22FF; font-weight: bold\">.</span>thread_binding(<span style=\"color: #008000\">64</span>, thread<span style=\"color: #AA22FF; font-weight: bold\">=</span><span style=\"color: #BA2121\">&quot;threadIdx.x&quot;</span>):\n",
       "                                <span style=\"color: #008000; font-weight: bold\">for</span> ax0_ax1_fused_2 <span style=\"color: #008000; font-weight: bold\">in</span> T<span style=\"color: #AA22FF; font-weight: bold\">.</span>vectorized(<span style=\"color: #008000\">4</span>):\n",
       "                                    <span style=\"color: #008000; font-weight: bold\">with</span> T<span style=\"color: #AA22FF; font-weight: bold\">.</span>block(<span style=\"color: #BA2121\">&quot;B_shared&quot;</span>):\n",
       "                                        v0 <span style=\"color: #AA22FF; font-weight: bold\">=</span> T<span style=\"color: #AA22FF; font-weight: bold\">.</span>axis<span style=\"color: #AA22FF; font-weight: bold\">.</span>spatial(<span style=\"color: #008000\">1024</span>, k_0 <span style=\"color: #AA22FF; font-weight: bold\">*</span> <span style=\"color: #008000\">8</span> <span style=\"color: #AA22FF; font-weight: bold\">+</span> (ax0_ax1_fused_0 <span style=\"color: #AA22FF; font-weight: bold\">*</span> <span style=\"color: #008000\">256</span> <span style=\"color: #AA22FF; font-weight: bold\">+</span> ax0_ax1_fused_1 <span style=\"color: #AA22FF; font-weight: bold\">*</span> <span style=\"color: #008000\">4</span> <span style=\"color: #AA22FF; font-weight: bold\">+</span> ax0_ax1_fused_2) <span style=\"color: #AA22FF; font-weight: bold\">//</span> <span style=\"color: #008000\">64</span>)\n",
       "                                        v1 <span style=\"color: #AA22FF; font-weight: bold\">=</span> T<span style=\"color: #AA22FF; font-weight: bold\">.</span>axis<span style=\"color: #AA22FF; font-weight: bold\">.</span>spatial(<span style=\"color: #008000\">1024</span>, j_0 <span style=\"color: #AA22FF; font-weight: bold\">*</span> <span style=\"color: #008000\">64</span> <span style=\"color: #AA22FF; font-weight: bold\">+</span> (ax0_ax1_fused_0 <span style=\"color: #AA22FF; font-weight: bold\">*</span> <span style=\"color: #008000\">256</span> <span style=\"color: #AA22FF; font-weight: bold\">+</span> ax0_ax1_fused_1 <span style=\"color: #AA22FF; font-weight: bold\">*</span> <span style=\"color: #008000\">4</span> <span style=\"color: #AA22FF; font-weight: bold\">+</span> ax0_ax1_fused_2) <span style=\"color: #AA22FF; font-weight: bold\">%</span> <span style=\"color: #008000\">64</span>)\n",
       "                                        T<span style=\"color: #AA22FF; font-weight: bold\">.</span>reads(B[v0, v1])\n",
       "                                        T<span style=\"color: #AA22FF; font-weight: bold\">.</span>writes(B_shared[v0, v1])\n",
       "                                        B_shared[v0, v1] <span style=\"color: #AA22FF; font-weight: bold\">=</span> B[v0, v1]\n",
       "                        <span style=\"color: #008000; font-weight: bold\">for</span> k_1, i_2, j_2 <span style=\"color: #008000; font-weight: bold\">in</span> T<span style=\"color: #AA22FF; font-weight: bold\">.</span>grid(<span style=\"color: #008000\">8</span>, <span style=\"color: #008000\">8</span>, <span style=\"color: #008000\">8</span>):\n",
       "                            <span style=\"color: #008000; font-weight: bold\">with</span> T<span style=\"color: #AA22FF; font-weight: bold\">.</span>block(<span style=\"color: #BA2121\">&quot;C_update&quot;</span>):\n",
       "                                vi <span style=\"color: #AA22FF; font-weight: bold\">=</span> T<span style=\"color: #AA22FF; font-weight: bold\">.</span>axis<span style=\"color: #AA22FF; font-weight: bold\">.</span>spatial(<span style=\"color: #008000\">1024</span>, i_0 <span style=\"color: #AA22FF; font-weight: bold\">*</span> <span style=\"color: #008000\">64</span> <span style=\"color: #AA22FF; font-weight: bold\">+</span> i_1_j_1_fused <span style=\"color: #AA22FF; font-weight: bold\">//</span> <span style=\"color: #008000\">8</span> <span style=\"color: #AA22FF; font-weight: bold\">*</span> <span style=\"color: #008000\">8</span> <span style=\"color: #AA22FF; font-weight: bold\">+</span> i_2)\n",
       "                                vj <span style=\"color: #AA22FF; font-weight: bold\">=</span> T<span style=\"color: #AA22FF; font-weight: bold\">.</span>axis<span style=\"color: #AA22FF; font-weight: bold\">.</span>spatial(<span style=\"color: #008000\">1024</span>, j_0 <span style=\"color: #AA22FF; font-weight: bold\">*</span> <span style=\"color: #008000\">64</span> <span style=\"color: #AA22FF; font-weight: bold\">+</span> i_1_j_1_fused <span style=\"color: #AA22FF; font-weight: bold\">%</span> <span style=\"color: #008000\">8</span> <span style=\"color: #AA22FF; font-weight: bold\">*</span> <span style=\"color: #008000\">8</span> <span style=\"color: #AA22FF; font-weight: bold\">+</span> j_2)\n",
       "                                vk <span style=\"color: #AA22FF; font-weight: bold\">=</span> T<span style=\"color: #AA22FF; font-weight: bold\">.</span>axis<span style=\"color: #AA22FF; font-weight: bold\">.</span>reduce(<span style=\"color: #008000\">1024</span>, k_0 <span style=\"color: #AA22FF; font-weight: bold\">*</span> <span style=\"color: #008000\">8</span> <span style=\"color: #AA22FF; font-weight: bold\">+</span> k_1)\n",
       "                                T<span style=\"color: #AA22FF; font-weight: bold\">.</span>reads(C_local[vi, vj], A_shared[vi, vk], B_shared[vk, vj])\n",
       "                                T<span style=\"color: #AA22FF; font-weight: bold\">.</span>writes(C_local[vi, vj])\n",
       "                                C_local[vi, vj] <span style=\"color: #AA22FF; font-weight: bold\">=</span> C_local[vi, vj] <span style=\"color: #AA22FF; font-weight: bold\">+</span> A_shared[vi, vk] <span style=\"color: #AA22FF; font-weight: bold\">*</span> B_shared[vk, vj]\n",
       "                    <span style=\"color: #008000; font-weight: bold\">for</span> ax0, ax1 <span style=\"color: #008000; font-weight: bold\">in</span> T<span style=\"color: #AA22FF; font-weight: bold\">.</span>grid(<span style=\"color: #008000\">8</span>, <span style=\"color: #008000\">8</span>):\n",
       "                        <span style=\"color: #008000; font-weight: bold\">with</span> T<span style=\"color: #AA22FF; font-weight: bold\">.</span>block(<span style=\"color: #BA2121\">&quot;C_local&quot;</span>):\n",
       "                            v0 <span style=\"color: #AA22FF; font-weight: bold\">=</span> T<span style=\"color: #AA22FF; font-weight: bold\">.</span>axis<span style=\"color: #AA22FF; font-weight: bold\">.</span>spatial(<span style=\"color: #008000\">1024</span>, i_0 <span style=\"color: #AA22FF; font-weight: bold\">*</span> <span style=\"color: #008000\">64</span> <span style=\"color: #AA22FF; font-weight: bold\">+</span> i_1_j_1_fused <span style=\"color: #AA22FF; font-weight: bold\">//</span> <span style=\"color: #008000\">8</span> <span style=\"color: #AA22FF; font-weight: bold\">*</span> <span style=\"color: #008000\">8</span> <span style=\"color: #AA22FF; font-weight: bold\">+</span> ax0)\n",
       "                            v1 <span style=\"color: #AA22FF; font-weight: bold\">=</span> T<span style=\"color: #AA22FF; font-weight: bold\">.</span>axis<span style=\"color: #AA22FF; font-weight: bold\">.</span>spatial(<span style=\"color: #008000\">1024</span>, j_0 <span style=\"color: #AA22FF; font-weight: bold\">*</span> <span style=\"color: #008000\">64</span> <span style=\"color: #AA22FF; font-weight: bold\">+</span> i_1_j_1_fused <span style=\"color: #AA22FF; font-weight: bold\">%</span> <span style=\"color: #008000\">8</span> <span style=\"color: #AA22FF; font-weight: bold\">*</span> <span style=\"color: #008000\">8</span> <span style=\"color: #AA22FF; font-weight: bold\">+</span> ax1)\n",
       "                            T<span style=\"color: #AA22FF; font-weight: bold\">.</span>reads(C_local[v0, v1])\n",
       "                            T<span style=\"color: #AA22FF; font-weight: bold\">.</span>writes(C[v0, v1])\n",
       "                            C[v0, v1] <span style=\"color: #AA22FF; font-weight: bold\">=</span> C_local[v0, v1]\n",
       "</pre></div>\n"
      ],
      "text/plain": [
       "<IPython.core.display.HTML object>"
      ]
     },
     "metadata": {},
     "output_type": "display_data"
    }
   ],
   "source": [
    "def cache_read_and_coop_fetch(sch, block, nthread, read_idx, read_loc):\n",
    "    read_cache = sch.cache_read(block=block, read_buffer_index=read_idx, storage_scope=\"shared\")\n",
    "    sch.compute_at(block=read_cache, loop=read_loc)\n",
    "    # vectorized cooperative fetch\n",
    "    inner0, inner1 = sch.get_loops(block=read_cache)[-2:]\n",
    "    inner = sch.fuse(inner0, inner1)\n",
    "    _, tx, vec = sch.split(loop=inner, factors=[None, nthread, 4])\n",
    "    sch.vectorize(vec)\n",
    "    sch.bind(tx, \"threadIdx.x\")\n",
    "\n",
    "\n",
    "def blocking_with_shared(\n",
    "    sch,\n",
    "    tile_local_y,\n",
    "    tile_local_x,\n",
    "    tile_block_y,\n",
    "    tile_block_x,\n",
    "    tile_k):\n",
    "    block_C = sch.get_block(\"C\")\n",
    "    C_local = sch.cache_write(block_C, 0, \"local\")\n",
    "\n",
    "    i, j, k = sch.get_loops(block=block_C)\n",
    "\n",
    "    i0, i1, i2 = sch.split(loop=i, factors=[None, tile_block_y, tile_local_y])\n",
    "    j0, j1, j2 = sch.split(loop=j, factors=[None, tile_block_x, tile_local_x])\n",
    "    k0, k1 = sch.split(loop=k, factors=[None, tile_k])\n",
    "\n",
    "    sch.reorder(i0, j0, i1, j1, k0, k1, i2, j2)\n",
    "    sch.reverse_compute_at(C_local, j1)\n",
    "\n",
    "    sch.bind(i0, \"blockIdx.y\")\n",
    "    sch.bind(j0, \"blockIdx.x\")\n",
    "\n",
    "    tx = sch.fuse(i1, j1)\n",
    "    sch.bind(tx, \"threadIdx.x\")\n",
    "    nthread = tile_block_y * tile_block_x\n",
    "    cache_read_and_coop_fetch(sch, block_C, nthread, 0, k0)\n",
    "    cache_read_and_coop_fetch(sch, block_C, nthread, 1, k0)\n",
    "    sch.decompose_reduction(block_C, k0)\n",
    "\n",
    "    return sch\n",
    "\n",
    "sch = tvm.tir.Schedule(MyModuleMatmul)\n",
    "sch = blocking_with_shared(sch, 8, 8, 8, 8, 8)\n",
    "sch.mod.show()"
   ]
  },
  {
   "cell_type": "code",
   "execution_count": null,
   "id": "51b93e74-870e-4cae-a44a-318f94d382ea",
   "metadata": {},
   "outputs": [],
   "source": []
  },
  {
   "cell_type": "code",
   "execution_count": null,
   "id": "77469a0c-b785-4a32-99f8-117131830563",
   "metadata": {},
   "outputs": [],
   "source": []
  },
  {
   "cell_type": "code",
   "execution_count": null,
   "id": "5f6e86b8-0e1c-44cc-86c7-da2b0046f17d",
   "metadata": {},
   "outputs": [],
   "source": []
  }
 ],
 "metadata": {
  "kernelspec": {
   "display_name": "Python 3 (ipykernel)",
   "language": "python",
   "name": "python3"
  },
  "language_info": {
   "codemirror_mode": {
    "name": "ipython",
    "version": 3
   },
   "file_extension": ".py",
   "mimetype": "text/x-python",
   "name": "python",
   "nbconvert_exporter": "python",
   "pygments_lexer": "ipython3",
   "version": "3.8.19"
  }
 },
 "nbformat": 4,
 "nbformat_minor": 5
}
