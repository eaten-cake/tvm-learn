{
 "cells": [
  {
   "cell_type": "code",
   "execution_count": 1,
   "id": "11d37383-8bb4-4524-8de7-d4a88f858ff2",
   "metadata": {},
   "outputs": [],
   "source": [
    "import numpy as np\n",
    "import tvm\n",
    "from tvm import relax\n",
    "from tvm.ir.module import IRModule\n",
    "from tvm.script import relax as R\n",
    "from tvm.script import tir as T"
   ]
  },
  {
   "cell_type": "code",
   "execution_count": 2,
   "id": "b1d66d37-0859-4c26-bdb8-e13565f1193c",
   "metadata": {},
   "outputs": [],
   "source": [
    "def accel_fill_zero(C):\n",
    "    C[:] = 0\n",
    "\n",
    "def accel_tmm_add(C, A, B):\n",
    "    C[:] += A @ B.T\n",
    "\n",
    "def accel_dma_copy(reg, dram):\n",
    "    reg[:] = dram[:]\n",
    "\n",
    "def lnumpy_tmm(A: np.ndarray, B: np.ndarray, C: np.ndarray):\n",
    "    # a special accumulator memory\n",
    "    C_accumulator = np.empty((16, 16), dtype=\"float32\")\n",
    "    A_reg = np.empty((16, 16), dtype=\"float32\")\n",
    "    B_reg = np.empty((16, 16), dtype=\"float32\")\n",
    "\n",
    "    for i in range(64):\n",
    "        for j in range(64):\n",
    "            accel_fill_zero(C_accumulator[:,:])\n",
    "            for k in range(64):\n",
    "                accel_dma_copy(A_reg[:], A[i * 16 : i * 16 + 16, k * 16 : k * 16 + 16])\n",
    "                accel_dma_copy(B_reg[:], B[j * 16 : j * 16 + 16, k * 16 : k * 16 + 16])\n",
    "                accel_tmm_add(C_accumulator[:,:], A_reg, B_reg)\n",
    "            accel_dma_copy(C[i * 16 : i * 16 + 16, j * 16 : j * 16 + 16], C_accumulator[:,:])"
   ]
  },
  {
   "cell_type": "code",
   "execution_count": 2,
   "id": "08973a40-7c46-400e-ad59-08afbb63ce08",
   "metadata": {},
   "outputs": [],
   "source": [
    "dtype = \"float32\"\n",
    "a_np = np.random.rand(1024, 1024).astype(dtype)\n",
    "b_np = np.random.rand(1024, 1024).astype(dtype)\n",
    "c_tmm = a_np @ b_np.T"
   ]
  },
  {
   "cell_type": "code",
   "execution_count": 4,
   "id": "065f5ab9-5d14-4c45-b88f-0bd49686300a",
   "metadata": {},
   "outputs": [],
   "source": [
    "c_np = np.empty((1024, 1024), dtype=\"float32\")\n",
    "lnumpy_tmm(a_np, b_np, c_np)\n",
    "np.testing.assert_allclose(c_np, c_tmm, rtol=1e-5)"
   ]
  },
  {
   "cell_type": "code",
   "execution_count": 5,
   "id": "12834b57-323a-4e62-ae92-ae6086bf4845",
   "metadata": {},
   "outputs": [],
   "source": [
    "@tvm.script.ir_module\n",
    "class MatmulBlockModule:\n",
    "    @T.prim_func\n",
    "    def main(\n",
    "        A: T.Buffer((1024, 1024), \"float32\"),\n",
    "        B: T.Buffer((1024, 1024), \"float32\"),\n",
    "        C: T.Buffer((1024, 1024), \"float32\"),\n",
    "    ) -> None:\n",
    "        T.func_attr({\"global_symbol\": \"main\", \"tir.noalias\": True})\n",
    "        for i0, j0, k0 in T.grid(64, 64, 64):\n",
    "            with T.block(\"tmm-16x16\"):\n",
    "                vi0, vj0, vk0 = T.axis.remap(\"SSR\", [i0, j0, k0])\n",
    "                with T.init():\n",
    "                    for i1, j1 in T.grid(16, 16):\n",
    "                        with T.block(\"tmm_init\"):\n",
    "                            vi1, vj1 = T.axis.remap(\"SS\", [i1, j1])\n",
    "                            C[vi0 * 16 + vi1, vj0 * 16 + vj1] = T.float32(0)\n",
    "\n",
    "                for i1, j1, k1 in T.grid(16, 16, 16):\n",
    "                    with T.block(\"tmm\"):\n",
    "                        vi1, vj1, vk1 = T.axis.remap(\"SSR\", [i1, j1, k1])\n",
    "                        C[vi0 *16 + vi1, vj0 * 16 + vj1] += \\\n",
    "                            A[vi0 * 16 + vi1, vk0 * 16 + vk1] * B[vj0 * 16 + vj1, vk0 * 16 + vk1]"
   ]
  },
  {
   "cell_type": "code",
   "execution_count": 6,
   "id": "7a7975e8-0ab7-4bcc-81c2-c25eaa2096ac",
   "metadata": {},
   "outputs": [
    {
     "data": {
      "text/html": [
       "<div class=\"highlight\" style=\"background: \"><pre style=\"line-height: 125%;\"><span></span><span style=\"color: #007979; font-style: italic\"># from tvm.script import ir as I</span>\n",
       "<span style=\"color: #007979; font-style: italic\"># from tvm.script import tir as T</span>\n",
       "\n",
       "<span style=\"color: #AA22FF\">@I</span><span style=\"color: #AA22FF; font-weight: bold\">.</span>ir_module\n",
       "<span style=\"color: #008000; font-weight: bold\">class</span> <span style=\"color: #0000FF; font-weight: bold\">Module</span>:\n",
       "    <span style=\"color: #AA22FF\">@T</span><span style=\"color: #AA22FF; font-weight: bold\">.</span>prim_func\n",
       "    <span style=\"color: #008000; font-weight: bold\">def</span> <span style=\"color: #0000FF\">main</span>(A: T<span style=\"color: #AA22FF; font-weight: bold\">.</span>Buffer((<span style=\"color: #008000\">1024</span>, <span style=\"color: #008000\">1024</span>), <span style=\"color: #BA2121\">&quot;float32&quot;</span>), B: T<span style=\"color: #AA22FF; font-weight: bold\">.</span>Buffer((<span style=\"color: #008000\">1024</span>, <span style=\"color: #008000\">1024</span>), <span style=\"color: #BA2121\">&quot;float32&quot;</span>), C: T<span style=\"color: #AA22FF; font-weight: bold\">.</span>Buffer((<span style=\"color: #008000\">1024</span>, <span style=\"color: #008000\">1024</span>), <span style=\"color: #BA2121\">&quot;float32&quot;</span>)):\n",
       "        T<span style=\"color: #AA22FF; font-weight: bold\">.</span>func_attr({<span style=\"color: #BA2121\">&quot;tir.noalias&quot;</span>: T<span style=\"color: #AA22FF; font-weight: bold\">.</span>bool(<span style=\"color: #008000; font-weight: bold\">True</span>)})\n",
       "        <span style=\"color: #007979; font-style: italic\"># with T.block(&quot;root&quot;):</span>\n",
       "        <span style=\"color: #008000; font-weight: bold\">for</span> i0, j0, k0 <span style=\"color: #008000; font-weight: bold\">in</span> T<span style=\"color: #AA22FF; font-weight: bold\">.</span>grid(<span style=\"color: #008000\">64</span>, <span style=\"color: #008000\">64</span>, <span style=\"color: #008000\">64</span>):\n",
       "            <span style=\"color: #008000; font-weight: bold\">with</span> T<span style=\"color: #AA22FF; font-weight: bold\">.</span>block(<span style=\"color: #BA2121\">&quot;tmm-16x16&quot;</span>):\n",
       "                vi0, vj0, vk0 <span style=\"color: #AA22FF; font-weight: bold\">=</span> T<span style=\"color: #AA22FF; font-weight: bold\">.</span>axis<span style=\"color: #AA22FF; font-weight: bold\">.</span>remap(<span style=\"color: #BA2121\">&quot;SSR&quot;</span>, [i0, j0, k0])\n",
       "                T<span style=\"color: #AA22FF; font-weight: bold\">.</span>reads(A[vi0 <span style=\"color: #AA22FF; font-weight: bold\">*</span> <span style=\"color: #008000\">16</span>:vi0 <span style=\"color: #AA22FF; font-weight: bold\">*</span> <span style=\"color: #008000\">16</span> <span style=\"color: #AA22FF; font-weight: bold\">+</span> <span style=\"color: #008000\">16</span>, vk0 <span style=\"color: #AA22FF; font-weight: bold\">*</span> <span style=\"color: #008000\">16</span>:vk0 <span style=\"color: #AA22FF; font-weight: bold\">*</span> <span style=\"color: #008000\">16</span> <span style=\"color: #AA22FF; font-weight: bold\">+</span> <span style=\"color: #008000\">16</span>], B[vj0 <span style=\"color: #AA22FF; font-weight: bold\">*</span> <span style=\"color: #008000\">16</span>:vj0 <span style=\"color: #AA22FF; font-weight: bold\">*</span> <span style=\"color: #008000\">16</span> <span style=\"color: #AA22FF; font-weight: bold\">+</span> <span style=\"color: #008000\">16</span>, vk0 <span style=\"color: #AA22FF; font-weight: bold\">*</span> <span style=\"color: #008000\">16</span>:vk0 <span style=\"color: #AA22FF; font-weight: bold\">*</span> <span style=\"color: #008000\">16</span> <span style=\"color: #AA22FF; font-weight: bold\">+</span> <span style=\"color: #008000\">16</span>])\n",
       "                T<span style=\"color: #AA22FF; font-weight: bold\">.</span>writes(C[vi0 <span style=\"color: #AA22FF; font-weight: bold\">*</span> <span style=\"color: #008000\">16</span>:vi0 <span style=\"color: #AA22FF; font-weight: bold\">*</span> <span style=\"color: #008000\">16</span> <span style=\"color: #AA22FF; font-weight: bold\">+</span> <span style=\"color: #008000\">16</span>, vj0 <span style=\"color: #AA22FF; font-weight: bold\">*</span> <span style=\"color: #008000\">16</span>:vj0 <span style=\"color: #AA22FF; font-weight: bold\">*</span> <span style=\"color: #008000\">16</span> <span style=\"color: #AA22FF; font-weight: bold\">+</span> <span style=\"color: #008000\">16</span>])\n",
       "                <span style=\"color: #008000; font-weight: bold\">with</span> T<span style=\"color: #AA22FF; font-weight: bold\">.</span>init():\n",
       "                    <span style=\"color: #008000; font-weight: bold\">for</span> i1, j1 <span style=\"color: #008000; font-weight: bold\">in</span> T<span style=\"color: #AA22FF; font-weight: bold\">.</span>grid(<span style=\"color: #008000\">16</span>, <span style=\"color: #008000\">16</span>):\n",
       "                        <span style=\"color: #008000; font-weight: bold\">with</span> T<span style=\"color: #AA22FF; font-weight: bold\">.</span>block(<span style=\"color: #BA2121\">&quot;tmm_init&quot;</span>):\n",
       "                            vi1, vj1 <span style=\"color: #AA22FF; font-weight: bold\">=</span> T<span style=\"color: #AA22FF; font-weight: bold\">.</span>axis<span style=\"color: #AA22FF; font-weight: bold\">.</span>remap(<span style=\"color: #BA2121\">&quot;SS&quot;</span>, [i1, j1])\n",
       "                            T<span style=\"color: #AA22FF; font-weight: bold\">.</span>reads()\n",
       "                            T<span style=\"color: #AA22FF; font-weight: bold\">.</span>writes(C[vi0 <span style=\"color: #AA22FF; font-weight: bold\">*</span> <span style=\"color: #008000\">16</span> <span style=\"color: #AA22FF; font-weight: bold\">+</span> vi1, vj0 <span style=\"color: #AA22FF; font-weight: bold\">*</span> <span style=\"color: #008000\">16</span> <span style=\"color: #AA22FF; font-weight: bold\">+</span> vj1])\n",
       "                            C[vi0 <span style=\"color: #AA22FF; font-weight: bold\">*</span> <span style=\"color: #008000\">16</span> <span style=\"color: #AA22FF; font-weight: bold\">+</span> vi1, vj0 <span style=\"color: #AA22FF; font-weight: bold\">*</span> <span style=\"color: #008000\">16</span> <span style=\"color: #AA22FF; font-weight: bold\">+</span> vj1] <span style=\"color: #AA22FF; font-weight: bold\">=</span> T<span style=\"color: #AA22FF; font-weight: bold\">.</span>float32(<span style=\"color: #008000\">0.0</span>)\n",
       "                <span style=\"color: #008000; font-weight: bold\">for</span> i1, j1, k1 <span style=\"color: #008000; font-weight: bold\">in</span> T<span style=\"color: #AA22FF; font-weight: bold\">.</span>grid(<span style=\"color: #008000\">16</span>, <span style=\"color: #008000\">16</span>, <span style=\"color: #008000\">16</span>):\n",
       "                    <span style=\"color: #008000; font-weight: bold\">with</span> T<span style=\"color: #AA22FF; font-weight: bold\">.</span>block(<span style=\"color: #BA2121\">&quot;tmm&quot;</span>):\n",
       "                        vi1, vj1, vk1 <span style=\"color: #AA22FF; font-weight: bold\">=</span> T<span style=\"color: #AA22FF; font-weight: bold\">.</span>axis<span style=\"color: #AA22FF; font-weight: bold\">.</span>remap(<span style=\"color: #BA2121\">&quot;SSR&quot;</span>, [i1, j1, k1])\n",
       "                        T<span style=\"color: #AA22FF; font-weight: bold\">.</span>reads(C[vi0 <span style=\"color: #AA22FF; font-weight: bold\">*</span> <span style=\"color: #008000\">16</span> <span style=\"color: #AA22FF; font-weight: bold\">+</span> vi1, vj0 <span style=\"color: #AA22FF; font-weight: bold\">*</span> <span style=\"color: #008000\">16</span> <span style=\"color: #AA22FF; font-weight: bold\">+</span> vj1], A[vi0 <span style=\"color: #AA22FF; font-weight: bold\">*</span> <span style=\"color: #008000\">16</span> <span style=\"color: #AA22FF; font-weight: bold\">+</span> vi1, vk0 <span style=\"color: #AA22FF; font-weight: bold\">*</span> <span style=\"color: #008000\">16</span> <span style=\"color: #AA22FF; font-weight: bold\">+</span> vk1], B[vj0 <span style=\"color: #AA22FF; font-weight: bold\">*</span> <span style=\"color: #008000\">16</span> <span style=\"color: #AA22FF; font-weight: bold\">+</span> vj1, vk0 <span style=\"color: #AA22FF; font-weight: bold\">*</span> <span style=\"color: #008000\">16</span> <span style=\"color: #AA22FF; font-weight: bold\">+</span> vk1])\n",
       "                        T<span style=\"color: #AA22FF; font-weight: bold\">.</span>writes(C[vi0 <span style=\"color: #AA22FF; font-weight: bold\">*</span> <span style=\"color: #008000\">16</span> <span style=\"color: #AA22FF; font-weight: bold\">+</span> vi1, vj0 <span style=\"color: #AA22FF; font-weight: bold\">*</span> <span style=\"color: #008000\">16</span> <span style=\"color: #AA22FF; font-weight: bold\">+</span> vj1])\n",
       "                        C[vi0 <span style=\"color: #AA22FF; font-weight: bold\">*</span> <span style=\"color: #008000\">16</span> <span style=\"color: #AA22FF; font-weight: bold\">+</span> vi1, vj0 <span style=\"color: #AA22FF; font-weight: bold\">*</span> <span style=\"color: #008000\">16</span> <span style=\"color: #AA22FF; font-weight: bold\">+</span> vj1] <span style=\"color: #AA22FF; font-weight: bold\">=</span> C[vi0 <span style=\"color: #AA22FF; font-weight: bold\">*</span> <span style=\"color: #008000\">16</span> <span style=\"color: #AA22FF; font-weight: bold\">+</span> vi1, vj0 <span style=\"color: #AA22FF; font-weight: bold\">*</span> <span style=\"color: #008000\">16</span> <span style=\"color: #AA22FF; font-weight: bold\">+</span> vj1] <span style=\"color: #AA22FF; font-weight: bold\">+</span> A[vi0 <span style=\"color: #AA22FF; font-weight: bold\">*</span> <span style=\"color: #008000\">16</span> <span style=\"color: #AA22FF; font-weight: bold\">+</span> vi1, vk0 <span style=\"color: #AA22FF; font-weight: bold\">*</span> <span style=\"color: #008000\">16</span> <span style=\"color: #AA22FF; font-weight: bold\">+</span> vk1] <span style=\"color: #AA22FF; font-weight: bold\">*</span> B[vj0 <span style=\"color: #AA22FF; font-weight: bold\">*</span> <span style=\"color: #008000\">16</span> <span style=\"color: #AA22FF; font-weight: bold\">+</span> vj1, vk0 <span style=\"color: #AA22FF; font-weight: bold\">*</span> <span style=\"color: #008000\">16</span> <span style=\"color: #AA22FF; font-weight: bold\">+</span> vk1]\n",
       "</pre></div>\n"
      ],
      "text/plain": [
       "<IPython.core.display.HTML object>"
      ]
     },
     "metadata": {},
     "output_type": "display_data"
    }
   ],
   "source": [
    "MatmulBlockModule.show()"
   ]
  },
  {
   "cell_type": "code",
   "execution_count": 7,
   "id": "d58912a4-1ef9-4da5-9d0a-5caf0bd4cd0c",
   "metadata": {},
   "outputs": [],
   "source": [
    "a_nd = tvm.nd.array(a_np)\n",
    "b_nd = tvm.nd.array(b_np)\n",
    "\n",
    "c_nd = tvm.nd.empty((1024, 1024), dtype=\"float32\")\n",
    "\n",
    "lib = tvm.build(MatmulBlockModule, target=\"llvm\")\n",
    "lib[\"main\"](a_nd, b_nd, c_nd)\n",
    "np.testing.assert_allclose(c_nd.numpy(), c_tmm, rtol=1e-5)"
   ]
  },
  {
   "cell_type": "code",
   "execution_count": 8,
   "id": "5bc56c84-3eb3-4005-bc0e-7ab7bfa66833",
   "metadata": {},
   "outputs": [
    {
     "data": {
      "text/html": [
       "<div class=\"highlight\" style=\"background: \"><pre style=\"line-height: 125%;\"><span></span><span style=\"color: #007979; font-style: italic\"># from tvm.script import ir as I</span>\n",
       "<span style=\"color: #007979; font-style: italic\"># from tvm.script import tir as T</span>\n",
       "\n",
       "<span style=\"color: #AA22FF\">@I</span><span style=\"color: #AA22FF; font-weight: bold\">.</span>ir_module\n",
       "<span style=\"color: #008000; font-weight: bold\">class</span> <span style=\"color: #0000FF; font-weight: bold\">Module</span>:\n",
       "    <span style=\"color: #AA22FF\">@T</span><span style=\"color: #AA22FF; font-weight: bold\">.</span>prim_func\n",
       "    <span style=\"color: #008000; font-weight: bold\">def</span> <span style=\"color: #0000FF\">main</span>(A: T<span style=\"color: #AA22FF; font-weight: bold\">.</span>Buffer((<span style=\"color: #008000\">1024</span>, <span style=\"color: #008000\">1024</span>), <span style=\"color: #BA2121\">&quot;float32&quot;</span>), B: T<span style=\"color: #AA22FF; font-weight: bold\">.</span>Buffer((<span style=\"color: #008000\">1024</span>, <span style=\"color: #008000\">1024</span>), <span style=\"color: #BA2121\">&quot;float32&quot;</span>), C: T<span style=\"color: #AA22FF; font-weight: bold\">.</span>Buffer((<span style=\"color: #008000\">1024</span>, <span style=\"color: #008000\">1024</span>), <span style=\"color: #BA2121\">&quot;float32&quot;</span>)):\n",
       "        T<span style=\"color: #AA22FF; font-weight: bold\">.</span>func_attr({<span style=\"color: #BA2121\">&quot;tir.noalias&quot;</span>: T<span style=\"color: #AA22FF; font-weight: bold\">.</span>bool(<span style=\"color: #008000; font-weight: bold\">True</span>)})\n",
       "        <span style=\"color: #007979; font-style: italic\"># with T.block(&quot;root&quot;):</span>\n",
       "        <span style=\"color: #008000; font-weight: bold\">for</span> i0_0, j0, i0_1, k0 <span style=\"color: #008000; font-weight: bold\">in</span> T<span style=\"color: #AA22FF; font-weight: bold\">.</span>grid(<span style=\"color: #008000\">16</span>, <span style=\"color: #008000\">64</span>, <span style=\"color: #008000\">4</span>, <span style=\"color: #008000\">64</span>):\n",
       "            <span style=\"color: #008000; font-weight: bold\">with</span> T<span style=\"color: #AA22FF; font-weight: bold\">.</span>block(<span style=\"color: #BA2121\">&quot;tmm-16x16&quot;</span>):\n",
       "                vi0 <span style=\"color: #AA22FF; font-weight: bold\">=</span> T<span style=\"color: #AA22FF; font-weight: bold\">.</span>axis<span style=\"color: #AA22FF; font-weight: bold\">.</span>spatial(<span style=\"color: #008000\">64</span>, i0_0 <span style=\"color: #AA22FF; font-weight: bold\">*</span> <span style=\"color: #008000\">4</span> <span style=\"color: #AA22FF; font-weight: bold\">+</span> i0_1)\n",
       "                vj0, vk0 <span style=\"color: #AA22FF; font-weight: bold\">=</span> T<span style=\"color: #AA22FF; font-weight: bold\">.</span>axis<span style=\"color: #AA22FF; font-weight: bold\">.</span>remap(<span style=\"color: #BA2121\">&quot;SR&quot;</span>, [j0, k0])\n",
       "                T<span style=\"color: #AA22FF; font-weight: bold\">.</span>reads(A[vi0 <span style=\"color: #AA22FF; font-weight: bold\">*</span> <span style=\"color: #008000\">16</span>:vi0 <span style=\"color: #AA22FF; font-weight: bold\">*</span> <span style=\"color: #008000\">16</span> <span style=\"color: #AA22FF; font-weight: bold\">+</span> <span style=\"color: #008000\">16</span>, vk0 <span style=\"color: #AA22FF; font-weight: bold\">*</span> <span style=\"color: #008000\">16</span>:vk0 <span style=\"color: #AA22FF; font-weight: bold\">*</span> <span style=\"color: #008000\">16</span> <span style=\"color: #AA22FF; font-weight: bold\">+</span> <span style=\"color: #008000\">16</span>], B[vj0 <span style=\"color: #AA22FF; font-weight: bold\">*</span> <span style=\"color: #008000\">16</span>:vj0 <span style=\"color: #AA22FF; font-weight: bold\">*</span> <span style=\"color: #008000\">16</span> <span style=\"color: #AA22FF; font-weight: bold\">+</span> <span style=\"color: #008000\">16</span>, vk0 <span style=\"color: #AA22FF; font-weight: bold\">*</span> <span style=\"color: #008000\">16</span>:vk0 <span style=\"color: #AA22FF; font-weight: bold\">*</span> <span style=\"color: #008000\">16</span> <span style=\"color: #AA22FF; font-weight: bold\">+</span> <span style=\"color: #008000\">16</span>])\n",
       "                T<span style=\"color: #AA22FF; font-weight: bold\">.</span>writes(C[vi0 <span style=\"color: #AA22FF; font-weight: bold\">*</span> <span style=\"color: #008000\">16</span>:vi0 <span style=\"color: #AA22FF; font-weight: bold\">*</span> <span style=\"color: #008000\">16</span> <span style=\"color: #AA22FF; font-weight: bold\">+</span> <span style=\"color: #008000\">16</span>, vj0 <span style=\"color: #AA22FF; font-weight: bold\">*</span> <span style=\"color: #008000\">16</span>:vj0 <span style=\"color: #AA22FF; font-weight: bold\">*</span> <span style=\"color: #008000\">16</span> <span style=\"color: #AA22FF; font-weight: bold\">+</span> <span style=\"color: #008000\">16</span>])\n",
       "                <span style=\"color: #008000; font-weight: bold\">with</span> T<span style=\"color: #AA22FF; font-weight: bold\">.</span>init():\n",
       "                    <span style=\"color: #008000; font-weight: bold\">for</span> i1, j1 <span style=\"color: #008000; font-weight: bold\">in</span> T<span style=\"color: #AA22FF; font-weight: bold\">.</span>grid(<span style=\"color: #008000\">16</span>, <span style=\"color: #008000\">16</span>):\n",
       "                        <span style=\"color: #008000; font-weight: bold\">with</span> T<span style=\"color: #AA22FF; font-weight: bold\">.</span>block(<span style=\"color: #BA2121\">&quot;tmm_init&quot;</span>):\n",
       "                            vi1, vj1 <span style=\"color: #AA22FF; font-weight: bold\">=</span> T<span style=\"color: #AA22FF; font-weight: bold\">.</span>axis<span style=\"color: #AA22FF; font-weight: bold\">.</span>remap(<span style=\"color: #BA2121\">&quot;SS&quot;</span>, [i1, j1])\n",
       "                            T<span style=\"color: #AA22FF; font-weight: bold\">.</span>reads()\n",
       "                            T<span style=\"color: #AA22FF; font-weight: bold\">.</span>writes(C[vi0 <span style=\"color: #AA22FF; font-weight: bold\">*</span> <span style=\"color: #008000\">16</span> <span style=\"color: #AA22FF; font-weight: bold\">+</span> vi1, vj0 <span style=\"color: #AA22FF; font-weight: bold\">*</span> <span style=\"color: #008000\">16</span> <span style=\"color: #AA22FF; font-weight: bold\">+</span> vj1])\n",
       "                            C[vi0 <span style=\"color: #AA22FF; font-weight: bold\">*</span> <span style=\"color: #008000\">16</span> <span style=\"color: #AA22FF; font-weight: bold\">+</span> vi1, vj0 <span style=\"color: #AA22FF; font-weight: bold\">*</span> <span style=\"color: #008000\">16</span> <span style=\"color: #AA22FF; font-weight: bold\">+</span> vj1] <span style=\"color: #AA22FF; font-weight: bold\">=</span> T<span style=\"color: #AA22FF; font-weight: bold\">.</span>float32(<span style=\"color: #008000\">0.0</span>)\n",
       "                <span style=\"color: #008000; font-weight: bold\">for</span> i1, j1, k1 <span style=\"color: #008000; font-weight: bold\">in</span> T<span style=\"color: #AA22FF; font-weight: bold\">.</span>grid(<span style=\"color: #008000\">16</span>, <span style=\"color: #008000\">16</span>, <span style=\"color: #008000\">16</span>):\n",
       "                    <span style=\"color: #008000; font-weight: bold\">with</span> T<span style=\"color: #AA22FF; font-weight: bold\">.</span>block(<span style=\"color: #BA2121\">&quot;tmm&quot;</span>):\n",
       "                        vi1, vj1, vk1 <span style=\"color: #AA22FF; font-weight: bold\">=</span> T<span style=\"color: #AA22FF; font-weight: bold\">.</span>axis<span style=\"color: #AA22FF; font-weight: bold\">.</span>remap(<span style=\"color: #BA2121\">&quot;SSR&quot;</span>, [i1, j1, k1])\n",
       "                        T<span style=\"color: #AA22FF; font-weight: bold\">.</span>reads(C[vi0 <span style=\"color: #AA22FF; font-weight: bold\">*</span> <span style=\"color: #008000\">16</span> <span style=\"color: #AA22FF; font-weight: bold\">+</span> vi1, vj0 <span style=\"color: #AA22FF; font-weight: bold\">*</span> <span style=\"color: #008000\">16</span> <span style=\"color: #AA22FF; font-weight: bold\">+</span> vj1], A[vi0 <span style=\"color: #AA22FF; font-weight: bold\">*</span> <span style=\"color: #008000\">16</span> <span style=\"color: #AA22FF; font-weight: bold\">+</span> vi1, vk0 <span style=\"color: #AA22FF; font-weight: bold\">*</span> <span style=\"color: #008000\">16</span> <span style=\"color: #AA22FF; font-weight: bold\">+</span> vk1], B[vj0 <span style=\"color: #AA22FF; font-weight: bold\">*</span> <span style=\"color: #008000\">16</span> <span style=\"color: #AA22FF; font-weight: bold\">+</span> vj1, vk0 <span style=\"color: #AA22FF; font-weight: bold\">*</span> <span style=\"color: #008000\">16</span> <span style=\"color: #AA22FF; font-weight: bold\">+</span> vk1])\n",
       "                        T<span style=\"color: #AA22FF; font-weight: bold\">.</span>writes(C[vi0 <span style=\"color: #AA22FF; font-weight: bold\">*</span> <span style=\"color: #008000\">16</span> <span style=\"color: #AA22FF; font-weight: bold\">+</span> vi1, vj0 <span style=\"color: #AA22FF; font-weight: bold\">*</span> <span style=\"color: #008000\">16</span> <span style=\"color: #AA22FF; font-weight: bold\">+</span> vj1])\n",
       "                        C[vi0 <span style=\"color: #AA22FF; font-weight: bold\">*</span> <span style=\"color: #008000\">16</span> <span style=\"color: #AA22FF; font-weight: bold\">+</span> vi1, vj0 <span style=\"color: #AA22FF; font-weight: bold\">*</span> <span style=\"color: #008000\">16</span> <span style=\"color: #AA22FF; font-weight: bold\">+</span> vj1] <span style=\"color: #AA22FF; font-weight: bold\">=</span> C[vi0 <span style=\"color: #AA22FF; font-weight: bold\">*</span> <span style=\"color: #008000\">16</span> <span style=\"color: #AA22FF; font-weight: bold\">+</span> vi1, vj0 <span style=\"color: #AA22FF; font-weight: bold\">*</span> <span style=\"color: #008000\">16</span> <span style=\"color: #AA22FF; font-weight: bold\">+</span> vj1] <span style=\"color: #AA22FF; font-weight: bold\">+</span> A[vi0 <span style=\"color: #AA22FF; font-weight: bold\">*</span> <span style=\"color: #008000\">16</span> <span style=\"color: #AA22FF; font-weight: bold\">+</span> vi1, vk0 <span style=\"color: #AA22FF; font-weight: bold\">*</span> <span style=\"color: #008000\">16</span> <span style=\"color: #AA22FF; font-weight: bold\">+</span> vk1] <span style=\"color: #AA22FF; font-weight: bold\">*</span> B[vj0 <span style=\"color: #AA22FF; font-weight: bold\">*</span> <span style=\"color: #008000\">16</span> <span style=\"color: #AA22FF; font-weight: bold\">+</span> vj1, vk0 <span style=\"color: #AA22FF; font-weight: bold\">*</span> <span style=\"color: #008000\">16</span> <span style=\"color: #AA22FF; font-weight: bold\">+</span> vk1]\n",
       "</pre></div>\n"
      ],
      "text/plain": [
       "<IPython.core.display.HTML object>"
      ]
     },
     "metadata": {},
     "output_type": "display_data"
    }
   ],
   "source": [
    "sch = tvm.tir.Schedule(MatmulBlockModule)\n",
    "\n",
    "block_mm = sch.get_block(\"tmm-16x16\")\n",
    "i, j, k = sch.get_loops(block_mm)\n",
    "\n",
    "i0, i1 = sch.split(i, [None, 4])\n",
    "\n",
    "sch.reorder(i0, j, i1, k)\n",
    "sch.mod.show()"
   ]
  },
  {
   "cell_type": "code",
   "execution_count": 3,
   "id": "1be2a72b-7b87-4573-8785-04ee733fa3b6",
   "metadata": {},
   "outputs": [],
   "source": [
    "@tvm.script.ir_module\n",
    "class MatmulModule:\n",
    "    @T.prim_func\n",
    "    def main(\n",
    "        A: T.Buffer((1024, 1024), \"float32\"),\n",
    "        B: T.Buffer((1024, 1024), \"float32\"),\n",
    "        C: T.Buffer((1024, 1024), \"float32\"),\n",
    "    ) -> None:\n",
    "        T.func_attr({\"global_symbol\": \"main\", \"tir.noalias\": True})\n",
    "        for i, j, k in T.grid(1024, 1024, 1024):\n",
    "            with T.block(\"matmul\"):\n",
    "                vi, vj, vk = T.axis.remap(\"SSR\", [i, j, k])\n",
    "                with T.init():\n",
    "                    C[vi, vj] = T.float32(0)\n",
    "                C[vi, vj] += A[vi, vk] * B[vj, vk]"
   ]
  },
  {
   "cell_type": "code",
   "execution_count": 4,
   "id": "7f54bc74-3440-4ee4-8802-b450d8befeff",
   "metadata": {},
   "outputs": [],
   "source": [
    "sch = tvm.tir.Schedule(MatmulModule)\n",
    "i, j, k = sch.get_loops(\"matmul\")\n",
    "i, ii = sch.split(i, factors=[None, 16])\n",
    "j, ji = sch.split(j, factors=[None, 16])\n",
    "k, ki = sch.split(k, factors=[None, 16])\n",
    "sch.reorder(i, j, k, ii, ji, ki)\n",
    "block_mm = sch.blockize(ii)\n",
    "# sch.mod.show()"
   ]
  },
  {
   "cell_type": "code",
   "execution_count": 5,
   "id": "6bc02358-e858-43d0-b14d-8eea0855ff47",
   "metadata": {},
   "outputs": [],
   "source": [
    "A_reg = sch.cache_read(block_mm, 0, storage_scope=\"global.A_reg\")\n",
    "B_reg = sch.cache_read(block_mm, 1, storage_scope=\"global.B_reg\")\n",
    "sch.compute_at(A_reg, k)\n",
    "sch.compute_at(B_reg, k)\n",
    "\n",
    "write_back_block = sch.cache_write(block_mm, 0, storage_scope=\"global.accumulator\")\n",
    "sch.reverse_compute_at(write_back_block, j)\n",
    "# sch.mod.show()"
   ]
  },
  {
   "cell_type": "code",
   "execution_count": 6,
   "id": "67e48b43-4364-4642-9dd2-06a3c5348ac4",
   "metadata": {},
   "outputs": [],
   "source": [
    "@T.prim_func\n",
    "def tmm16_desc(a: T.handle, b: T.handle, c: T.handle) -> None:\n",
    "    A = T.match_buffer(a, (16, 16), \"float32\", offset_factor=16, scope=\"global.A_reg\")\n",
    "    B = T.match_buffer(b, (16, 16), \"float32\", offset_factor=16, scope=\"global.B_reg\")\n",
    "    C = T.match_buffer(c, (16, 16), \"float32\", offset_factor=16,  scope=\"global.accumulator\")\n",
    "\n",
    "    with T.block(\"root\"):\n",
    "        T.reads(C[0:16, 0:16], A[0:16, 0:16], B[0:16, 0:16])\n",
    "        T.writes(C[0:16, 0:16])\n",
    "        for i, j, k in T.grid(16, 16, 16):\n",
    "            with T.block(\"\"):\n",
    "                vii, vjj, vkk = T.axis.remap(\"SSR\", [i, j, k])\n",
    "                C[vii, vjj] = C[vii, vjj] + A[vii, vkk] * B[vjj, vkk]\n",
    "\n",
    "\n",
    "@T.prim_func\n",
    "def tmm16_impl(a: T.handle, b: T.handle, c: T.handle) -> None:\n",
    "    sa = T.int32()\n",
    "    sb = T.int32()\n",
    "    sc = T.int32()\n",
    "    A = T.match_buffer(a, (16, 16), \"float32\", offset_factor=16, strides=[sa, 1], scope=\"global.A_reg\")\n",
    "    B = T.match_buffer(b, (16, 16), \"float32\", offset_factor=16, strides=[sb, 1], scope=\"global.B_reg\")\n",
    "    C = T.match_buffer(c, (16, 16), \"float32\", offset_factor=16, strides=[sc, 1], scope=\"global.accumulator\")\n",
    "\n",
    "    with T.block(\"root\"):\n",
    "        T.reads(C[0:16, 0:16], A[0:16, 0:16], B[0:16, 0:16])\n",
    "        T.writes(C[0:16, 0:16])\n",
    "        T.evaluate(\n",
    "            T.call_extern(\n",
    "                \"tmm16\",\n",
    "                C.access_ptr(\"w\"),\n",
    "                A.access_ptr(\"r\"),\n",
    "                B.access_ptr(\"r\"),\n",
    "                sa,\n",
    "                sb,\n",
    "                sc,\n",
    "                dtype=\"int32\",\n",
    "            )\n",
    "        )\n",
    "\n",
    "tvm.tir.TensorIntrin.register(\"tmm16\", tmm16_desc, tmm16_impl)"
   ]
  },
  {
   "cell_type": "code",
   "execution_count": 7,
   "id": "facaec25-1489-4158-bd40-8a30644af95d",
   "metadata": {},
   "outputs": [
    {
     "data": {
      "text/plain": [
       "tir.BlockRV(0x906a710)"
      ]
     },
     "execution_count": 7,
     "metadata": {},
     "output_type": "execute_result"
    }
   ],
   "source": [
    "sch.decompose_reduction(block_mm, k)\n",
    "# sch.mod.show()"
   ]
  },
  {
   "cell_type": "code",
   "execution_count": 8,
   "id": "d693ecd0-a62b-40c9-9bcc-8963ce0e1d4c",
   "metadata": {},
   "outputs": [],
   "source": [
    "sch.tensorize(block_mm, \"tmm16\")"
   ]
  },
  {
   "cell_type": "code",
   "execution_count": 35,
   "id": "67d3d241-2f09-4c8f-a4b1-bb25f4606ce8",
   "metadata": {},
   "outputs": [
    {
     "data": {
      "text/html": [
       "<div class=\"highlight\" style=\"background: \"><pre style=\"line-height: 125%;\"><span></span><span style=\"color: #007979; font-style: italic\"># from tvm.script import ir as I</span>\n",
       "<span style=\"color: #007979; font-style: italic\"># from tvm.script import tir as T</span>\n",
       "\n",
       "<span style=\"color: #AA22FF\">@I</span><span style=\"color: #AA22FF; font-weight: bold\">.</span>ir_module\n",
       "<span style=\"color: #008000; font-weight: bold\">class</span> <span style=\"color: #0000FF; font-weight: bold\">Module</span>:\n",
       "    <span style=\"color: #AA22FF\">@T</span><span style=\"color: #AA22FF; font-weight: bold\">.</span>prim_func\n",
       "    <span style=\"color: #008000; font-weight: bold\">def</span> <span style=\"color: #0000FF\">main</span>(A: T<span style=\"color: #AA22FF; font-weight: bold\">.</span>Buffer((<span style=\"color: #008000\">1024</span>, <span style=\"color: #008000\">1024</span>), <span style=\"color: #BA2121\">&quot;float32&quot;</span>), B: T<span style=\"color: #AA22FF; font-weight: bold\">.</span>Buffer((<span style=\"color: #008000\">1024</span>, <span style=\"color: #008000\">1024</span>), <span style=\"color: #BA2121\">&quot;float32&quot;</span>), C: T<span style=\"color: #AA22FF; font-weight: bold\">.</span>Buffer((<span style=\"color: #008000\">1024</span>, <span style=\"color: #008000\">1024</span>), <span style=\"color: #BA2121\">&quot;float32&quot;</span>)):\n",
       "        T<span style=\"color: #AA22FF; font-weight: bold\">.</span>func_attr({<span style=\"color: #BA2121\">&quot;tir.noalias&quot;</span>: T<span style=\"color: #AA22FF; font-weight: bold\">.</span>bool(<span style=\"color: #008000; font-weight: bold\">True</span>)})\n",
       "        <span style=\"color: #007979; font-style: italic\"># with T.block(&quot;root&quot;):</span>\n",
       "        A_global_A_reg <span style=\"color: #AA22FF; font-weight: bold\">=</span> T<span style=\"color: #AA22FF; font-weight: bold\">.</span>alloc_buffer((<span style=\"color: #008000\">1024</span>, <span style=\"color: #008000\">1024</span>), scope<span style=\"color: #AA22FF; font-weight: bold\">=</span><span style=\"color: #BA2121\">&quot;global.A_reg&quot;</span>)\n",
       "        B_global_B_reg <span style=\"color: #AA22FF; font-weight: bold\">=</span> T<span style=\"color: #AA22FF; font-weight: bold\">.</span>alloc_buffer((<span style=\"color: #008000\">1024</span>, <span style=\"color: #008000\">1024</span>), scope<span style=\"color: #AA22FF; font-weight: bold\">=</span><span style=\"color: #BA2121\">&quot;global.B_reg&quot;</span>)\n",
       "        C_global_accumulator <span style=\"color: #AA22FF; font-weight: bold\">=</span> T<span style=\"color: #AA22FF; font-weight: bold\">.</span>alloc_buffer((<span style=\"color: #008000\">1024</span>, <span style=\"color: #008000\">1024</span>), scope<span style=\"color: #AA22FF; font-weight: bold\">=</span><span style=\"color: #BA2121\">&quot;global.accumulator&quot;</span>)\n",
       "        <span style=\"color: #008000; font-weight: bold\">for</span> i_0, j_0 <span style=\"color: #008000; font-weight: bold\">in</span> T<span style=\"color: #AA22FF; font-weight: bold\">.</span>grid(<span style=\"color: #008000\">64</span>, <span style=\"color: #008000\">64</span>):\n",
       "            <span style=\"color: #008000; font-weight: bold\">with</span> T<span style=\"color: #AA22FF; font-weight: bold\">.</span>block(<span style=\"color: #BA2121\">&quot;matmul_o_init&quot;</span>):\n",
       "                vi_o, vj_o <span style=\"color: #AA22FF; font-weight: bold\">=</span> T<span style=\"color: #AA22FF; font-weight: bold\">.</span>axis<span style=\"color: #AA22FF; font-weight: bold\">.</span>remap(<span style=\"color: #BA2121\">&quot;SS&quot;</span>, [i_0, j_0])\n",
       "                T<span style=\"color: #AA22FF; font-weight: bold\">.</span>reads()\n",
       "                T<span style=\"color: #AA22FF; font-weight: bold\">.</span>writes(C_global_accumulator[vi_o <span style=\"color: #AA22FF; font-weight: bold\">*</span> <span style=\"color: #008000\">16</span>:vi_o <span style=\"color: #AA22FF; font-weight: bold\">*</span> <span style=\"color: #008000\">16</span> <span style=\"color: #AA22FF; font-weight: bold\">+</span> <span style=\"color: #008000\">16</span>, vj_o <span style=\"color: #AA22FF; font-weight: bold\">*</span> <span style=\"color: #008000\">16</span>:vj_o <span style=\"color: #AA22FF; font-weight: bold\">*</span> <span style=\"color: #008000\">16</span> <span style=\"color: #AA22FF; font-weight: bold\">+</span> <span style=\"color: #008000\">16</span>])\n",
       "                <span style=\"color: #008000; font-weight: bold\">for</span> i_1, j_1 <span style=\"color: #008000; font-weight: bold\">in</span> T<span style=\"color: #AA22FF; font-weight: bold\">.</span>grid(<span style=\"color: #008000\">16</span>, <span style=\"color: #008000\">16</span>):\n",
       "                    <span style=\"color: #008000; font-weight: bold\">with</span> T<span style=\"color: #AA22FF; font-weight: bold\">.</span>block(<span style=\"color: #BA2121\">&quot;matmul_init&quot;</span>):\n",
       "                        vi_i_init, vj_i_init <span style=\"color: #AA22FF; font-weight: bold\">=</span> T<span style=\"color: #AA22FF; font-weight: bold\">.</span>axis<span style=\"color: #AA22FF; font-weight: bold\">.</span>remap(<span style=\"color: #BA2121\">&quot;SS&quot;</span>, [i_1, j_1])\n",
       "                        T<span style=\"color: #AA22FF; font-weight: bold\">.</span>reads()\n",
       "                        T<span style=\"color: #AA22FF; font-weight: bold\">.</span>writes(C_global_accumulator[vi_o <span style=\"color: #AA22FF; font-weight: bold\">*</span> <span style=\"color: #008000\">16</span> <span style=\"color: #AA22FF; font-weight: bold\">+</span> vi_i_init, vj_o <span style=\"color: #AA22FF; font-weight: bold\">*</span> <span style=\"color: #008000\">16</span> <span style=\"color: #AA22FF; font-weight: bold\">+</span> vj_i_init])\n",
       "                        C_global_accumulator[vi_o <span style=\"color: #AA22FF; font-weight: bold\">*</span> <span style=\"color: #008000\">16</span> <span style=\"color: #AA22FF; font-weight: bold\">+</span> vi_i_init, vj_o <span style=\"color: #AA22FF; font-weight: bold\">*</span> <span style=\"color: #008000\">16</span> <span style=\"color: #AA22FF; font-weight: bold\">+</span> vj_i_init] <span style=\"color: #AA22FF; font-weight: bold\">=</span> T<span style=\"color: #AA22FF; font-weight: bold\">.</span>float32(<span style=\"color: #008000\">0.0</span>)\n",
       "            <span style=\"color: #008000; font-weight: bold\">for</span> k_0 <span style=\"color: #008000; font-weight: bold\">in</span> range(<span style=\"color: #008000\">64</span>):\n",
       "                <span style=\"color: #008000; font-weight: bold\">for</span> ax0, ax1 <span style=\"color: #008000; font-weight: bold\">in</span> T<span style=\"color: #AA22FF; font-weight: bold\">.</span>grid(<span style=\"color: #008000\">16</span>, <span style=\"color: #008000\">16</span>):\n",
       "                    <span style=\"color: #008000; font-weight: bold\">with</span> T<span style=\"color: #AA22FF; font-weight: bold\">.</span>block(<span style=\"color: #BA2121\">&quot;A_global.A_reg&quot;</span>):\n",
       "                        v0 <span style=\"color: #AA22FF; font-weight: bold\">=</span> T<span style=\"color: #AA22FF; font-weight: bold\">.</span>axis<span style=\"color: #AA22FF; font-weight: bold\">.</span>spatial(<span style=\"color: #008000\">1024</span>, i_0 <span style=\"color: #AA22FF; font-weight: bold\">*</span> <span style=\"color: #008000\">16</span> <span style=\"color: #AA22FF; font-weight: bold\">+</span> ax0)\n",
       "                        v1 <span style=\"color: #AA22FF; font-weight: bold\">=</span> T<span style=\"color: #AA22FF; font-weight: bold\">.</span>axis<span style=\"color: #AA22FF; font-weight: bold\">.</span>spatial(<span style=\"color: #008000\">1024</span>, k_0 <span style=\"color: #AA22FF; font-weight: bold\">*</span> <span style=\"color: #008000\">16</span> <span style=\"color: #AA22FF; font-weight: bold\">+</span> ax1)\n",
       "                        T<span style=\"color: #AA22FF; font-weight: bold\">.</span>reads(A[v0, v1])\n",
       "                        T<span style=\"color: #AA22FF; font-weight: bold\">.</span>writes(A_global_A_reg[v0, v1])\n",
       "                        A_global_A_reg[v0, v1] <span style=\"color: #AA22FF; font-weight: bold\">=</span> A[v0, v1]\n",
       "                <span style=\"color: #008000; font-weight: bold\">for</span> ax0, ax1 <span style=\"color: #008000; font-weight: bold\">in</span> T<span style=\"color: #AA22FF; font-weight: bold\">.</span>grid(<span style=\"color: #008000\">16</span>, <span style=\"color: #008000\">16</span>):\n",
       "                    <span style=\"color: #008000; font-weight: bold\">with</span> T<span style=\"color: #AA22FF; font-weight: bold\">.</span>block(<span style=\"color: #BA2121\">&quot;B_global.B_reg&quot;</span>):\n",
       "                        v0 <span style=\"color: #AA22FF; font-weight: bold\">=</span> T<span style=\"color: #AA22FF; font-weight: bold\">.</span>axis<span style=\"color: #AA22FF; font-weight: bold\">.</span>spatial(<span style=\"color: #008000\">1024</span>, j_0 <span style=\"color: #AA22FF; font-weight: bold\">*</span> <span style=\"color: #008000\">16</span> <span style=\"color: #AA22FF; font-weight: bold\">+</span> ax0)\n",
       "                        v1 <span style=\"color: #AA22FF; font-weight: bold\">=</span> T<span style=\"color: #AA22FF; font-weight: bold\">.</span>axis<span style=\"color: #AA22FF; font-weight: bold\">.</span>spatial(<span style=\"color: #008000\">1024</span>, k_0 <span style=\"color: #AA22FF; font-weight: bold\">*</span> <span style=\"color: #008000\">16</span> <span style=\"color: #AA22FF; font-weight: bold\">+</span> ax1)\n",
       "                        T<span style=\"color: #AA22FF; font-weight: bold\">.</span>reads(B[v0, v1])\n",
       "                        T<span style=\"color: #AA22FF; font-weight: bold\">.</span>writes(B_global_B_reg[v0, v1])\n",
       "                        B_global_B_reg[v0, v1] <span style=\"color: #AA22FF; font-weight: bold\">=</span> B[v0, v1]\n",
       "                <span style=\"color: #008000; font-weight: bold\">with</span> T<span style=\"color: #AA22FF; font-weight: bold\">.</span>block(<span style=\"color: #BA2121\">&quot;matmul_o_update&quot;</span>):\n",
       "                    vi_o, vj_o, vk_o <span style=\"color: #AA22FF; font-weight: bold\">=</span> T<span style=\"color: #AA22FF; font-weight: bold\">.</span>axis<span style=\"color: #AA22FF; font-weight: bold\">.</span>remap(<span style=\"color: #BA2121\">&quot;SSR&quot;</span>, [i_0, j_0, k_0])\n",
       "                    T<span style=\"color: #AA22FF; font-weight: bold\">.</span>reads(C_global_accumulator[vi_o <span style=\"color: #AA22FF; font-weight: bold\">*</span> <span style=\"color: #008000\">16</span>:vi_o <span style=\"color: #AA22FF; font-weight: bold\">*</span> <span style=\"color: #008000\">16</span> <span style=\"color: #AA22FF; font-weight: bold\">+</span> <span style=\"color: #008000\">16</span>, vj_o <span style=\"color: #AA22FF; font-weight: bold\">*</span> <span style=\"color: #008000\">16</span>:vj_o <span style=\"color: #AA22FF; font-weight: bold\">*</span> <span style=\"color: #008000\">16</span> <span style=\"color: #AA22FF; font-weight: bold\">+</span> <span style=\"color: #008000\">16</span>], A_global_A_reg[vi_o <span style=\"color: #AA22FF; font-weight: bold\">*</span> <span style=\"color: #008000\">16</span>:vi_o <span style=\"color: #AA22FF; font-weight: bold\">*</span> <span style=\"color: #008000\">16</span> <span style=\"color: #AA22FF; font-weight: bold\">+</span> <span style=\"color: #008000\">16</span>, vk_o <span style=\"color: #AA22FF; font-weight: bold\">*</span> <span style=\"color: #008000\">16</span>:vk_o <span style=\"color: #AA22FF; font-weight: bold\">*</span> <span style=\"color: #008000\">16</span> <span style=\"color: #AA22FF; font-weight: bold\">+</span> <span style=\"color: #008000\">16</span>], B_global_B_reg[vj_o <span style=\"color: #AA22FF; font-weight: bold\">*</span> <span style=\"color: #008000\">16</span>:vj_o <span style=\"color: #AA22FF; font-weight: bold\">*</span> <span style=\"color: #008000\">16</span> <span style=\"color: #AA22FF; font-weight: bold\">+</span> <span style=\"color: #008000\">16</span>, vk_o <span style=\"color: #AA22FF; font-weight: bold\">*</span> <span style=\"color: #008000\">16</span>:vk_o <span style=\"color: #AA22FF; font-weight: bold\">*</span> <span style=\"color: #008000\">16</span> <span style=\"color: #AA22FF; font-weight: bold\">+</span> <span style=\"color: #008000\">16</span>])\n",
       "                    T<span style=\"color: #AA22FF; font-weight: bold\">.</span>writes(C_global_accumulator[vi_o <span style=\"color: #AA22FF; font-weight: bold\">*</span> <span style=\"color: #008000\">16</span>:vi_o <span style=\"color: #AA22FF; font-weight: bold\">*</span> <span style=\"color: #008000\">16</span> <span style=\"color: #AA22FF; font-weight: bold\">+</span> <span style=\"color: #008000\">16</span>, vj_o <span style=\"color: #AA22FF; font-weight: bold\">*</span> <span style=\"color: #008000\">16</span>:vj_o <span style=\"color: #AA22FF; font-weight: bold\">*</span> <span style=\"color: #008000\">16</span> <span style=\"color: #AA22FF; font-weight: bold\">+</span> <span style=\"color: #008000\">16</span>])\n",
       "                    A_1 <span style=\"color: #AA22FF; font-weight: bold\">=</span> T<span style=\"color: #AA22FF; font-weight: bold\">.</span>match_buffer(A_global_A_reg[vi_o <span style=\"color: #AA22FF; font-weight: bold\">*</span> <span style=\"color: #008000\">16</span>:vi_o <span style=\"color: #AA22FF; font-weight: bold\">*</span> <span style=\"color: #008000\">16</span> <span style=\"color: #AA22FF; font-weight: bold\">+</span> <span style=\"color: #008000\">16</span>, vk_o <span style=\"color: #AA22FF; font-weight: bold\">*</span> <span style=\"color: #008000\">16</span>:vk_o <span style=\"color: #AA22FF; font-weight: bold\">*</span> <span style=\"color: #008000\">16</span> <span style=\"color: #AA22FF; font-weight: bold\">+</span> <span style=\"color: #008000\">16</span>], (<span style=\"color: #008000\">16</span>, <span style=\"color: #008000\">16</span>), strides<span style=\"color: #AA22FF; font-weight: bold\">=</span>(<span style=\"color: #BA2121\">&quot;A_s0&quot;</span>, <span style=\"color: #008000\">1</span>), scope<span style=\"color: #AA22FF; font-weight: bold\">=</span><span style=\"color: #BA2121\">&quot;global.A_reg&quot;</span>, offset_factor<span style=\"color: #AA22FF; font-weight: bold\">=</span><span style=\"color: #008000\">16</span>)\n",
       "                    B_1 <span style=\"color: #AA22FF; font-weight: bold\">=</span> T<span style=\"color: #AA22FF; font-weight: bold\">.</span>match_buffer(B_global_B_reg[vj_o <span style=\"color: #AA22FF; font-weight: bold\">*</span> <span style=\"color: #008000\">16</span>:vj_o <span style=\"color: #AA22FF; font-weight: bold\">*</span> <span style=\"color: #008000\">16</span> <span style=\"color: #AA22FF; font-weight: bold\">+</span> <span style=\"color: #008000\">16</span>, vk_o <span style=\"color: #AA22FF; font-weight: bold\">*</span> <span style=\"color: #008000\">16</span>:vk_o <span style=\"color: #AA22FF; font-weight: bold\">*</span> <span style=\"color: #008000\">16</span> <span style=\"color: #AA22FF; font-weight: bold\">+</span> <span style=\"color: #008000\">16</span>], (<span style=\"color: #008000\">16</span>, <span style=\"color: #008000\">16</span>), strides<span style=\"color: #AA22FF; font-weight: bold\">=</span>(<span style=\"color: #BA2121\">&quot;B_s0&quot;</span>, <span style=\"color: #008000\">1</span>), scope<span style=\"color: #AA22FF; font-weight: bold\">=</span><span style=\"color: #BA2121\">&quot;global.B_reg&quot;</span>, offset_factor<span style=\"color: #AA22FF; font-weight: bold\">=</span><span style=\"color: #008000\">16</span>)\n",
       "                    C_1 <span style=\"color: #AA22FF; font-weight: bold\">=</span> T<span style=\"color: #AA22FF; font-weight: bold\">.</span>match_buffer(C_global_accumulator[vi_o <span style=\"color: #AA22FF; font-weight: bold\">*</span> <span style=\"color: #008000\">16</span>:vi_o <span style=\"color: #AA22FF; font-weight: bold\">*</span> <span style=\"color: #008000\">16</span> <span style=\"color: #AA22FF; font-weight: bold\">+</span> <span style=\"color: #008000\">16</span>, vj_o <span style=\"color: #AA22FF; font-weight: bold\">*</span> <span style=\"color: #008000\">16</span>:vj_o <span style=\"color: #AA22FF; font-weight: bold\">*</span> <span style=\"color: #008000\">16</span> <span style=\"color: #AA22FF; font-weight: bold\">+</span> <span style=\"color: #008000\">16</span>], (<span style=\"color: #008000\">16</span>, <span style=\"color: #008000\">16</span>), strides<span style=\"color: #AA22FF; font-weight: bold\">=</span>(<span style=\"color: #BA2121\">&quot;C_s0&quot;</span>, <span style=\"color: #008000\">1</span>), scope<span style=\"color: #AA22FF; font-weight: bold\">=</span><span style=\"color: #BA2121\">&quot;global.accumulator&quot;</span>, offset_factor<span style=\"color: #AA22FF; font-weight: bold\">=</span><span style=\"color: #008000\">16</span>)\n",
       "                    T<span style=\"color: #AA22FF; font-weight: bold\">.</span>call_extern(<span style=\"color: #BA2121\">&quot;int32&quot;</span>, <span style=\"color: #BA2121\">&quot;tmm16&quot;</span>, T<span style=\"color: #AA22FF; font-weight: bold\">.</span>tvm_access_ptr(T<span style=\"color: #AA22FF; font-weight: bold\">.</span>type_annotation(<span style=\"color: #BA2121\">&quot;float32&quot;</span>), C_1<span style=\"color: #AA22FF; font-weight: bold\">.</span>data, C_1<span style=\"color: #AA22FF; font-weight: bold\">.</span>elem_offset, C_1<span style=\"color: #AA22FF; font-weight: bold\">.</span>strides[<span style=\"color: #008000\">0</span>] <span style=\"color: #AA22FF; font-weight: bold\">*</span> <span style=\"color: #008000\">16</span>, <span style=\"color: #008000\">2</span>), T<span style=\"color: #AA22FF; font-weight: bold\">.</span>tvm_access_ptr(T<span style=\"color: #AA22FF; font-weight: bold\">.</span>type_annotation(<span style=\"color: #BA2121\">&quot;float32&quot;</span>), A_1<span style=\"color: #AA22FF; font-weight: bold\">.</span>data, A_1<span style=\"color: #AA22FF; font-weight: bold\">.</span>elem_offset, A_1<span style=\"color: #AA22FF; font-weight: bold\">.</span>strides[<span style=\"color: #008000\">0</span>] <span style=\"color: #AA22FF; font-weight: bold\">*</span> <span style=\"color: #008000\">16</span>, <span style=\"color: #008000\">1</span>), T<span style=\"color: #AA22FF; font-weight: bold\">.</span>tvm_access_ptr(T<span style=\"color: #AA22FF; font-weight: bold\">.</span>type_annotation(<span style=\"color: #BA2121\">&quot;float32&quot;</span>), B_1<span style=\"color: #AA22FF; font-weight: bold\">.</span>data, B_1<span style=\"color: #AA22FF; font-weight: bold\">.</span>elem_offset, B_1<span style=\"color: #AA22FF; font-weight: bold\">.</span>strides[<span style=\"color: #008000\">0</span>] <span style=\"color: #AA22FF; font-weight: bold\">*</span> <span style=\"color: #008000\">16</span>, <span style=\"color: #008000\">1</span>), A_1<span style=\"color: #AA22FF; font-weight: bold\">.</span>strides[<span style=\"color: #008000\">0</span>], B_1<span style=\"color: #AA22FF; font-weight: bold\">.</span>strides[<span style=\"color: #008000\">0</span>], C_1<span style=\"color: #AA22FF; font-weight: bold\">.</span>strides[<span style=\"color: #008000\">0</span>])\n",
       "            <span style=\"color: #008000; font-weight: bold\">for</span> ax0, ax1 <span style=\"color: #008000; font-weight: bold\">in</span> T<span style=\"color: #AA22FF; font-weight: bold\">.</span>grid(<span style=\"color: #008000\">16</span>, <span style=\"color: #008000\">16</span>):\n",
       "                <span style=\"color: #008000; font-weight: bold\">with</span> T<span style=\"color: #AA22FF; font-weight: bold\">.</span>block(<span style=\"color: #BA2121\">&quot;C_global.accumulator&quot;</span>):\n",
       "                    v0 <span style=\"color: #AA22FF; font-weight: bold\">=</span> T<span style=\"color: #AA22FF; font-weight: bold\">.</span>axis<span style=\"color: #AA22FF; font-weight: bold\">.</span>spatial(<span style=\"color: #008000\">1024</span>, i_0 <span style=\"color: #AA22FF; font-weight: bold\">*</span> <span style=\"color: #008000\">16</span> <span style=\"color: #AA22FF; font-weight: bold\">+</span> ax0)\n",
       "                    v1 <span style=\"color: #AA22FF; font-weight: bold\">=</span> T<span style=\"color: #AA22FF; font-weight: bold\">.</span>axis<span style=\"color: #AA22FF; font-weight: bold\">.</span>spatial(<span style=\"color: #008000\">1024</span>, j_0 <span style=\"color: #AA22FF; font-weight: bold\">*</span> <span style=\"color: #008000\">16</span> <span style=\"color: #AA22FF; font-weight: bold\">+</span> ax1)\n",
       "                    T<span style=\"color: #AA22FF; font-weight: bold\">.</span>reads(C_global_accumulator[v0, v1])\n",
       "                    T<span style=\"color: #AA22FF; font-weight: bold\">.</span>writes(C[v0, v1])\n",
       "                    C[v0, v1] <span style=\"color: #AA22FF; font-weight: bold\">=</span> C_global_accumulator[v0, v1]\n",
       "</pre></div>\n"
      ],
      "text/plain": [
       "<IPython.core.display.HTML object>"
      ]
     },
     "metadata": {},
     "output_type": "display_data"
    }
   ],
   "source": [
    "sch.mod.show()"
   ]
  },
  {
   "cell_type": "code",
   "execution_count": 9,
   "id": "2c62b1b6-426e-4d1c-81d4-3b3916b95205",
   "metadata": {},
   "outputs": [],
   "source": [
    "def tmm_kernel():\n",
    "    cc_code = \"\"\"\n",
    "      extern \"C\" int tmm16(float *cc, float *aa, float *bb, int stride_a, int stride_b, int stride_c) {\n",
    "        for (int i = 0; i < 16; ++i) {\n",
    "            for (int j = 0; j < 16; ++j) {\n",
    "                for (int k = 0; k < 16; ++k) {\n",
    "                    cc[i * stride_c + j] += aa[i * stride_a + k] * bb[j * stride_b + k];\n",
    "                }\n",
    "            }\n",
    "        }\n",
    "        return 0;\n",
    "      }\n",
    "    \"\"\"\n",
    "    from tvm.contrib import clang, utils\n",
    "\n",
    "    temp = utils.tempdir()\n",
    "    ll_path = temp.relpath(\"temp.ll\")\n",
    "    # Create LLVM ir from c source code\n",
    "    ll_code = clang.create_llvm(cc_code, output=ll_path)\n",
    "    return ll_code\n",
    "\n",
    "sch.annotate(i, \"pragma_import_llvm\", tmm_kernel())"
   ]
  },
  {
   "cell_type": "code",
   "execution_count": 10,
   "id": "511ac4b9-d197-4612-aaf2-e2b92d9135ac",
   "metadata": {},
   "outputs": [
    {
     "data": {
      "text/html": [
       "<div class=\"highlight\" style=\"background: \"><pre style=\"line-height: 125%;\"><span></span><span style=\"color: #007979; font-style: italic\"># from tvm.script import ir as I</span>\n",
       "<span style=\"color: #007979; font-style: italic\"># from tvm.script import tir as T</span>\n",
       "\n",
       "<span style=\"color: #AA22FF\">@I</span><span style=\"color: #AA22FF; font-weight: bold\">.</span>ir_module\n",
       "<span style=\"color: #008000; font-weight: bold\">class</span> <span style=\"color: #0000FF; font-weight: bold\">Module</span>:\n",
       "    <span style=\"color: #AA22FF\">@T</span><span style=\"color: #AA22FF; font-weight: bold\">.</span>prim_func\n",
       "    <span style=\"color: #008000; font-weight: bold\">def</span> <span style=\"color: #0000FF\">main</span>(A: T<span style=\"color: #AA22FF; font-weight: bold\">.</span>Buffer((<span style=\"color: #008000\">1024</span>, <span style=\"color: #008000\">1024</span>), <span style=\"color: #BA2121\">&quot;float32&quot;</span>), B: T<span style=\"color: #AA22FF; font-weight: bold\">.</span>Buffer((<span style=\"color: #008000\">1024</span>, <span style=\"color: #008000\">1024</span>), <span style=\"color: #BA2121\">&quot;float32&quot;</span>), C: T<span style=\"color: #AA22FF; font-weight: bold\">.</span>Buffer((<span style=\"color: #008000\">1024</span>, <span style=\"color: #008000\">1024</span>), <span style=\"color: #BA2121\">&quot;float32&quot;</span>)):\n",
       "        T<span style=\"color: #AA22FF; font-weight: bold\">.</span>func_attr({<span style=\"color: #BA2121\">&quot;tir.noalias&quot;</span>: T<span style=\"color: #AA22FF; font-weight: bold\">.</span>bool(<span style=\"color: #008000; font-weight: bold\">True</span>)})\n",
       "        <span style=\"color: #007979; font-style: italic\"># with T.block(&quot;root&quot;):</span>\n",
       "        A_global_A_reg <span style=\"color: #AA22FF; font-weight: bold\">=</span> T<span style=\"color: #AA22FF; font-weight: bold\">.</span>alloc_buffer((<span style=\"color: #008000\">1024</span>, <span style=\"color: #008000\">1024</span>), scope<span style=\"color: #AA22FF; font-weight: bold\">=</span><span style=\"color: #BA2121\">&quot;global.A_reg&quot;</span>)\n",
       "        B_global_B_reg <span style=\"color: #AA22FF; font-weight: bold\">=</span> T<span style=\"color: #AA22FF; font-weight: bold\">.</span>alloc_buffer((<span style=\"color: #008000\">1024</span>, <span style=\"color: #008000\">1024</span>), scope<span style=\"color: #AA22FF; font-weight: bold\">=</span><span style=\"color: #BA2121\">&quot;global.B_reg&quot;</span>)\n",
       "        C_global_accumulator <span style=\"color: #AA22FF; font-weight: bold\">=</span> T<span style=\"color: #AA22FF; font-weight: bold\">.</span>alloc_buffer((<span style=\"color: #008000\">1024</span>, <span style=\"color: #008000\">1024</span>), scope<span style=\"color: #AA22FF; font-weight: bold\">=</span><span style=\"color: #BA2121\">&quot;global.accumulator&quot;</span>)\n",
       "        <span style=\"color: #008000; font-weight: bold\">for</span> i_0 <span style=\"color: #008000; font-weight: bold\">in</span> T<span style=\"color: #AA22FF; font-weight: bold\">.</span>serial(<span style=\"color: #008000\">64</span>, annotations<span style=\"color: #AA22FF; font-weight: bold\">=</span>{<span style=\"color: #BA2121\">&quot;pragma_import_llvm&quot;</span>: metadata[<span style=\"color: #BA2121\">&quot;runtime.String&quot;</span>][<span style=\"color: #008000\">0</span>]}):\n",
       "            <span style=\"color: #008000; font-weight: bold\">for</span> j_0 <span style=\"color: #008000; font-weight: bold\">in</span> range(<span style=\"color: #008000\">64</span>):\n",
       "                <span style=\"color: #008000; font-weight: bold\">with</span> T<span style=\"color: #AA22FF; font-weight: bold\">.</span>block(<span style=\"color: #BA2121\">&quot;matmul_o_init&quot;</span>):\n",
       "                    vi_o, vj_o <span style=\"color: #AA22FF; font-weight: bold\">=</span> T<span style=\"color: #AA22FF; font-weight: bold\">.</span>axis<span style=\"color: #AA22FF; font-weight: bold\">.</span>remap(<span style=\"color: #BA2121\">&quot;SS&quot;</span>, [i_0, j_0])\n",
       "                    T<span style=\"color: #AA22FF; font-weight: bold\">.</span>reads()\n",
       "                    T<span style=\"color: #AA22FF; font-weight: bold\">.</span>writes(C_global_accumulator[vi_o <span style=\"color: #AA22FF; font-weight: bold\">*</span> <span style=\"color: #008000\">16</span>:vi_o <span style=\"color: #AA22FF; font-weight: bold\">*</span> <span style=\"color: #008000\">16</span> <span style=\"color: #AA22FF; font-weight: bold\">+</span> <span style=\"color: #008000\">16</span>, vj_o <span style=\"color: #AA22FF; font-weight: bold\">*</span> <span style=\"color: #008000\">16</span>:vj_o <span style=\"color: #AA22FF; font-weight: bold\">*</span> <span style=\"color: #008000\">16</span> <span style=\"color: #AA22FF; font-weight: bold\">+</span> <span style=\"color: #008000\">16</span>])\n",
       "                    <span style=\"color: #008000; font-weight: bold\">for</span> i_1, j_1 <span style=\"color: #008000; font-weight: bold\">in</span> T<span style=\"color: #AA22FF; font-weight: bold\">.</span>grid(<span style=\"color: #008000\">16</span>, <span style=\"color: #008000\">16</span>):\n",
       "                        <span style=\"color: #008000; font-weight: bold\">with</span> T<span style=\"color: #AA22FF; font-weight: bold\">.</span>block(<span style=\"color: #BA2121\">&quot;matmul_init&quot;</span>):\n",
       "                            vi_i_init, vj_i_init <span style=\"color: #AA22FF; font-weight: bold\">=</span> T<span style=\"color: #AA22FF; font-weight: bold\">.</span>axis<span style=\"color: #AA22FF; font-weight: bold\">.</span>remap(<span style=\"color: #BA2121\">&quot;SS&quot;</span>, [i_1, j_1])\n",
       "                            T<span style=\"color: #AA22FF; font-weight: bold\">.</span>reads()\n",
       "                            T<span style=\"color: #AA22FF; font-weight: bold\">.</span>writes(C_global_accumulator[vi_o <span style=\"color: #AA22FF; font-weight: bold\">*</span> <span style=\"color: #008000\">16</span> <span style=\"color: #AA22FF; font-weight: bold\">+</span> vi_i_init, vj_o <span style=\"color: #AA22FF; font-weight: bold\">*</span> <span style=\"color: #008000\">16</span> <span style=\"color: #AA22FF; font-weight: bold\">+</span> vj_i_init])\n",
       "                            C_global_accumulator[vi_o <span style=\"color: #AA22FF; font-weight: bold\">*</span> <span style=\"color: #008000\">16</span> <span style=\"color: #AA22FF; font-weight: bold\">+</span> vi_i_init, vj_o <span style=\"color: #AA22FF; font-weight: bold\">*</span> <span style=\"color: #008000\">16</span> <span style=\"color: #AA22FF; font-weight: bold\">+</span> vj_i_init] <span style=\"color: #AA22FF; font-weight: bold\">=</span> T<span style=\"color: #AA22FF; font-weight: bold\">.</span>float32(<span style=\"color: #008000\">0.0</span>)\n",
       "                <span style=\"color: #008000; font-weight: bold\">for</span> k_0 <span style=\"color: #008000; font-weight: bold\">in</span> range(<span style=\"color: #008000\">64</span>):\n",
       "                    <span style=\"color: #008000; font-weight: bold\">for</span> ax0, ax1 <span style=\"color: #008000; font-weight: bold\">in</span> T<span style=\"color: #AA22FF; font-weight: bold\">.</span>grid(<span style=\"color: #008000\">16</span>, <span style=\"color: #008000\">16</span>):\n",
       "                        <span style=\"color: #008000; font-weight: bold\">with</span> T<span style=\"color: #AA22FF; font-weight: bold\">.</span>block(<span style=\"color: #BA2121\">&quot;A_global.A_reg&quot;</span>):\n",
       "                            v0 <span style=\"color: #AA22FF; font-weight: bold\">=</span> T<span style=\"color: #AA22FF; font-weight: bold\">.</span>axis<span style=\"color: #AA22FF; font-weight: bold\">.</span>spatial(<span style=\"color: #008000\">1024</span>, i_0 <span style=\"color: #AA22FF; font-weight: bold\">*</span> <span style=\"color: #008000\">16</span> <span style=\"color: #AA22FF; font-weight: bold\">+</span> ax0)\n",
       "                            v1 <span style=\"color: #AA22FF; font-weight: bold\">=</span> T<span style=\"color: #AA22FF; font-weight: bold\">.</span>axis<span style=\"color: #AA22FF; font-weight: bold\">.</span>spatial(<span style=\"color: #008000\">1024</span>, k_0 <span style=\"color: #AA22FF; font-weight: bold\">*</span> <span style=\"color: #008000\">16</span> <span style=\"color: #AA22FF; font-weight: bold\">+</span> ax1)\n",
       "                            T<span style=\"color: #AA22FF; font-weight: bold\">.</span>reads(A[v0, v1])\n",
       "                            T<span style=\"color: #AA22FF; font-weight: bold\">.</span>writes(A_global_A_reg[v0, v1])\n",
       "                            A_global_A_reg[v0, v1] <span style=\"color: #AA22FF; font-weight: bold\">=</span> A[v0, v1]\n",
       "                    <span style=\"color: #008000; font-weight: bold\">for</span> ax0, ax1 <span style=\"color: #008000; font-weight: bold\">in</span> T<span style=\"color: #AA22FF; font-weight: bold\">.</span>grid(<span style=\"color: #008000\">16</span>, <span style=\"color: #008000\">16</span>):\n",
       "                        <span style=\"color: #008000; font-weight: bold\">with</span> T<span style=\"color: #AA22FF; font-weight: bold\">.</span>block(<span style=\"color: #BA2121\">&quot;B_global.B_reg&quot;</span>):\n",
       "                            v0 <span style=\"color: #AA22FF; font-weight: bold\">=</span> T<span style=\"color: #AA22FF; font-weight: bold\">.</span>axis<span style=\"color: #AA22FF; font-weight: bold\">.</span>spatial(<span style=\"color: #008000\">1024</span>, j_0 <span style=\"color: #AA22FF; font-weight: bold\">*</span> <span style=\"color: #008000\">16</span> <span style=\"color: #AA22FF; font-weight: bold\">+</span> ax0)\n",
       "                            v1 <span style=\"color: #AA22FF; font-weight: bold\">=</span> T<span style=\"color: #AA22FF; font-weight: bold\">.</span>axis<span style=\"color: #AA22FF; font-weight: bold\">.</span>spatial(<span style=\"color: #008000\">1024</span>, k_0 <span style=\"color: #AA22FF; font-weight: bold\">*</span> <span style=\"color: #008000\">16</span> <span style=\"color: #AA22FF; font-weight: bold\">+</span> ax1)\n",
       "                            T<span style=\"color: #AA22FF; font-weight: bold\">.</span>reads(B[v0, v1])\n",
       "                            T<span style=\"color: #AA22FF; font-weight: bold\">.</span>writes(B_global_B_reg[v0, v1])\n",
       "                            B_global_B_reg[v0, v1] <span style=\"color: #AA22FF; font-weight: bold\">=</span> B[v0, v1]\n",
       "                    <span style=\"color: #008000; font-weight: bold\">with</span> T<span style=\"color: #AA22FF; font-weight: bold\">.</span>block(<span style=\"color: #BA2121\">&quot;matmul_o_update&quot;</span>):\n",
       "                        vi_o, vj_o, vk_o <span style=\"color: #AA22FF; font-weight: bold\">=</span> T<span style=\"color: #AA22FF; font-weight: bold\">.</span>axis<span style=\"color: #AA22FF; font-weight: bold\">.</span>remap(<span style=\"color: #BA2121\">&quot;SSR&quot;</span>, [i_0, j_0, k_0])\n",
       "                        T<span style=\"color: #AA22FF; font-weight: bold\">.</span>reads(C_global_accumulator[vi_o <span style=\"color: #AA22FF; font-weight: bold\">*</span> <span style=\"color: #008000\">16</span>:vi_o <span style=\"color: #AA22FF; font-weight: bold\">*</span> <span style=\"color: #008000\">16</span> <span style=\"color: #AA22FF; font-weight: bold\">+</span> <span style=\"color: #008000\">16</span>, vj_o <span style=\"color: #AA22FF; font-weight: bold\">*</span> <span style=\"color: #008000\">16</span>:vj_o <span style=\"color: #AA22FF; font-weight: bold\">*</span> <span style=\"color: #008000\">16</span> <span style=\"color: #AA22FF; font-weight: bold\">+</span> <span style=\"color: #008000\">16</span>], A_global_A_reg[vi_o <span style=\"color: #AA22FF; font-weight: bold\">*</span> <span style=\"color: #008000\">16</span>:vi_o <span style=\"color: #AA22FF; font-weight: bold\">*</span> <span style=\"color: #008000\">16</span> <span style=\"color: #AA22FF; font-weight: bold\">+</span> <span style=\"color: #008000\">16</span>, vk_o <span style=\"color: #AA22FF; font-weight: bold\">*</span> <span style=\"color: #008000\">16</span>:vk_o <span style=\"color: #AA22FF; font-weight: bold\">*</span> <span style=\"color: #008000\">16</span> <span style=\"color: #AA22FF; font-weight: bold\">+</span> <span style=\"color: #008000\">16</span>], B_global_B_reg[vj_o <span style=\"color: #AA22FF; font-weight: bold\">*</span> <span style=\"color: #008000\">16</span>:vj_o <span style=\"color: #AA22FF; font-weight: bold\">*</span> <span style=\"color: #008000\">16</span> <span style=\"color: #AA22FF; font-weight: bold\">+</span> <span style=\"color: #008000\">16</span>, vk_o <span style=\"color: #AA22FF; font-weight: bold\">*</span> <span style=\"color: #008000\">16</span>:vk_o <span style=\"color: #AA22FF; font-weight: bold\">*</span> <span style=\"color: #008000\">16</span> <span style=\"color: #AA22FF; font-weight: bold\">+</span> <span style=\"color: #008000\">16</span>])\n",
       "                        T<span style=\"color: #AA22FF; font-weight: bold\">.</span>writes(C_global_accumulator[vi_o <span style=\"color: #AA22FF; font-weight: bold\">*</span> <span style=\"color: #008000\">16</span>:vi_o <span style=\"color: #AA22FF; font-weight: bold\">*</span> <span style=\"color: #008000\">16</span> <span style=\"color: #AA22FF; font-weight: bold\">+</span> <span style=\"color: #008000\">16</span>, vj_o <span style=\"color: #AA22FF; font-weight: bold\">*</span> <span style=\"color: #008000\">16</span>:vj_o <span style=\"color: #AA22FF; font-weight: bold\">*</span> <span style=\"color: #008000\">16</span> <span style=\"color: #AA22FF; font-weight: bold\">+</span> <span style=\"color: #008000\">16</span>])\n",
       "                        A_1 <span style=\"color: #AA22FF; font-weight: bold\">=</span> T<span style=\"color: #AA22FF; font-weight: bold\">.</span>match_buffer(A_global_A_reg[vi_o <span style=\"color: #AA22FF; font-weight: bold\">*</span> <span style=\"color: #008000\">16</span>:vi_o <span style=\"color: #AA22FF; font-weight: bold\">*</span> <span style=\"color: #008000\">16</span> <span style=\"color: #AA22FF; font-weight: bold\">+</span> <span style=\"color: #008000\">16</span>, vk_o <span style=\"color: #AA22FF; font-weight: bold\">*</span> <span style=\"color: #008000\">16</span>:vk_o <span style=\"color: #AA22FF; font-weight: bold\">*</span> <span style=\"color: #008000\">16</span> <span style=\"color: #AA22FF; font-weight: bold\">+</span> <span style=\"color: #008000\">16</span>], (<span style=\"color: #008000\">16</span>, <span style=\"color: #008000\">16</span>), strides<span style=\"color: #AA22FF; font-weight: bold\">=</span>(<span style=\"color: #BA2121\">&quot;A_s0&quot;</span>, <span style=\"color: #008000\">1</span>), scope<span style=\"color: #AA22FF; font-weight: bold\">=</span><span style=\"color: #BA2121\">&quot;global.A_reg&quot;</span>, offset_factor<span style=\"color: #AA22FF; font-weight: bold\">=</span><span style=\"color: #008000\">16</span>)\n",
       "                        B_1 <span style=\"color: #AA22FF; font-weight: bold\">=</span> T<span style=\"color: #AA22FF; font-weight: bold\">.</span>match_buffer(B_global_B_reg[vj_o <span style=\"color: #AA22FF; font-weight: bold\">*</span> <span style=\"color: #008000\">16</span>:vj_o <span style=\"color: #AA22FF; font-weight: bold\">*</span> <span style=\"color: #008000\">16</span> <span style=\"color: #AA22FF; font-weight: bold\">+</span> <span style=\"color: #008000\">16</span>, vk_o <span style=\"color: #AA22FF; font-weight: bold\">*</span> <span style=\"color: #008000\">16</span>:vk_o <span style=\"color: #AA22FF; font-weight: bold\">*</span> <span style=\"color: #008000\">16</span> <span style=\"color: #AA22FF; font-weight: bold\">+</span> <span style=\"color: #008000\">16</span>], (<span style=\"color: #008000\">16</span>, <span style=\"color: #008000\">16</span>), strides<span style=\"color: #AA22FF; font-weight: bold\">=</span>(<span style=\"color: #BA2121\">&quot;B_s0&quot;</span>, <span style=\"color: #008000\">1</span>), scope<span style=\"color: #AA22FF; font-weight: bold\">=</span><span style=\"color: #BA2121\">&quot;global.B_reg&quot;</span>, offset_factor<span style=\"color: #AA22FF; font-weight: bold\">=</span><span style=\"color: #008000\">16</span>)\n",
       "                        C_1 <span style=\"color: #AA22FF; font-weight: bold\">=</span> T<span style=\"color: #AA22FF; font-weight: bold\">.</span>match_buffer(C_global_accumulator[vi_o <span style=\"color: #AA22FF; font-weight: bold\">*</span> <span style=\"color: #008000\">16</span>:vi_o <span style=\"color: #AA22FF; font-weight: bold\">*</span> <span style=\"color: #008000\">16</span> <span style=\"color: #AA22FF; font-weight: bold\">+</span> <span style=\"color: #008000\">16</span>, vj_o <span style=\"color: #AA22FF; font-weight: bold\">*</span> <span style=\"color: #008000\">16</span>:vj_o <span style=\"color: #AA22FF; font-weight: bold\">*</span> <span style=\"color: #008000\">16</span> <span style=\"color: #AA22FF; font-weight: bold\">+</span> <span style=\"color: #008000\">16</span>], (<span style=\"color: #008000\">16</span>, <span style=\"color: #008000\">16</span>), strides<span style=\"color: #AA22FF; font-weight: bold\">=</span>(<span style=\"color: #BA2121\">&quot;C_s0&quot;</span>, <span style=\"color: #008000\">1</span>), scope<span style=\"color: #AA22FF; font-weight: bold\">=</span><span style=\"color: #BA2121\">&quot;global.accumulator&quot;</span>, offset_factor<span style=\"color: #AA22FF; font-weight: bold\">=</span><span style=\"color: #008000\">16</span>)\n",
       "                        T<span style=\"color: #AA22FF; font-weight: bold\">.</span>call_extern(<span style=\"color: #BA2121\">&quot;int32&quot;</span>, <span style=\"color: #BA2121\">&quot;tmm16&quot;</span>, T<span style=\"color: #AA22FF; font-weight: bold\">.</span>tvm_access_ptr(T<span style=\"color: #AA22FF; font-weight: bold\">.</span>type_annotation(<span style=\"color: #BA2121\">&quot;float32&quot;</span>), C_1<span style=\"color: #AA22FF; font-weight: bold\">.</span>data, C_1<span style=\"color: #AA22FF; font-weight: bold\">.</span>elem_offset, C_1<span style=\"color: #AA22FF; font-weight: bold\">.</span>strides[<span style=\"color: #008000\">0</span>] <span style=\"color: #AA22FF; font-weight: bold\">*</span> <span style=\"color: #008000\">16</span>, <span style=\"color: #008000\">2</span>), T<span style=\"color: #AA22FF; font-weight: bold\">.</span>tvm_access_ptr(T<span style=\"color: #AA22FF; font-weight: bold\">.</span>type_annotation(<span style=\"color: #BA2121\">&quot;float32&quot;</span>), A_1<span style=\"color: #AA22FF; font-weight: bold\">.</span>data, A_1<span style=\"color: #AA22FF; font-weight: bold\">.</span>elem_offset, A_1<span style=\"color: #AA22FF; font-weight: bold\">.</span>strides[<span style=\"color: #008000\">0</span>] <span style=\"color: #AA22FF; font-weight: bold\">*</span> <span style=\"color: #008000\">16</span>, <span style=\"color: #008000\">1</span>), T<span style=\"color: #AA22FF; font-weight: bold\">.</span>tvm_access_ptr(T<span style=\"color: #AA22FF; font-weight: bold\">.</span>type_annotation(<span style=\"color: #BA2121\">&quot;float32&quot;</span>), B_1<span style=\"color: #AA22FF; font-weight: bold\">.</span>data, B_1<span style=\"color: #AA22FF; font-weight: bold\">.</span>elem_offset, B_1<span style=\"color: #AA22FF; font-weight: bold\">.</span>strides[<span style=\"color: #008000\">0</span>] <span style=\"color: #AA22FF; font-weight: bold\">*</span> <span style=\"color: #008000\">16</span>, <span style=\"color: #008000\">1</span>), A_1<span style=\"color: #AA22FF; font-weight: bold\">.</span>strides[<span style=\"color: #008000\">0</span>], B_1<span style=\"color: #AA22FF; font-weight: bold\">.</span>strides[<span style=\"color: #008000\">0</span>], C_1<span style=\"color: #AA22FF; font-weight: bold\">.</span>strides[<span style=\"color: #008000\">0</span>])\n",
       "                <span style=\"color: #008000; font-weight: bold\">for</span> ax0, ax1 <span style=\"color: #008000; font-weight: bold\">in</span> T<span style=\"color: #AA22FF; font-weight: bold\">.</span>grid(<span style=\"color: #008000\">16</span>, <span style=\"color: #008000\">16</span>):\n",
       "                    <span style=\"color: #008000; font-weight: bold\">with</span> T<span style=\"color: #AA22FF; font-weight: bold\">.</span>block(<span style=\"color: #BA2121\">&quot;C_global.accumulator&quot;</span>):\n",
       "                        v0 <span style=\"color: #AA22FF; font-weight: bold\">=</span> T<span style=\"color: #AA22FF; font-weight: bold\">.</span>axis<span style=\"color: #AA22FF; font-weight: bold\">.</span>spatial(<span style=\"color: #008000\">1024</span>, i_0 <span style=\"color: #AA22FF; font-weight: bold\">*</span> <span style=\"color: #008000\">16</span> <span style=\"color: #AA22FF; font-weight: bold\">+</span> ax0)\n",
       "                        v1 <span style=\"color: #AA22FF; font-weight: bold\">=</span> T<span style=\"color: #AA22FF; font-weight: bold\">.</span>axis<span style=\"color: #AA22FF; font-weight: bold\">.</span>spatial(<span style=\"color: #008000\">1024</span>, j_0 <span style=\"color: #AA22FF; font-weight: bold\">*</span> <span style=\"color: #008000\">16</span> <span style=\"color: #AA22FF; font-weight: bold\">+</span> ax1)\n",
       "                        T<span style=\"color: #AA22FF; font-weight: bold\">.</span>reads(C_global_accumulator[v0, v1])\n",
       "                        T<span style=\"color: #AA22FF; font-weight: bold\">.</span>writes(C[v0, v1])\n",
       "                        C[v0, v1] <span style=\"color: #AA22FF; font-weight: bold\">=</span> C_global_accumulator[v0, v1]\n",
       "\n",
       "<span style=\"color: #007979; font-style: italic\"># Metadata omitted. Use show_meta=True in script() method to show it.</span>\n",
       "</pre></div>\n"
      ],
      "text/plain": [
       "<IPython.core.display.HTML object>"
      ]
     },
     "metadata": {},
     "output_type": "display_data"
    }
   ],
   "source": [
    "sch.mod.show()"
   ]
  },
  {
   "cell_type": "code",
   "execution_count": 11,
   "id": "ff636dae-a077-4dee-bb67-a92d98b827db",
   "metadata": {},
   "outputs": [
    {
     "name": "stderr",
     "output_type": "stream",
     "text": [
      "[16:36:47] /home/yrx/develop/my/tvm/src/target/target_info.cc:45: Warning: MemoryInfo for scope = global.accumulator is undefined\n",
      "[16:36:47] /home/yrx/develop/my/tvm/src/target/target_info.cc:45: Warning: MemoryInfo for scope = global.A_reg is undefined\n",
      "[16:36:47] /home/yrx/develop/my/tvm/src/target/target_info.cc:45: Warning: MemoryInfo for scope = global.B_reg is undefined\n"
     ]
    }
   ],
   "source": [
    "a_nd = tvm.nd.array(a_np)\n",
    "b_nd = tvm.nd.array(b_np)\n",
    "\n",
    "c_nd = tvm.nd.empty((1024, 1024), dtype=\"float32\")\n",
    "\n",
    "lib = tvm.build(sch.mod, target=\"llvm\")\n",
    "lib[\"main\"](a_nd, b_nd, c_nd)\n",
    "np.testing.assert_allclose(c_nd.numpy(), c_tmm, rtol=1e-5)"
   ]
  },
  {
   "cell_type": "code",
   "execution_count": null,
   "id": "03717200-e6f9-4dcd-aba8-b90fd9912620",
   "metadata": {},
   "outputs": [],
   "source": []
  }
 ],
 "metadata": {
  "kernelspec": {
   "display_name": "Python 3 (ipykernel)",
   "language": "python",
   "name": "python3"
  },
  "language_info": {
   "codemirror_mode": {
    "name": "ipython",
    "version": 3
   },
   "file_extension": ".py",
   "mimetype": "text/x-python",
   "name": "python",
   "nbconvert_exporter": "python",
   "pygments_lexer": "ipython3",
   "version": "3.8.19"
  }
 },
 "nbformat": 4,
 "nbformat_minor": 5
}
