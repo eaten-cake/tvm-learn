{
 "cells": [
  {
   "cell_type": "code",
   "execution_count": 7,
   "id": "3eaae873-466f-46b1-b386-4482b6fe62fe",
   "metadata": {},
   "outputs": [],
   "source": [
    "from __future__ import absolute_import, print_function\n",
    "\n",
    "import tvm\n",
    "from tvm import te\n",
    "import numpy as np\n",
    "from tvm.contrib import cblas\n",
    "import tvm.testing\n",
    "\n",
    "import IPython as ipython\n",
    "\n",
    "if not tvm.get_global_func(\"tvm.contrib.cblas.matmul\", allow_missing=True):\n",
    "    raise Exception(\"Not compiled with cblas support; can't build this tutorial\")"
   ]
  },
  {
   "cell_type": "code",
   "execution_count": 2,
   "id": "bf69d7c2-77a3-4b27-bd05-eeb66ca7a7b7",
   "metadata": {},
   "outputs": [],
   "source": [
    "n = 1024\n",
    "l = 128\n",
    "m = 235\n",
    "bias = te.var(\"bias\", dtype=\"float32\")\n",
    "A = te.placeholder((n, l), name=\"A\")\n",
    "B = te.placeholder((l, m), name=\"B\")\n",
    "C = te.extern(\n",
    "    (n, m),\n",
    "    [A, B],\n",
    "    lambda ins, outs: tvm.tir.call_packed(\n",
    "        \"tvm.contrib.cblas.matmul\", ins[0], ins[1], outs[0], False, False\n",
    "    ),\n",
    "    name=\"C\",\n",
    ")\n",
    "D = te.compute(C.shape, lambda i, j: C[i, j] + bias, name=\"D\")\n",
    "s = te.create_schedule(D.op)"
   ]
  },
  {
   "cell_type": "code",
   "execution_count": 4,
   "id": "4f630bf8-56bc-4e53-827c-70e205c4107a",
   "metadata": {},
   "outputs": [],
   "source": [
    "dev = tvm.cpu(0)\n",
    "f = tvm.build(s, [A, B, D, bias], \"llvm\")\n",
    "a = tvm.nd.array(np.random.uniform(size=(n, l)).astype(A.dtype), dev)\n",
    "b = tvm.nd.array(np.random.uniform(size=(l, m)).astype(B.dtype), dev)\n",
    "d = tvm.nd.array(np.zeros((n, m), dtype=D.dtype), dev)\n",
    "bb = 10.0\n",
    "f(a, b, d, bb)\n",
    "tvm.testing.assert_allclose(d.numpy(), np.dot(a.numpy(), b.numpy()) + 10, rtol=1e-5)"
   ]
  },
  {
   "cell_type": "code",
   "execution_count": 5,
   "id": "546174ea-02c4-49bd-b7e6-d59ee90d844a",
   "metadata": {},
   "outputs": [],
   "source": [
    "from tvm.contrib import cblas\n",
    "\n",
    "C = cblas.matmul(A, B)\n",
    "D = te.compute(C.shape, lambda i, j: C[i, j] + bias, name=\"D\")\n",
    "s = te.create_schedule(D.op)"
   ]
  },
  {
   "cell_type": "code",
   "execution_count": 6,
   "id": "cf43b323-57ce-4758-a35e-8990c638aa90",
   "metadata": {},
   "outputs": [
    {
     "name": "stdout",
     "output_type": "stream",
     "text": [
      "my_tvm_addone signatures: <class 'tvm.runtime.ndarray.NDArray'>, <class 'tvm.runtime.ndarray.NDArray'>\n"
     ]
    }
   ],
   "source": [
    "@tvm.register_func(\"tvm.contrib.my_tvm_addone\")\n",
    "def my_tvm_addone(x, y):\n",
    "    print(\"my_tvm_addone signatures: %s, %s\" % (type(x), type(y)))\n",
    "    tvm.nd.array(x.numpy() + 1).copyto(y)\n",
    "\n",
    "A = te.placeholder((n,), name=\"A\")\n",
    "B = te.extern(\n",
    "    A.shape,\n",
    "    [A],\n",
    "    lambda ins, outs: tvm.tir.call_packed(\"tvm.contrib.my_tvm_addone\", ins[0], outs[0]),\n",
    "    name=\"C\",\n",
    ")\n",
    "s = te.create_schedule(B.op)\n",
    "f = tvm.build(s, [A, B], \"llvm\")\n",
    "a = tvm.nd.array(np.random.uniform(size=(n,)).astype(A.dtype), dev)\n",
    "b = tvm.nd.array(np.random.uniform(size=(n,)).astype(B.dtype), dev)\n",
    "f(a, b)\n",
    "tvm.testing.assert_allclose(b.numpy(), a.numpy() + 1, rtol=1e-5)"
   ]
  },
  {
   "cell_type": "code",
   "execution_count": 8,
   "id": "58dd6c3a-0388-4876-86c4-5ba1cebd303e",
   "metadata": {},
   "outputs": [
    {
     "data": {
      "text/html": [
       "<style>pre { line-height: 125%; }\n",
       "td.linenos .normal { color: inherit; background-color: transparent; padding-left: 5px; padding-right: 5px; }\n",
       "span.linenos { color: inherit; background-color: transparent; padding-left: 5px; padding-right: 5px; }\n",
       "td.linenos .special { color: #000000; background-color: #ffffc0; padding-left: 5px; padding-right: 5px; }\n",
       "span.linenos.special { color: #000000; background-color: #ffffc0; padding-left: 5px; padding-right: 5px; }\n",
       ".output_html .hll { background-color: #ffffcc }\n",
       ".output_html { background: #f8f8f8; }\n",
       ".output_html .c { color: #3D7B7B; font-style: italic } /* Comment */\n",
       ".output_html .err { border: 1px solid #FF0000 } /* Error */\n",
       ".output_html .k { color: #008000; font-weight: bold } /* Keyword */\n",
       ".output_html .o { color: #666666 } /* Operator */\n",
       ".output_html .ch { color: #3D7B7B; font-style: italic } /* Comment.Hashbang */\n",
       ".output_html .cm { color: #3D7B7B; font-style: italic } /* Comment.Multiline */\n",
       ".output_html .cp { color: #9C6500 } /* Comment.Preproc */\n",
       ".output_html .cpf { color: #3D7B7B; font-style: italic } /* Comment.PreprocFile */\n",
       ".output_html .c1 { color: #3D7B7B; font-style: italic } /* Comment.Single */\n",
       ".output_html .cs { color: #3D7B7B; font-style: italic } /* Comment.Special */\n",
       ".output_html .gd { color: #A00000 } /* Generic.Deleted */\n",
       ".output_html .ge { font-style: italic } /* Generic.Emph */\n",
       ".output_html .ges { font-weight: bold; font-style: italic } /* Generic.EmphStrong */\n",
       ".output_html .gr { color: #E40000 } /* Generic.Error */\n",
       ".output_html .gh { color: #000080; font-weight: bold } /* Generic.Heading */\n",
       ".output_html .gi { color: #008400 } /* Generic.Inserted */\n",
       ".output_html .go { color: #717171 } /* Generic.Output */\n",
       ".output_html .gp { color: #000080; font-weight: bold } /* Generic.Prompt */\n",
       ".output_html .gs { font-weight: bold } /* Generic.Strong */\n",
       ".output_html .gu { color: #800080; font-weight: bold } /* Generic.Subheading */\n",
       ".output_html .gt { color: #0044DD } /* Generic.Traceback */\n",
       ".output_html .kc { color: #008000; font-weight: bold } /* Keyword.Constant */\n",
       ".output_html .kd { color: #008000; font-weight: bold } /* Keyword.Declaration */\n",
       ".output_html .kn { color: #008000; font-weight: bold } /* Keyword.Namespace */\n",
       ".output_html .kp { color: #008000 } /* Keyword.Pseudo */\n",
       ".output_html .kr { color: #008000; font-weight: bold } /* Keyword.Reserved */\n",
       ".output_html .kt { color: #B00040 } /* Keyword.Type */\n",
       ".output_html .m { color: #666666 } /* Literal.Number */\n",
       ".output_html .s { color: #BA2121 } /* Literal.String */\n",
       ".output_html .na { color: #687822 } /* Name.Attribute */\n",
       ".output_html .nb { color: #008000 } /* Name.Builtin */\n",
       ".output_html .nc { color: #0000FF; font-weight: bold } /* Name.Class */\n",
       ".output_html .no { color: #880000 } /* Name.Constant */\n",
       ".output_html .nd { color: #AA22FF } /* Name.Decorator */\n",
       ".output_html .ni { color: #717171; font-weight: bold } /* Name.Entity */\n",
       ".output_html .ne { color: #CB3F38; font-weight: bold } /* Name.Exception */\n",
       ".output_html .nf { color: #0000FF } /* Name.Function */\n",
       ".output_html .nl { color: #767600 } /* Name.Label */\n",
       ".output_html .nn { color: #0000FF; font-weight: bold } /* Name.Namespace */\n",
       ".output_html .nt { color: #008000; font-weight: bold } /* Name.Tag */\n",
       ".output_html .nv { color: #19177C } /* Name.Variable */\n",
       ".output_html .ow { color: #AA22FF; font-weight: bold } /* Operator.Word */\n",
       ".output_html .w { color: #bbbbbb } /* Text.Whitespace */\n",
       ".output_html .mb { color: #666666 } /* Literal.Number.Bin */\n",
       ".output_html .mf { color: #666666 } /* Literal.Number.Float */\n",
       ".output_html .mh { color: #666666 } /* Literal.Number.Hex */\n",
       ".output_html .mi { color: #666666 } /* Literal.Number.Integer */\n",
       ".output_html .mo { color: #666666 } /* Literal.Number.Oct */\n",
       ".output_html .sa { color: #BA2121 } /* Literal.String.Affix */\n",
       ".output_html .sb { color: #BA2121 } /* Literal.String.Backtick */\n",
       ".output_html .sc { color: #BA2121 } /* Literal.String.Char */\n",
       ".output_html .dl { color: #BA2121 } /* Literal.String.Delimiter */\n",
       ".output_html .sd { color: #BA2121; font-style: italic } /* Literal.String.Doc */\n",
       ".output_html .s2 { color: #BA2121 } /* Literal.String.Double */\n",
       ".output_html .se { color: #AA5D1F; font-weight: bold } /* Literal.String.Escape */\n",
       ".output_html .sh { color: #BA2121 } /* Literal.String.Heredoc */\n",
       ".output_html .si { color: #A45A77; font-weight: bold } /* Literal.String.Interpol */\n",
       ".output_html .sx { color: #008000 } /* Literal.String.Other */\n",
       ".output_html .sr { color: #A45A77 } /* Literal.String.Regex */\n",
       ".output_html .s1 { color: #BA2121 } /* Literal.String.Single */\n",
       ".output_html .ss { color: #19177C } /* Literal.String.Symbol */\n",
       ".output_html .bp { color: #008000 } /* Name.Builtin.Pseudo */\n",
       ".output_html .fm { color: #0000FF } /* Name.Function.Magic */\n",
       ".output_html .vc { color: #19177C } /* Name.Variable.Class */\n",
       ".output_html .vg { color: #19177C } /* Name.Variable.Global */\n",
       ".output_html .vi { color: #19177C } /* Name.Variable.Instance */\n",
       ".output_html .vm { color: #19177C } /* Name.Variable.Magic */\n",
       ".output_html .il { color: #666666 } /* Literal.Number.Integer.Long */</style><div class=\"highlight\"><pre><span></span><span class=\"c1\"># from tvm.script import ir as I</span>\n",
       "<span class=\"c1\"># from tvm.script import tir as T</span>\n",
       "\n",
       "<span class=\"nd\">@I</span><span class=\"o\">.</span><span class=\"n\">ir_module</span>\n",
       "<span class=\"k\">class</span> <span class=\"nc\">Module</span><span class=\"p\">:</span>\n",
       "    <span class=\"nd\">@T</span><span class=\"o\">.</span><span class=\"n\">prim_func</span>\n",
       "    <span class=\"k\">def</span> <span class=\"nf\">main</span><span class=\"p\">(</span><span class=\"n\">A</span><span class=\"p\">:</span> <span class=\"n\">T</span><span class=\"o\">.</span><span class=\"n\">Buffer</span><span class=\"p\">((</span><span class=\"mi\">1024</span><span class=\"p\">,),</span> <span class=\"s2\">&quot;float32&quot;</span><span class=\"p\">),</span> <span class=\"n\">C</span><span class=\"p\">:</span> <span class=\"n\">T</span><span class=\"o\">.</span><span class=\"n\">Buffer</span><span class=\"p\">((</span><span class=\"mi\">1024</span><span class=\"p\">,),</span> <span class=\"s2\">&quot;float32&quot;</span><span class=\"p\">)):</span>\n",
       "        <span class=\"n\">T</span><span class=\"o\">.</span><span class=\"n\">func_attr</span><span class=\"p\">({</span><span class=\"s2\">&quot;from_legacy_te_schedule&quot;</span><span class=\"p\">:</span> <span class=\"n\">T</span><span class=\"o\">.</span><span class=\"n\">bool</span><span class=\"p\">(</span><span class=\"kc\">True</span><span class=\"p\">),</span> <span class=\"s2\">&quot;tir.noalias&quot;</span><span class=\"p\">:</span> <span class=\"n\">T</span><span class=\"o\">.</span><span class=\"n\">bool</span><span class=\"p\">(</span><span class=\"kc\">True</span><span class=\"p\">)})</span>\n",
       "        <span class=\"n\">T</span><span class=\"o\">.</span><span class=\"n\">attr</span><span class=\"p\">(</span><span class=\"mi\">0</span><span class=\"p\">,</span> <span class=\"s2\">&quot;extern_scope&quot;</span><span class=\"p\">,</span> <span class=\"mi\">0</span><span class=\"p\">)</span>\n",
       "        <span class=\"n\">T</span><span class=\"o\">.</span><span class=\"n\">call_packed</span><span class=\"p\">(</span><span class=\"s2\">&quot;tvm.contrib.my_tvm_addone&quot;</span><span class=\"p\">,</span> <span class=\"n\">T</span><span class=\"o\">.</span><span class=\"n\">tvm_stack_make_array</span><span class=\"p\">(</span><span class=\"n\">A</span><span class=\"o\">.</span><span class=\"n\">data</span><span class=\"p\">,</span> <span class=\"n\">T</span><span class=\"o\">.</span><span class=\"n\">tvm_stack_make_shape</span><span class=\"p\">(</span><span class=\"mi\">1024</span><span class=\"p\">),</span> <span class=\"mi\">0</span><span class=\"p\">,</span> <span class=\"mi\">1</span><span class=\"p\">,</span> <span class=\"n\">T</span><span class=\"o\">.</span><span class=\"n\">float32</span><span class=\"p\">(</span><span class=\"mi\">0</span><span class=\"p\">),</span> <span class=\"mi\">0</span><span class=\"p\">),</span> <span class=\"n\">T</span><span class=\"o\">.</span><span class=\"n\">tvm_stack_make_array</span><span class=\"p\">(</span><span class=\"n\">C</span><span class=\"o\">.</span><span class=\"n\">data</span><span class=\"p\">,</span> <span class=\"n\">T</span><span class=\"o\">.</span><span class=\"n\">tvm_stack_make_shape</span><span class=\"p\">(</span><span class=\"mi\">1024</span><span class=\"p\">),</span> <span class=\"mi\">0</span><span class=\"p\">,</span> <span class=\"mi\">1</span><span class=\"p\">,</span> <span class=\"n\">T</span><span class=\"o\">.</span><span class=\"n\">float32</span><span class=\"p\">(</span><span class=\"mi\">0</span><span class=\"p\">),</span> <span class=\"mi\">0</span><span class=\"p\">))</span>\n",
       "</pre></div>\n"
      ],
      "text/latex": [
       "\\begin{Verbatim}[commandchars=\\\\\\{\\}]\n",
       "\\PY{c+c1}{\\PYZsh{} from tvm.script import ir as I}\n",
       "\\PY{c+c1}{\\PYZsh{} from tvm.script import tir as T}\n",
       "\n",
       "\\PY{n+nd}{@I}\\PY{o}{.}\\PY{n}{ir\\PYZus{}module}\n",
       "\\PY{k}{class} \\PY{n+nc}{Module}\\PY{p}{:}\n",
       "    \\PY{n+nd}{@T}\\PY{o}{.}\\PY{n}{prim\\PYZus{}func}\n",
       "    \\PY{k}{def} \\PY{n+nf}{main}\\PY{p}{(}\\PY{n}{A}\\PY{p}{:} \\PY{n}{T}\\PY{o}{.}\\PY{n}{Buffer}\\PY{p}{(}\\PY{p}{(}\\PY{l+m+mi}{1024}\\PY{p}{,}\\PY{p}{)}\\PY{p}{,} \\PY{l+s+s2}{\\PYZdq{}}\\PY{l+s+s2}{float32}\\PY{l+s+s2}{\\PYZdq{}}\\PY{p}{)}\\PY{p}{,} \\PY{n}{C}\\PY{p}{:} \\PY{n}{T}\\PY{o}{.}\\PY{n}{Buffer}\\PY{p}{(}\\PY{p}{(}\\PY{l+m+mi}{1024}\\PY{p}{,}\\PY{p}{)}\\PY{p}{,} \\PY{l+s+s2}{\\PYZdq{}}\\PY{l+s+s2}{float32}\\PY{l+s+s2}{\\PYZdq{}}\\PY{p}{)}\\PY{p}{)}\\PY{p}{:}\n",
       "        \\PY{n}{T}\\PY{o}{.}\\PY{n}{func\\PYZus{}attr}\\PY{p}{(}\\PY{p}{\\PYZob{}}\\PY{l+s+s2}{\\PYZdq{}}\\PY{l+s+s2}{from\\PYZus{}legacy\\PYZus{}te\\PYZus{}schedule}\\PY{l+s+s2}{\\PYZdq{}}\\PY{p}{:} \\PY{n}{T}\\PY{o}{.}\\PY{n}{bool}\\PY{p}{(}\\PY{k+kc}{True}\\PY{p}{)}\\PY{p}{,} \\PY{l+s+s2}{\\PYZdq{}}\\PY{l+s+s2}{tir.noalias}\\PY{l+s+s2}{\\PYZdq{}}\\PY{p}{:} \\PY{n}{T}\\PY{o}{.}\\PY{n}{bool}\\PY{p}{(}\\PY{k+kc}{True}\\PY{p}{)}\\PY{p}{\\PYZcb{}}\\PY{p}{)}\n",
       "        \\PY{n}{T}\\PY{o}{.}\\PY{n}{attr}\\PY{p}{(}\\PY{l+m+mi}{0}\\PY{p}{,} \\PY{l+s+s2}{\\PYZdq{}}\\PY{l+s+s2}{extern\\PYZus{}scope}\\PY{l+s+s2}{\\PYZdq{}}\\PY{p}{,} \\PY{l+m+mi}{0}\\PY{p}{)}\n",
       "        \\PY{n}{T}\\PY{o}{.}\\PY{n}{call\\PYZus{}packed}\\PY{p}{(}\\PY{l+s+s2}{\\PYZdq{}}\\PY{l+s+s2}{tvm.contrib.my\\PYZus{}tvm\\PYZus{}addone}\\PY{l+s+s2}{\\PYZdq{}}\\PY{p}{,} \\PY{n}{T}\\PY{o}{.}\\PY{n}{tvm\\PYZus{}stack\\PYZus{}make\\PYZus{}array}\\PY{p}{(}\\PY{n}{A}\\PY{o}{.}\\PY{n}{data}\\PY{p}{,} \\PY{n}{T}\\PY{o}{.}\\PY{n}{tvm\\PYZus{}stack\\PYZus{}make\\PYZus{}shape}\\PY{p}{(}\\PY{l+m+mi}{1024}\\PY{p}{)}\\PY{p}{,} \\PY{l+m+mi}{0}\\PY{p}{,} \\PY{l+m+mi}{1}\\PY{p}{,} \\PY{n}{T}\\PY{o}{.}\\PY{n}{float32}\\PY{p}{(}\\PY{l+m+mi}{0}\\PY{p}{)}\\PY{p}{,} \\PY{l+m+mi}{0}\\PY{p}{)}\\PY{p}{,} \\PY{n}{T}\\PY{o}{.}\\PY{n}{tvm\\PYZus{}stack\\PYZus{}make\\PYZus{}array}\\PY{p}{(}\\PY{n}{C}\\PY{o}{.}\\PY{n}{data}\\PY{p}{,} \\PY{n}{T}\\PY{o}{.}\\PY{n}{tvm\\PYZus{}stack\\PYZus{}make\\PYZus{}shape}\\PY{p}{(}\\PY{l+m+mi}{1024}\\PY{p}{)}\\PY{p}{,} \\PY{l+m+mi}{0}\\PY{p}{,} \\PY{l+m+mi}{1}\\PY{p}{,} \\PY{n}{T}\\PY{o}{.}\\PY{n}{float32}\\PY{p}{(}\\PY{l+m+mi}{0}\\PY{p}{)}\\PY{p}{,} \\PY{l+m+mi}{0}\\PY{p}{)}\\PY{p}{)}\n",
       "\\end{Verbatim}\n"
      ],
      "text/plain": [
       "# from tvm.script import ir as I\n",
       "# from tvm.script import tir as T\n",
       "\n",
       "@I.ir_module\n",
       "class Module:\n",
       "    @T.prim_func\n",
       "    def main(A: T.Buffer((1024,), \"float32\"), C: T.Buffer((1024,), \"float32\")):\n",
       "        T.func_attr({\"from_legacy_te_schedule\": T.bool(True), \"tir.noalias\": T.bool(True)})\n",
       "        T.attr(0, \"extern_scope\", 0)\n",
       "        T.call_packed(\"tvm.contrib.my_tvm_addone\", T.tvm_stack_make_array(A.data, T.tvm_stack_make_shape(1024), 0, 1, T.float32(0), 0), T.tvm_stack_make_array(C.data, T.tvm_stack_make_shape(1024), 0, 1, T.float32(0), 0))"
      ]
     },
     "execution_count": 8,
     "metadata": {},
     "output_type": "execute_result"
    }
   ],
   "source": [
    "ipython.display.Code(tvm.lower(s, [A, B]).script(), language=\"python\")"
   ]
  }
 ],
 "metadata": {
  "kernelspec": {
   "display_name": "Python 3 (ipykernel)",
   "language": "python",
   "name": "python3"
  },
  "language_info": {
   "codemirror_mode": {
    "name": "ipython",
    "version": 3
   },
   "file_extension": ".py",
   "mimetype": "text/x-python",
   "name": "python",
   "nbconvert_exporter": "python",
   "pygments_lexer": "ipython3",
   "version": "3.8.19"
  }
 },
 "nbformat": 4,
 "nbformat_minor": 5
}
